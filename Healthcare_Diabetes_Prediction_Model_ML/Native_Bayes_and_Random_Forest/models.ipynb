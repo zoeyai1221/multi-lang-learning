{
 "cells": [
  {
   "cell_type": "markdown",
   "id": "51e1a4eb",
   "metadata": {
    "_cell_guid": "b1076dfc-b9ad-4769-8c92-a6c4dae69d19",
    "_uuid": "8f2839f25d086af736a60e9eeb907d3b93b6e0e5",
    "execution": {
     "iopub.execute_input": "2023-10-08T13:37:24.587307Z",
     "iopub.status.busy": "2023-10-08T13:37:24.586942Z",
     "iopub.status.idle": "2023-10-08T13:37:27.336048Z",
     "shell.execute_reply": "2023-10-08T13:37:27.334703Z",
     "shell.execute_reply.started": "2023-10-08T13:37:24.587271Z"
    },
    "papermill": {
     "duration": 0.009025,
     "end_time": "2023-10-08T14:39:45.878271",
     "exception": false,
     "start_time": "2023-10-08T14:39:45.869246",
     "status": "completed"
    },
    "tags": []
   },
   "source": [
    "# 1. Importing Libraries"
   ]
  },
  {
   "cell_type": "code",
   "execution_count": 1,
   "id": "a08d7e21",
   "metadata": {
    "execution": {
     "iopub.execute_input": "2023-10-08T14:39:45.896403Z",
     "iopub.status.busy": "2023-10-08T14:39:45.895758Z",
     "iopub.status.idle": "2023-10-08T14:39:50.917431Z",
     "shell.execute_reply": "2023-10-08T14:39:50.916637Z"
    },
    "papermill": {
     "duration": 5.032667,
     "end_time": "2023-10-08T14:39:50.919088",
     "exception": false,
     "start_time": "2023-10-08T14:39:45.886421",
     "status": "completed"
    },
    "tags": []
   },
   "outputs": [],
   "source": [
    "import numpy as np \n",
    "import pandas as pd \n",
    "import matplotlib.pyplot as plt\n",
    "import seaborn as sns\n",
    "\n",
    "from sklearn. preprocessing import MinMaxScaler\n",
    "from sklearn.model_selection import train_test_split, PredefinedSplit, GridSearchCV\n",
    "from sklearn.naive_bayes import CategoricalNB, BernoulliNB\n",
    "from sklearn.metrics import recall_score, precision_score, accuracy_score, f1_score, confusion_matrix, ConfusionMatrixDisplay\n",
    "from sklearn.metrics import classification_report\n",
    "from sklearn.ensemble import RandomForestClassifier"
   ]
  },
  {
   "cell_type": "markdown",
   "id": "e883a221",
   "metadata": {
    "papermill": {
     "duration": 0.008113,
     "end_time": "2023-10-08T14:39:50.935976",
     "exception": false,
     "start_time": "2023-10-08T14:39:50.927863",
     "status": "completed"
    },
    "tags": []
   },
   "source": [
    "# 2. Importing Dataset"
   ]
  },
  {
   "cell_type": "code",
   "execution_count": 2,
   "id": "f0fd50fe",
   "metadata": {
    "execution": {
     "iopub.execute_input": "2023-10-08T14:39:50.954425Z",
     "iopub.status.busy": "2023-10-08T14:39:50.953853Z",
     "iopub.status.idle": "2023-10-08T14:39:50.976125Z",
     "shell.execute_reply": "2023-10-08T14:39:50.975470Z"
    },
    "papermill": {
     "duration": 0.033723,
     "end_time": "2023-10-08T14:39:50.977991",
     "exception": false,
     "start_time": "2023-10-08T14:39:50.944268",
     "status": "completed"
    },
    "tags": []
   },
   "outputs": [],
   "source": [
    "df = pd.read_csv('Healthcare-Diabetes.csv')"
   ]
  },
  {
   "cell_type": "code",
   "execution_count": 3,
   "id": "85ebd9d2",
   "metadata": {
    "execution": {
     "iopub.execute_input": "2023-10-08T14:39:51.143392Z",
     "iopub.status.busy": "2023-10-08T14:39:51.142250Z",
     "iopub.status.idle": "2023-10-08T14:39:51.157260Z",
     "shell.execute_reply": "2023-10-08T14:39:51.156279Z"
    },
    "papermill": {
     "duration": 0.026361,
     "end_time": "2023-10-08T14:39:51.158968",
     "exception": false,
     "start_time": "2023-10-08T14:39:51.132607",
     "status": "completed"
    },
    "tags": []
   },
   "outputs": [
    {
     "data": {
      "text/html": [
       "<div>\n",
       "<style scoped>\n",
       "    .dataframe tbody tr th:only-of-type {\n",
       "        vertical-align: middle;\n",
       "    }\n",
       "\n",
       "    .dataframe tbody tr th {\n",
       "        vertical-align: top;\n",
       "    }\n",
       "\n",
       "    .dataframe thead th {\n",
       "        text-align: right;\n",
       "    }\n",
       "</style>\n",
       "<table border=\"1\" class=\"dataframe\">\n",
       "  <thead>\n",
       "    <tr style=\"text-align: right;\">\n",
       "      <th></th>\n",
       "      <th>Id</th>\n",
       "      <th>Pregnancies</th>\n",
       "      <th>Glucose</th>\n",
       "      <th>BloodPressure</th>\n",
       "      <th>SkinThickness</th>\n",
       "      <th>Insulin</th>\n",
       "      <th>BMI</th>\n",
       "      <th>DiabetesPedigreeFunction</th>\n",
       "      <th>Age</th>\n",
       "      <th>Diabetic</th>\n",
       "    </tr>\n",
       "  </thead>\n",
       "  <tbody>\n",
       "    <tr>\n",
       "      <th>0</th>\n",
       "      <td>1</td>\n",
       "      <td>6</td>\n",
       "      <td>148</td>\n",
       "      <td>72</td>\n",
       "      <td>35</td>\n",
       "      <td>0</td>\n",
       "      <td>33.6</td>\n",
       "      <td>0.627</td>\n",
       "      <td>50</td>\n",
       "      <td>1</td>\n",
       "    </tr>\n",
       "    <tr>\n",
       "      <th>1</th>\n",
       "      <td>2</td>\n",
       "      <td>1</td>\n",
       "      <td>85</td>\n",
       "      <td>66</td>\n",
       "      <td>29</td>\n",
       "      <td>0</td>\n",
       "      <td>26.6</td>\n",
       "      <td>0.351</td>\n",
       "      <td>31</td>\n",
       "      <td>0</td>\n",
       "    </tr>\n",
       "    <tr>\n",
       "      <th>2</th>\n",
       "      <td>3</td>\n",
       "      <td>8</td>\n",
       "      <td>183</td>\n",
       "      <td>64</td>\n",
       "      <td>0</td>\n",
       "      <td>0</td>\n",
       "      <td>23.3</td>\n",
       "      <td>0.672</td>\n",
       "      <td>32</td>\n",
       "      <td>1</td>\n",
       "    </tr>\n",
       "    <tr>\n",
       "      <th>3</th>\n",
       "      <td>4</td>\n",
       "      <td>1</td>\n",
       "      <td>89</td>\n",
       "      <td>66</td>\n",
       "      <td>23</td>\n",
       "      <td>94</td>\n",
       "      <td>28.1</td>\n",
       "      <td>0.167</td>\n",
       "      <td>21</td>\n",
       "      <td>0</td>\n",
       "    </tr>\n",
       "    <tr>\n",
       "      <th>4</th>\n",
       "      <td>5</td>\n",
       "      <td>0</td>\n",
       "      <td>137</td>\n",
       "      <td>40</td>\n",
       "      <td>35</td>\n",
       "      <td>168</td>\n",
       "      <td>43.1</td>\n",
       "      <td>2.288</td>\n",
       "      <td>33</td>\n",
       "      <td>1</td>\n",
       "    </tr>\n",
       "  </tbody>\n",
       "</table>\n",
       "</div>"
      ],
      "text/plain": [
       "   Id  Pregnancies  Glucose  BloodPressure  SkinThickness  Insulin   BMI  \\\n",
       "0   1            6      148             72             35        0  33.6   \n",
       "1   2            1       85             66             29        0  26.6   \n",
       "2   3            8      183             64              0        0  23.3   \n",
       "3   4            1       89             66             23       94  28.1   \n",
       "4   5            0      137             40             35      168  43.1   \n",
       "\n",
       "   DiabetesPedigreeFunction  Age  Diabetic  \n",
       "0                     0.627   50         1  \n",
       "1                     0.351   31         0  \n",
       "2                     0.672   32         1  \n",
       "3                     0.167   21         0  \n",
       "4                     2.288   33         1  "
      ]
     },
     "execution_count": 3,
     "metadata": {},
     "output_type": "execute_result"
    }
   ],
   "source": [
    "df.rename(columns = {'Outcome' : 'Diabetic'}, inplace = True)\n",
    "df.head(5)"
   ]
  },
  {
   "cell_type": "markdown",
   "id": "26483617",
   "metadata": {
    "papermill": {
     "duration": 0.038844,
     "end_time": "2023-10-08T14:40:27.868888",
     "exception": false,
     "start_time": "2023-10-08T14:40:27.830044",
     "status": "completed"
    },
    "tags": []
   },
   "source": [
    "# 4. Feature Engineering"
   ]
  },
  {
   "cell_type": "markdown",
   "id": "a900bc45",
   "metadata": {
    "papermill": {
     "duration": 0.038619,
     "end_time": "2023-10-08T14:40:27.946348",
     "exception": false,
     "start_time": "2023-10-08T14:40:27.907729",
     "status": "completed"
    },
    "tags": []
   },
   "source": [
    "**Removing the irrelevant variables from the dataset.**\n",
    "\n",
    "The `Id` doesn't help in predicting the outcome variable. Therefore, we will remove it along with other variables which shows very low or no correlation with the target variable."
   ]
  },
  {
   "cell_type": "code",
   "execution_count": 4,
   "id": "67bd1c7d",
   "metadata": {
    "execution": {
     "iopub.execute_input": "2023-10-08T14:40:28.026852Z",
     "iopub.status.busy": "2023-10-08T14:40:28.026432Z",
     "iopub.status.idle": "2023-10-08T14:40:28.038754Z",
     "shell.execute_reply": "2023-10-08T14:40:28.037445Z"
    },
    "papermill": {
     "duration": 0.055425,
     "end_time": "2023-10-08T14:40:28.040693",
     "exception": false,
     "start_time": "2023-10-08T14:40:27.985268",
     "status": "completed"
    },
    "tags": []
   },
   "outputs": [
    {
     "data": {
      "text/html": [
       "<div>\n",
       "<style scoped>\n",
       "    .dataframe tbody tr th:only-of-type {\n",
       "        vertical-align: middle;\n",
       "    }\n",
       "\n",
       "    .dataframe tbody tr th {\n",
       "        vertical-align: top;\n",
       "    }\n",
       "\n",
       "    .dataframe thead th {\n",
       "        text-align: right;\n",
       "    }\n",
       "</style>\n",
       "<table border=\"1\" class=\"dataframe\">\n",
       "  <thead>\n",
       "    <tr style=\"text-align: right;\">\n",
       "      <th></th>\n",
       "      <th>Pregnancies</th>\n",
       "      <th>Glucose</th>\n",
       "      <th>BMI</th>\n",
       "      <th>Age</th>\n",
       "      <th>Diabetic</th>\n",
       "    </tr>\n",
       "  </thead>\n",
       "  <tbody>\n",
       "    <tr>\n",
       "      <th>0</th>\n",
       "      <td>6</td>\n",
       "      <td>148</td>\n",
       "      <td>33.6</td>\n",
       "      <td>50</td>\n",
       "      <td>1</td>\n",
       "    </tr>\n",
       "    <tr>\n",
       "      <th>1</th>\n",
       "      <td>1</td>\n",
       "      <td>85</td>\n",
       "      <td>26.6</td>\n",
       "      <td>31</td>\n",
       "      <td>0</td>\n",
       "    </tr>\n",
       "    <tr>\n",
       "      <th>2</th>\n",
       "      <td>8</td>\n",
       "      <td>183</td>\n",
       "      <td>23.3</td>\n",
       "      <td>32</td>\n",
       "      <td>1</td>\n",
       "    </tr>\n",
       "    <tr>\n",
       "      <th>3</th>\n",
       "      <td>1</td>\n",
       "      <td>89</td>\n",
       "      <td>28.1</td>\n",
       "      <td>21</td>\n",
       "      <td>0</td>\n",
       "    </tr>\n",
       "    <tr>\n",
       "      <th>4</th>\n",
       "      <td>0</td>\n",
       "      <td>137</td>\n",
       "      <td>43.1</td>\n",
       "      <td>33</td>\n",
       "      <td>1</td>\n",
       "    </tr>\n",
       "  </tbody>\n",
       "</table>\n",
       "</div>"
      ],
      "text/plain": [
       "   Pregnancies  Glucose   BMI  Age  Diabetic\n",
       "0            6      148  33.6   50         1\n",
       "1            1       85  26.6   31         0\n",
       "2            8      183  23.3   32         1\n",
       "3            1       89  28.1   21         0\n",
       "4            0      137  43.1   33         1"
      ]
     },
     "execution_count": 4,
     "metadata": {},
     "output_type": "execute_result"
    }
   ],
   "source": [
    "df = df.drop(['Id','BloodPressure', 'SkinThickness','Insulin', 'DiabetesPedigreeFunction'], axis = 1)\n",
    "df.head()"
   ]
  },
  {
   "cell_type": "markdown",
   "id": "d522333e",
   "metadata": {
    "papermill": {
     "duration": 0.03892,
     "end_time": "2023-10-08T14:40:28.118764",
     "exception": false,
     "start_time": "2023-10-08T14:40:28.079844",
     "status": "completed"
    },
    "tags": []
   },
   "source": [
    "- The variables Glucose (0.46) and BMI (0.28) are normally distributed and highly correlated with diabetes, making them strong potential predictor variables. Age (0.23) and Pregnancies (0.22) also show a notable correlation.\n",
    "- In addition, DiabetesPedigreeFunction (0.16) and Insulin (0.12) exhibit some correlation with diabetes.\n",
    "- Given that the outcome variable is a binary categorical variable (diabetic or non-diabetic), we will need classification models to analyze and predict these relationships."
   ]
  },
  {
   "cell_type": "markdown",
   "id": "a3982007",
   "metadata": {
    "papermill": {
     "duration": 0.038722,
     "end_time": "2023-10-08T14:40:28.196302",
     "exception": false,
     "start_time": "2023-10-08T14:40:28.157580",
     "status": "completed"
    },
    "tags": []
   },
   "source": [
    "# 5. Naive Bayes"
   ]
  },
  {
   "cell_type": "code",
   "execution_count": 5,
   "id": "a0e7a7ca",
   "metadata": {
    "execution": {
     "iopub.execute_input": "2023-10-08T14:40:28.277610Z",
     "iopub.status.busy": "2023-10-08T14:40:28.276852Z",
     "iopub.status.idle": "2023-10-08T14:40:28.283932Z",
     "shell.execute_reply": "2023-10-08T14:40:28.282992Z"
    },
    "papermill": {
     "duration": 0.048927,
     "end_time": "2023-10-08T14:40:28.285381",
     "exception": false,
     "start_time": "2023-10-08T14:40:28.236454",
     "status": "completed"
    },
    "tags": []
   },
   "outputs": [
    {
     "data": {
      "text/plain": [
       "0       1\n",
       "1       0\n",
       "2       1\n",
       "3       0\n",
       "4       1\n",
       "       ..\n",
       "2763    0\n",
       "2764    1\n",
       "2765    0\n",
       "2766    1\n",
       "2767    0\n",
       "Name: Diabetic, Length: 2768, dtype: int64"
      ]
     },
     "execution_count": 5,
     "metadata": {},
     "output_type": "execute_result"
    }
   ],
   "source": [
    "# defining predictor variable\n",
    "y = df['Diabetic']\n",
    "y"
   ]
  },
  {
   "cell_type": "code",
   "execution_count": 6,
   "id": "0ebee3ea",
   "metadata": {
    "execution": {
     "iopub.execute_input": "2023-10-08T14:40:28.366795Z",
     "iopub.status.busy": "2023-10-08T14:40:28.366445Z",
     "iopub.status.idle": "2023-10-08T14:40:28.375157Z",
     "shell.execute_reply": "2023-10-08T14:40:28.374554Z"
    },
    "papermill": {
     "duration": 0.051534,
     "end_time": "2023-10-08T14:40:28.377126",
     "exception": false,
     "start_time": "2023-10-08T14:40:28.325592",
     "status": "completed"
    },
    "tags": []
   },
   "outputs": [
    {
     "data": {
      "text/html": [
       "<div>\n",
       "<style scoped>\n",
       "    .dataframe tbody tr th:only-of-type {\n",
       "        vertical-align: middle;\n",
       "    }\n",
       "\n",
       "    .dataframe tbody tr th {\n",
       "        vertical-align: top;\n",
       "    }\n",
       "\n",
       "    .dataframe thead th {\n",
       "        text-align: right;\n",
       "    }\n",
       "</style>\n",
       "<table border=\"1\" class=\"dataframe\">\n",
       "  <thead>\n",
       "    <tr style=\"text-align: right;\">\n",
       "      <th></th>\n",
       "      <th>Pregnancies</th>\n",
       "      <th>Glucose</th>\n",
       "      <th>BMI</th>\n",
       "      <th>Age</th>\n",
       "    </tr>\n",
       "  </thead>\n",
       "  <tbody>\n",
       "    <tr>\n",
       "      <th>0</th>\n",
       "      <td>6</td>\n",
       "      <td>148</td>\n",
       "      <td>33.6</td>\n",
       "      <td>50</td>\n",
       "    </tr>\n",
       "    <tr>\n",
       "      <th>1</th>\n",
       "      <td>1</td>\n",
       "      <td>85</td>\n",
       "      <td>26.6</td>\n",
       "      <td>31</td>\n",
       "    </tr>\n",
       "    <tr>\n",
       "      <th>2</th>\n",
       "      <td>8</td>\n",
       "      <td>183</td>\n",
       "      <td>23.3</td>\n",
       "      <td>32</td>\n",
       "    </tr>\n",
       "    <tr>\n",
       "      <th>3</th>\n",
       "      <td>1</td>\n",
       "      <td>89</td>\n",
       "      <td>28.1</td>\n",
       "      <td>21</td>\n",
       "    </tr>\n",
       "    <tr>\n",
       "      <th>4</th>\n",
       "      <td>0</td>\n",
       "      <td>137</td>\n",
       "      <td>43.1</td>\n",
       "      <td>33</td>\n",
       "    </tr>\n",
       "  </tbody>\n",
       "</table>\n",
       "</div>"
      ],
      "text/plain": [
       "   Pregnancies  Glucose   BMI  Age\n",
       "0            6      148  33.6   50\n",
       "1            1       85  26.6   31\n",
       "2            8      183  23.3   32\n",
       "3            1       89  28.1   21\n",
       "4            0      137  43.1   33"
      ]
     },
     "execution_count": 6,
     "metadata": {},
     "output_type": "execute_result"
    }
   ],
   "source": [
    "# defining target variable\n",
    "\n",
    "x = df.copy()\n",
    "x = x.drop(columns = [ 'Diabetic' ])\n",
    "x.head()"
   ]
  },
  {
   "cell_type": "code",
   "execution_count": 7,
   "id": "2180c0c6",
   "metadata": {
    "execution": {
     "iopub.execute_input": "2023-10-08T14:40:28.462261Z",
     "iopub.status.busy": "2023-10-08T14:40:28.461909Z",
     "iopub.status.idle": "2023-10-08T14:40:28.469279Z",
     "shell.execute_reply": "2023-10-08T14:40:28.468386Z"
    },
    "papermill": {
     "duration": 0.051551,
     "end_time": "2023-10-08T14:40:28.470841",
     "exception": false,
     "start_time": "2023-10-08T14:40:28.419290",
     "status": "completed"
    },
    "tags": []
   },
   "outputs": [
    {
     "name": "stdout",
     "output_type": "stream",
     "text": [
      " x train: (2214, 4) \n",
      " x test:  (554, 4) \n",
      " y train: (2214,) \n",
      " y test:  (554,)\n"
     ]
    }
   ],
   "source": [
    "x_train, x_test, y_train, y_test = train_test_split(x, y, test_size = 0.20, stratify = y, random_state = 0)\n",
    "print(f\" x train: {x_train.shape} \\n x test:  {x_test.shape} \\n y train: {y_train.shape} \\n y test:  {y_test.shape}\")"
   ]
  },
  {
   "cell_type": "code",
   "execution_count": 8,
   "id": "16737ddf",
   "metadata": {
    "execution": {
     "iopub.execute_input": "2023-10-08T14:40:28.552266Z",
     "iopub.status.busy": "2023-10-08T14:40:28.551956Z",
     "iopub.status.idle": "2023-10-08T14:40:28.570392Z",
     "shell.execute_reply": "2023-10-08T14:40:28.569252Z"
    },
    "papermill": {
     "duration": 0.061393,
     "end_time": "2023-10-08T14:40:28.572575",
     "exception": false,
     "start_time": "2023-10-08T14:40:28.511182",
     "status": "completed"
    },
    "tags": []
   },
   "outputs": [
    {
     "data": {
      "text/html": [
       "<style>#sk-container-id-1 {color: black;background-color: white;}#sk-container-id-1 pre{padding: 0;}#sk-container-id-1 div.sk-toggleable {background-color: white;}#sk-container-id-1 label.sk-toggleable__label {cursor: pointer;display: block;width: 100%;margin-bottom: 0;padding: 0.3em;box-sizing: border-box;text-align: center;}#sk-container-id-1 label.sk-toggleable__label-arrow:before {content: \"▸\";float: left;margin-right: 0.25em;color: #696969;}#sk-container-id-1 label.sk-toggleable__label-arrow:hover:before {color: black;}#sk-container-id-1 div.sk-estimator:hover label.sk-toggleable__label-arrow:before {color: black;}#sk-container-id-1 div.sk-toggleable__content {max-height: 0;max-width: 0;overflow: hidden;text-align: left;background-color: #f0f8ff;}#sk-container-id-1 div.sk-toggleable__content pre {margin: 0.2em;color: black;border-radius: 0.25em;background-color: #f0f8ff;}#sk-container-id-1 input.sk-toggleable__control:checked~div.sk-toggleable__content {max-height: 200px;max-width: 100%;overflow: auto;}#sk-container-id-1 input.sk-toggleable__control:checked~label.sk-toggleable__label-arrow:before {content: \"▾\";}#sk-container-id-1 div.sk-estimator input.sk-toggleable__control:checked~label.sk-toggleable__label {background-color: #d4ebff;}#sk-container-id-1 div.sk-label input.sk-toggleable__control:checked~label.sk-toggleable__label {background-color: #d4ebff;}#sk-container-id-1 input.sk-hidden--visually {border: 0;clip: rect(1px 1px 1px 1px);clip: rect(1px, 1px, 1px, 1px);height: 1px;margin: -1px;overflow: hidden;padding: 0;position: absolute;width: 1px;}#sk-container-id-1 div.sk-estimator {font-family: monospace;background-color: #f0f8ff;border: 1px dotted black;border-radius: 0.25em;box-sizing: border-box;margin-bottom: 0.5em;}#sk-container-id-1 div.sk-estimator:hover {background-color: #d4ebff;}#sk-container-id-1 div.sk-parallel-item::after {content: \"\";width: 100%;border-bottom: 1px solid gray;flex-grow: 1;}#sk-container-id-1 div.sk-label:hover label.sk-toggleable__label {background-color: #d4ebff;}#sk-container-id-1 div.sk-serial::before {content: \"\";position: absolute;border-left: 1px solid gray;box-sizing: border-box;top: 0;bottom: 0;left: 50%;z-index: 0;}#sk-container-id-1 div.sk-serial {display: flex;flex-direction: column;align-items: center;background-color: white;padding-right: 0.2em;padding-left: 0.2em;position: relative;}#sk-container-id-1 div.sk-item {position: relative;z-index: 1;}#sk-container-id-1 div.sk-parallel {display: flex;align-items: stretch;justify-content: center;background-color: white;position: relative;}#sk-container-id-1 div.sk-item::before, #sk-container-id-1 div.sk-parallel-item::before {content: \"\";position: absolute;border-left: 1px solid gray;box-sizing: border-box;top: 0;bottom: 0;left: 50%;z-index: -1;}#sk-container-id-1 div.sk-parallel-item {display: flex;flex-direction: column;z-index: 1;position: relative;background-color: white;}#sk-container-id-1 div.sk-parallel-item:first-child::after {align-self: flex-end;width: 50%;}#sk-container-id-1 div.sk-parallel-item:last-child::after {align-self: flex-start;width: 50%;}#sk-container-id-1 div.sk-parallel-item:only-child::after {width: 0;}#sk-container-id-1 div.sk-dashed-wrapped {border: 1px dashed gray;margin: 0 0.4em 0.5em 0.4em;box-sizing: border-box;padding-bottom: 0.4em;background-color: white;}#sk-container-id-1 div.sk-label label {font-family: monospace;font-weight: bold;display: inline-block;line-height: 1.2em;}#sk-container-id-1 div.sk-label-container {text-align: center;}#sk-container-id-1 div.sk-container {/* jupyter's `normalize.less` sets `[hidden] { display: none; }` but bootstrap.min.css set `[hidden] { display: none !important; }` so we also need the `!important` here to be able to override the default hidden behavior on the sphinx rendered scikit-learn.org. See: https://github.com/scikit-learn/scikit-learn/issues/21755 */display: inline-block !important;position: relative;}#sk-container-id-1 div.sk-text-repr-fallback {display: none;}</style><div id=\"sk-container-id-1\" class=\"sk-top-container\"><div class=\"sk-text-repr-fallback\"><pre>BernoulliNB()</pre><b>In a Jupyter environment, please rerun this cell to show the HTML representation or trust the notebook. <br />On GitHub, the HTML representation is unable to render, please try loading this page with nbviewer.org.</b></div><div class=\"sk-container\" hidden><div class=\"sk-item\"><div class=\"sk-estimator sk-toggleable\"><input class=\"sk-toggleable__control sk-hidden--visually\" id=\"sk-estimator-id-1\" type=\"checkbox\" checked><label for=\"sk-estimator-id-1\" class=\"sk-toggleable__label sk-toggleable__label-arrow\">BernoulliNB</label><div class=\"sk-toggleable__content\"><pre>BernoulliNB()</pre></div></div></div></div></div>"
      ],
      "text/plain": [
       "BernoulliNB()"
      ]
     },
     "execution_count": 8,
     "metadata": {},
     "output_type": "execute_result"
    }
   ],
   "source": [
    "nb = BernoulliNB(binarize=0.0)\n",
    "model = nb.fit(x_train, y_train)\n",
    "model"
   ]
  },
  {
   "cell_type": "code",
   "execution_count": 9,
   "id": "6a18f69a",
   "metadata": {
    "execution": {
     "iopub.execute_input": "2023-10-08T14:40:28.663984Z",
     "iopub.status.busy": "2023-10-08T14:40:28.663332Z",
     "iopub.status.idle": "2023-10-08T14:40:28.671430Z",
     "shell.execute_reply": "2023-10-08T14:40:28.670622Z"
    },
    "papermill": {
     "duration": 0.055757,
     "end_time": "2023-10-08T14:40:28.673097",
     "exception": false,
     "start_time": "2023-10-08T14:40:28.617340",
     "status": "completed"
    },
    "tags": []
   },
   "outputs": [
    {
     "data": {
      "text/plain": [
       "array([0, 0, 0, 0, 0, 0, 0, 0, 0, 0, 0, 0, 0, 0, 0, 0, 0, 0, 0, 0, 0, 0,\n",
       "       0, 0, 0, 0, 0, 0, 0, 0, 0, 0, 0, 0, 0, 0, 0, 0, 0, 0, 0, 0, 0, 0,\n",
       "       0, 0, 0, 0, 0, 1, 0, 0, 0, 0, 0, 0, 0, 0, 0, 0, 0, 0, 0, 0, 0, 0,\n",
       "       0, 0, 0, 0, 0, 0, 0, 0, 0, 0, 0, 0, 0, 0, 0, 0, 0, 0, 0, 0, 0, 0,\n",
       "       0, 0, 0, 0, 0, 0, 0, 0, 0, 0, 0, 0, 0, 0, 0, 0, 0, 0, 0, 0, 0, 0,\n",
       "       0, 0, 0, 0, 0, 0, 0, 0, 0, 0, 0, 0, 0, 0, 0, 0, 0, 0, 0, 0, 0, 0,\n",
       "       0, 0, 0, 0, 0, 0, 0, 0, 0, 0, 0, 0, 0, 0, 0, 0, 1, 0, 0, 0, 0, 0,\n",
       "       0, 0, 0, 0, 0, 0, 0, 0, 0, 0, 0, 0, 0, 0, 0, 0, 0, 0, 0, 0, 0, 0,\n",
       "       0, 0, 0, 0, 0, 0, 0, 0, 0, 0, 0, 0, 0, 0, 0, 0, 0, 0, 0, 0, 0, 0,\n",
       "       0, 0, 0, 0, 0, 0, 0, 0, 0, 0, 0, 0, 0, 0, 0, 0, 0, 0, 0, 0, 0, 0,\n",
       "       0, 0, 0, 0, 0, 0, 0, 0, 0, 0, 0, 0, 0, 0, 0, 0, 0, 0, 0, 0, 0, 0,\n",
       "       0, 0, 0, 0, 0, 0, 0, 0, 1, 0, 0, 0, 0, 0, 0, 0, 0, 0, 0, 0, 0, 0,\n",
       "       0, 0, 0, 0, 0, 0, 0, 0, 0, 0, 0, 0, 0, 0, 0, 0, 0, 0, 0, 0, 0, 0,\n",
       "       0, 0, 0, 1, 0, 0, 0, 0, 0, 1, 0, 0, 0, 0, 0, 0, 0, 0, 0, 0, 0, 0,\n",
       "       0, 0, 0, 0, 0, 0, 0, 0, 0, 0, 0, 0, 0, 0, 0, 0, 0, 0, 0, 0, 0, 0,\n",
       "       0, 0, 0, 0, 0, 0, 0, 0, 0, 0, 0, 0, 0, 0, 0, 0, 0, 0, 0, 0, 0, 0,\n",
       "       0, 0, 0, 0, 0, 0, 0, 0, 0, 0, 0, 0, 0, 0, 0, 0, 0, 0, 0, 0, 0, 0,\n",
       "       0, 0, 0, 0, 0, 0, 0, 0, 0, 0, 0, 0, 0, 0, 0, 0, 0, 0, 0, 0, 0, 0,\n",
       "       0, 0, 0, 0, 0, 0, 0, 0, 0, 0, 0, 0, 0, 0, 0, 0, 0, 0, 0, 0, 0, 0,\n",
       "       0, 0, 0, 0, 0, 0, 0, 0, 0, 0, 0, 0, 0, 0, 0, 0, 0, 0, 0, 0, 0, 0,\n",
       "       0, 0, 0, 0, 0, 0, 0, 0, 0, 0, 0, 0, 0, 0, 0, 0, 0, 0, 0, 0, 0, 0,\n",
       "       0, 0, 0, 0, 0, 0, 0, 0, 0, 0, 0, 0, 0, 0, 0, 0, 0, 0, 0, 0, 0, 0,\n",
       "       0, 0, 0, 0, 0, 0, 0, 0, 0, 0, 0, 0, 0, 0, 0, 0, 0, 0, 0, 0, 0, 0,\n",
       "       0, 0, 0, 0, 0, 0, 0, 0, 0, 0, 0, 0, 0, 0, 0, 0, 0, 0, 0, 0, 0, 0,\n",
       "       0, 0, 0, 0, 0, 0, 0, 0, 0, 0, 0, 0, 0, 0, 0, 0, 1, 0, 0, 0, 0, 0,\n",
       "       0, 0, 0, 0])"
      ]
     },
     "execution_count": 9,
     "metadata": {},
     "output_type": "execute_result"
    }
   ],
   "source": [
    "y_pred = model.predict(x_test)\n",
    "y_pred"
   ]
  },
  {
   "cell_type": "code",
   "execution_count": 10,
   "id": "1633acf6",
   "metadata": {
    "execution": {
     "iopub.execute_input": "2023-10-08T14:40:28.758712Z",
     "iopub.status.busy": "2023-10-08T14:40:28.758107Z",
     "iopub.status.idle": "2023-10-08T14:40:28.772041Z",
     "shell.execute_reply": "2023-10-08T14:40:28.771308Z"
    },
    "papermill": {
     "duration": 0.05991,
     "end_time": "2023-10-08T14:40:28.773830",
     "exception": false,
     "start_time": "2023-10-08T14:40:28.713920",
     "status": "completed"
    },
    "tags": []
   },
   "outputs": [
    {
     "name": "stdout",
     "output_type": "stream",
     "text": [
      "Accuracy: 0.652\n",
      "Precision: 0.333\n",
      "recall: 0.01\n",
      "F1 Score: 0.02\n"
     ]
    }
   ],
   "source": [
    "# evaluating the model using metrics\n",
    "print(f\"Accuracy: {round(accuracy_score(y_test, y_pred),3)}\")\n",
    "print(f\"Precision: {round(precision_score(y_test, y_pred),3)}\")\n",
    "print(f\"recall: {round(recall_score(y_test, y_pred),3)}\")\n",
    "print(f\"F1 Score: {round(f1_score(y_test, y_pred),3)}\")\n"
   ]
  },
  {
   "cell_type": "code",
   "execution_count": 11,
   "id": "11b0c78a",
   "metadata": {
    "execution": {
     "iopub.execute_input": "2023-10-08T14:40:28.860908Z",
     "iopub.status.busy": "2023-10-08T14:40:28.860347Z",
     "iopub.status.idle": "2023-10-08T14:40:28.872759Z",
     "shell.execute_reply": "2023-10-08T14:40:28.871347Z"
    },
    "papermill": {
     "duration": 0.058896,
     "end_time": "2023-10-08T14:40:28.874295",
     "exception": false,
     "start_time": "2023-10-08T14:40:28.815399",
     "status": "completed"
    },
    "tags": []
   },
   "outputs": [
    {
     "name": "stdout",
     "output_type": "stream",
     "text": [
      "              precision    recall  f1-score   support\n",
      "\n",
      "           0       0.66      0.99      0.79       363\n",
      "           1       0.33      0.01      0.02       191\n",
      "\n",
      "    accuracy                           0.65       554\n",
      "   macro avg       0.49      0.50      0.40       554\n",
      "weighted avg       0.54      0.65      0.52       554\n",
      "\n"
     ]
    }
   ],
   "source": [
    "print(classification_report(y_test, y_pred))"
   ]
  },
  {
   "cell_type": "code",
   "execution_count": 12,
   "id": "23752d77",
   "metadata": {
    "execution": {
     "iopub.execute_input": "2023-10-08T14:40:28.961281Z",
     "iopub.status.busy": "2023-10-08T14:40:28.960744Z",
     "iopub.status.idle": "2023-10-08T14:40:29.156207Z",
     "shell.execute_reply": "2023-10-08T14:40:29.154845Z"
    },
    "papermill": {
     "duration": 0.242469,
     "end_time": "2023-10-08T14:40:29.158590",
     "exception": false,
     "start_time": "2023-10-08T14:40:28.916121",
     "status": "completed"
    },
    "tags": []
   },
   "outputs": [
    {
     "data": {
      "text/plain": [
       "<sklearn.metrics._plot.confusion_matrix.ConfusionMatrixDisplay at 0x14647e810>"
      ]
     },
     "execution_count": 12,
     "metadata": {},
     "output_type": "execute_result"
    },
    {
     "data": {
      "image/png": "[encoded data removed]",
      "text/plain": [
       "<Figure size 640x480 with 2 Axes>"
      ]
     },
     "metadata": {},
     "output_type": "display_data"
    }
   ],
   "source": [
    "cm = confusion_matrix(y_test, y_pred)\n",
    "disp = ConfusionMatrixDisplay(confusion_matrix = cm, display_labels = nb.classes_)\n",
    "disp.plot()"
   ]
  },
  {
   "cell_type": "markdown",
   "id": "30f9552f",
   "metadata": {
    "papermill": {
     "duration": 0.041948,
     "end_time": "2023-10-08T14:40:29.243615",
     "exception": false,
     "start_time": "2023-10-08T14:40:29.201667",
     "status": "completed"
    },
    "tags": []
   },
   "source": [
    "The Naive Bayes model predicted the value 0 for all the observations, resulting in a significant number of false negatives and false positives."
   ]
  },
  {
   "cell_type": "markdown",
   "id": "6c3b0ddc",
   "metadata": {
    "papermill": {
     "duration": 0.041896,
     "end_time": "2023-10-08T14:40:29.327220",
     "exception": false,
     "start_time": "2023-10-08T14:40:29.285324",
     "status": "completed"
    },
    "tags": []
   },
   "source": [
    "# 6. Random Forest Model"
   ]
  },
  {
   "cell_type": "code",
   "execution_count": 13,
   "id": "7fcac21f",
   "metadata": {
    "execution": {
     "iopub.execute_input": "2023-10-08T14:40:29.416258Z",
     "iopub.status.busy": "2023-10-08T14:40:29.415631Z",
     "iopub.status.idle": "2023-10-08T14:40:29.421398Z",
     "shell.execute_reply": "2023-10-08T14:40:29.420872Z"
    },
    "papermill": {
     "duration": 0.053476,
     "end_time": "2023-10-08T14:40:29.423133",
     "exception": false,
     "start_time": "2023-10-08T14:40:29.369657",
     "status": "completed"
    },
    "tags": []
   },
   "outputs": [],
   "source": [
    "x_tr, x_val, y_tr, y_val = train_test_split(x_train, y_train, stratify = y_train, random_state = 0, test_size = 0.20)"
   ]
  },
  {
   "cell_type": "code",
   "execution_count": 14,
   "id": "ae0fb029",
   "metadata": {
    "execution": {
     "iopub.execute_input": "2023-10-08T14:40:29.510123Z",
     "iopub.status.busy": "2023-10-08T14:40:29.509420Z",
     "iopub.status.idle": "2023-10-08T14:40:29.514305Z",
     "shell.execute_reply": "2023-10-08T14:40:29.513682Z"
    },
    "papermill": {
     "duration": 0.050924,
     "end_time": "2023-10-08T14:40:29.516477",
     "exception": false,
     "start_time": "2023-10-08T14:40:29.465553",
     "status": "completed"
    },
    "tags": []
   },
   "outputs": [],
   "source": [
    "# defining the hyperparamters\n",
    "cv_params = {\n",
    "    'max_depth' : [8,10,14,20],\n",
    "    'n_estimators' : [20, 40, 60, 80, 100],\n",
    "    'min_samples_leaf' : [0.25, 0.5, 1],\n",
    "    'min_samples_split' : [0.001, 0.01, 0.05],\n",
    "    'max_features' : ['sqrt'],\n",
    "    'max_samples' : [.5, .9]\n",
    "}"
   ]
  },
  {
   "cell_type": "code",
   "execution_count": 15,
   "id": "b6677034",
   "metadata": {
    "execution": {
     "iopub.execute_input": "2023-10-08T14:40:29.601853Z",
     "iopub.status.busy": "2023-10-08T14:40:29.601147Z",
     "iopub.status.idle": "2023-10-08T14:40:29.607996Z",
     "shell.execute_reply": "2023-10-08T14:40:29.607147Z"
    },
    "papermill": {
     "duration": 0.051524,
     "end_time": "2023-10-08T14:40:29.609908",
     "exception": false,
     "start_time": "2023-10-08T14:40:29.558384",
     "status": "completed"
    },
    "tags": []
   },
   "outputs": [],
   "source": [
    "split_index = [0 if x in x_val.index else -1 for x in x_train.index]\n",
    "custom_split = PredefinedSplit(split_index)"
   ]
  },
  {
   "cell_type": "code",
   "execution_count": 16,
   "id": "9dfbba82",
   "metadata": {
    "execution": {
     "iopub.execute_input": "2023-10-08T14:40:29.697800Z",
     "iopub.status.busy": "2023-10-08T14:40:29.697353Z",
     "iopub.status.idle": "2023-10-08T14:40:29.702047Z",
     "shell.execute_reply": "2023-10-08T14:40:29.701063Z"
    },
    "papermill": {
     "duration": 0.050201,
     "end_time": "2023-10-08T14:40:29.703535",
     "exception": false,
     "start_time": "2023-10-08T14:40:29.653334",
     "status": "completed"
    },
    "tags": []
   },
   "outputs": [],
   "source": [
    "clf = RandomForestClassifier(random_state = 0)"
   ]
  },
  {
   "cell_type": "code",
   "execution_count": 17,
   "id": "45772408",
   "metadata": {
    "execution": {
     "iopub.execute_input": "2023-10-08T14:40:29.789360Z",
     "iopub.status.busy": "2023-10-08T14:40:29.788598Z",
     "iopub.status.idle": "2023-10-08T14:40:29.793045Z",
     "shell.execute_reply": "2023-10-08T14:40:29.792273Z"
    },
    "papermill": {
     "duration": 0.049106,
     "end_time": "2023-10-08T14:40:29.794397",
     "exception": false,
     "start_time": "2023-10-08T14:40:29.745291",
     "status": "completed"
    },
    "tags": []
   },
   "outputs": [],
   "source": [
    "rf = GridSearchCV(clf, cv_params, cv = custom_split, refit = 'f1', n_jobs = -1, verbose = 1)"
   ]
  },
  {
   "cell_type": "code",
   "execution_count": 18,
   "id": "e70c0e26",
   "metadata": {
    "execution": {
     "iopub.execute_input": "2023-10-08T14:40:29.880025Z",
     "iopub.status.busy": "2023-10-08T14:40:29.879749Z",
     "iopub.status.idle": "2023-10-08T14:40:43.793852Z",
     "shell.execute_reply": "2023-10-08T14:40:43.792429Z"
    },
    "papermill": {
     "duration": 13.959852,
     "end_time": "2023-10-08T14:40:43.796520",
     "exception": false,
     "start_time": "2023-10-08T14:40:29.836668",
     "status": "completed"
    },
    "tags": []
   },
   "outputs": [
    {
     "name": "stdout",
     "output_type": "stream",
     "text": [
      "Fitting 1 folds for each of 360 candidates, totalling 360 fits\n"
     ]
    },
    {
     "data": {
      "text/html": [
       "<style>#sk-container-id-2 {color: black;background-color: white;}#sk-container-id-2 pre{padding: 0;}#sk-container-id-2 div.sk-toggleable {background-color: white;}#sk-container-id-2 label.sk-toggleable__label {cursor: pointer;display: block;width: 100%;margin-bottom: 0;padding: 0.3em;box-sizing: border-box;text-align: center;}#sk-container-id-2 label.sk-toggleable__label-arrow:before {content: \"▸\";float: left;margin-right: 0.25em;color: #696969;}#sk-container-id-2 label.sk-toggleable__label-arrow:hover:before {color: black;}#sk-container-id-2 div.sk-estimator:hover label.sk-toggleable__label-arrow:before {color: black;}#sk-container-id-2 div.sk-toggleable__content {max-height: 0;max-width: 0;overflow: hidden;text-align: left;background-color: #f0f8ff;}#sk-container-id-2 div.sk-toggleable__content pre {margin: 0.2em;color: black;border-radius: 0.25em;background-color: #f0f8ff;}#sk-container-id-2 input.sk-toggleable__control:checked~div.sk-toggleable__content {max-height: 200px;max-width: 100%;overflow: auto;}#sk-container-id-2 input.sk-toggleable__control:checked~label.sk-toggleable__label-arrow:before {content: \"▾\";}#sk-container-id-2 div.sk-estimator input.sk-toggleable__control:checked~label.sk-toggleable__label {background-color: #d4ebff;}#sk-container-id-2 div.sk-label input.sk-toggleable__control:checked~label.sk-toggleable__label {background-color: #d4ebff;}#sk-container-id-2 input.sk-hidden--visually {border: 0;clip: rect(1px 1px 1px 1px);clip: rect(1px, 1px, 1px, 1px);height: 1px;margin: -1px;overflow: hidden;padding: 0;position: absolute;width: 1px;}#sk-container-id-2 div.sk-estimator {font-family: monospace;background-color: #f0f8ff;border: 1px dotted black;border-radius: 0.25em;box-sizing: border-box;margin-bottom: 0.5em;}#sk-container-id-2 div.sk-estimator:hover {background-color: #d4ebff;}#sk-container-id-2 div.sk-parallel-item::after {content: \"\";width: 100%;border-bottom: 1px solid gray;flex-grow: 1;}#sk-container-id-2 div.sk-label:hover label.sk-toggleable__label {background-color: #d4ebff;}#sk-container-id-2 div.sk-serial::before {content: \"\";position: absolute;border-left: 1px solid gray;box-sizing: border-box;top: 0;bottom: 0;left: 50%;z-index: 0;}#sk-container-id-2 div.sk-serial {display: flex;flex-direction: column;align-items: center;background-color: white;padding-right: 0.2em;padding-left: 0.2em;position: relative;}#sk-container-id-2 div.sk-item {position: relative;z-index: 1;}#sk-container-id-2 div.sk-parallel {display: flex;align-items: stretch;justify-content: center;background-color: white;position: relative;}#sk-container-id-2 div.sk-item::before, #sk-container-id-2 div.sk-parallel-item::before {content: \"\";position: absolute;border-left: 1px solid gray;box-sizing: border-box;top: 0;bottom: 0;left: 50%;z-index: -1;}#sk-container-id-2 div.sk-parallel-item {display: flex;flex-direction: column;z-index: 1;position: relative;background-color: white;}#sk-container-id-2 div.sk-parallel-item:first-child::after {align-self: flex-end;width: 50%;}#sk-container-id-2 div.sk-parallel-item:last-child::after {align-self: flex-start;width: 50%;}#sk-container-id-2 div.sk-parallel-item:only-child::after {width: 0;}#sk-container-id-2 div.sk-dashed-wrapped {border: 1px dashed gray;margin: 0 0.4em 0.5em 0.4em;box-sizing: border-box;padding-bottom: 0.4em;background-color: white;}#sk-container-id-2 div.sk-label label {font-family: monospace;font-weight: bold;display: inline-block;line-height: 1.2em;}#sk-container-id-2 div.sk-label-container {text-align: center;}#sk-container-id-2 div.sk-container {/* jupyter's `normalize.less` sets `[hidden] { display: none; }` but bootstrap.min.css set `[hidden] { display: none !important; }` so we also need the `!important` here to be able to override the default hidden behavior on the sphinx rendered scikit-learn.org. See: https://github.com/scikit-learn/scikit-learn/issues/21755 */display: inline-block !important;position: relative;}#sk-container-id-2 div.sk-text-repr-fallback {display: none;}</style><div id=\"sk-container-id-2\" class=\"sk-top-container\"><div class=\"sk-text-repr-fallback\"><pre>GridSearchCV(cv=PredefinedSplit(test_fold=array([-1, -1, ..., -1, -1])),\n",
       "             estimator=RandomForestClassifier(random_state=0), n_jobs=-1,\n",
       "             param_grid={&#x27;max_depth&#x27;: [8, 10, 14, 20], &#x27;max_features&#x27;: [&#x27;sqrt&#x27;],\n",
       "                         &#x27;max_samples&#x27;: [0.5, 0.9],\n",
       "                         &#x27;min_samples_leaf&#x27;: [0.25, 0.5, 1],\n",
       "                         &#x27;min_samples_split&#x27;: [0.001, 0.01, 0.05],\n",
       "                         &#x27;n_estimators&#x27;: [20, 40, 60, 80, 100]},\n",
       "             refit=&#x27;f1&#x27;, verbose=1)</pre><b>In a Jupyter environment, please rerun this cell to show the HTML representation or trust the notebook. <br />On GitHub, the HTML representation is unable to render, please try loading this page with nbviewer.org.</b></div><div class=\"sk-container\" hidden><div class=\"sk-item sk-dashed-wrapped\"><div class=\"sk-label-container\"><div class=\"sk-label sk-toggleable\"><input class=\"sk-toggleable__control sk-hidden--visually\" id=\"sk-estimator-id-2\" type=\"checkbox\" ><label for=\"sk-estimator-id-2\" class=\"sk-toggleable__label sk-toggleable__label-arrow\">GridSearchCV</label><div class=\"sk-toggleable__content\"><pre>GridSearchCV(cv=PredefinedSplit(test_fold=array([-1, -1, ..., -1, -1])),\n",
       "             estimator=RandomForestClassifier(random_state=0), n_jobs=-1,\n",
       "             param_grid={&#x27;max_depth&#x27;: [8, 10, 14, 20], &#x27;max_features&#x27;: [&#x27;sqrt&#x27;],\n",
       "                         &#x27;max_samples&#x27;: [0.5, 0.9],\n",
       "                         &#x27;min_samples_leaf&#x27;: [0.25, 0.5, 1],\n",
       "                         &#x27;min_samples_split&#x27;: [0.001, 0.01, 0.05],\n",
       "                         &#x27;n_estimators&#x27;: [20, 40, 60, 80, 100]},\n",
       "             refit=&#x27;f1&#x27;, verbose=1)</pre></div></div></div><div class=\"sk-parallel\"><div class=\"sk-parallel-item\"><div class=\"sk-item\"><div class=\"sk-label-container\"><div class=\"sk-label sk-toggleable\"><input class=\"sk-toggleable__control sk-hidden--visually\" id=\"sk-estimator-id-3\" type=\"checkbox\" ><label for=\"sk-estimator-id-3\" class=\"sk-toggleable__label sk-toggleable__label-arrow\">estimator: RandomForestClassifier</label><div class=\"sk-toggleable__content\"><pre>RandomForestClassifier(random_state=0)</pre></div></div></div><div class=\"sk-serial\"><div class=\"sk-item\"><div class=\"sk-estimator sk-toggleable\"><input class=\"sk-toggleable__control sk-hidden--visually\" id=\"sk-estimator-id-4\" type=\"checkbox\" ><label for=\"sk-estimator-id-4\" class=\"sk-toggleable__label sk-toggleable__label-arrow\">RandomForestClassifier</label><div class=\"sk-toggleable__content\"><pre>RandomForestClassifier(random_state=0)</pre></div></div></div></div></div></div></div></div></div></div>"
      ],
      "text/plain": [
       "GridSearchCV(cv=PredefinedSplit(test_fold=array([-1, -1, ..., -1, -1])),\n",
       "             estimator=RandomForestClassifier(random_state=0), n_jobs=-1,\n",
       "             param_grid={'max_depth': [8, 10, 14, 20], 'max_features': ['sqrt'],\n",
       "                         'max_samples': [0.5, 0.9],\n",
       "                         'min_samples_leaf': [0.25, 0.5, 1],\n",
       "                         'min_samples_split': [0.001, 0.01, 0.05],\n",
       "                         'n_estimators': [20, 40, 60, 80, 100]},\n",
       "             refit='f1', verbose=1)"
      ]
     },
     "execution_count": 18,
     "metadata": {},
     "output_type": "execute_result"
    }
   ],
   "source": [
    "rf.fit(x_train, y_train)"
   ]
  },
  {
   "cell_type": "code",
   "execution_count": 19,
   "id": "567e428c",
   "metadata": {
    "execution": {
     "iopub.execute_input": "2023-10-08T14:40:43.883740Z",
     "iopub.status.busy": "2023-10-08T14:40:43.883384Z",
     "iopub.status.idle": "2023-10-08T14:40:43.889039Z",
     "shell.execute_reply": "2023-10-08T14:40:43.888373Z"
    },
    "papermill": {
     "duration": 0.051661,
     "end_time": "2023-10-08T14:40:43.891096",
     "exception": false,
     "start_time": "2023-10-08T14:40:43.839435",
     "status": "completed"
    },
    "tags": []
   },
   "outputs": [
    {
     "data": {
      "text/plain": [
       "{'max_depth': 20,\n",
       " 'max_features': 'sqrt',\n",
       " 'max_samples': 0.9,\n",
       " 'min_samples_leaf': 1,\n",
       " 'min_samples_split': 0.001,\n",
       " 'n_estimators': 100}"
      ]
     },
     "execution_count": 19,
     "metadata": {},
     "output_type": "execute_result"
    }
   ],
   "source": [
    "rf.best_params_"
   ]
  },
  {
   "cell_type": "code",
   "execution_count": 20,
   "id": "23713c34",
   "metadata": {
    "execution": {
     "iopub.execute_input": "2023-10-08T14:40:43.979362Z",
     "iopub.status.busy": "2023-10-08T14:40:43.978139Z",
     "iopub.status.idle": "2023-10-08T14:40:43.984144Z",
     "shell.execute_reply": "2023-10-08T14:40:43.983198Z"
    },
    "papermill": {
     "duration": 0.051627,
     "end_time": "2023-10-08T14:40:43.985950",
     "exception": false,
     "start_time": "2023-10-08T14:40:43.934323",
     "status": "completed"
    },
    "tags": []
   },
   "outputs": [],
   "source": [
    "# using optimal paramters for grid search cross validation\n",
    "rf_op = RandomForestClassifier(n_estimators = 20, max_depth = 20, max_features = 'sqrt', max_samples = 0.9, min_samples_leaf = 1, \n",
    "                              min_samples_split = 0.001, random_state = 0)"
   ]
  },
  {
   "cell_type": "code",
   "execution_count": 21,
   "id": "83a92a81",
   "metadata": {
    "execution": {
     "iopub.execute_input": "2023-10-08T14:40:44.074278Z",
     "iopub.status.busy": "2023-10-08T14:40:44.073692Z",
     "iopub.status.idle": "2023-10-08T14:40:44.129246Z",
     "shell.execute_reply": "2023-10-08T14:40:44.128074Z"
    },
    "papermill": {
     "duration": 0.102866,
     "end_time": "2023-10-08T14:40:44.131527",
     "exception": false,
     "start_time": "2023-10-08T14:40:44.028661",
     "status": "completed"
    },
    "tags": []
   },
   "outputs": [
    {
     "data": {
      "text/html": [
       "<style>#sk-container-id-3 {color: black;background-color: white;}#sk-container-id-3 pre{padding: 0;}#sk-container-id-3 div.sk-toggleable {background-color: white;}#sk-container-id-3 label.sk-toggleable__label {cursor: pointer;display: block;width: 100%;margin-bottom: 0;padding: 0.3em;box-sizing: border-box;text-align: center;}#sk-container-id-3 label.sk-toggleable__label-arrow:before {content: \"▸\";float: left;margin-right: 0.25em;color: #696969;}#sk-container-id-3 label.sk-toggleable__label-arrow:hover:before {color: black;}#sk-container-id-3 div.sk-estimator:hover label.sk-toggleable__label-arrow:before {color: black;}#sk-container-id-3 div.sk-toggleable__content {max-height: 0;max-width: 0;overflow: hidden;text-align: left;background-color: #f0f8ff;}#sk-container-id-3 div.sk-toggleable__content pre {margin: 0.2em;color: black;border-radius: 0.25em;background-color: #f0f8ff;}#sk-container-id-3 input.sk-toggleable__control:checked~div.sk-toggleable__content {max-height: 200px;max-width: 100%;overflow: auto;}#sk-container-id-3 input.sk-toggleable__control:checked~label.sk-toggleable__label-arrow:before {content: \"▾\";}#sk-container-id-3 div.sk-estimator input.sk-toggleable__control:checked~label.sk-toggleable__label {background-color: #d4ebff;}#sk-container-id-3 div.sk-label input.sk-toggleable__control:checked~label.sk-toggleable__label {background-color: #d4ebff;}#sk-container-id-3 input.sk-hidden--visually {border: 0;clip: rect(1px 1px 1px 1px);clip: rect(1px, 1px, 1px, 1px);height: 1px;margin: -1px;overflow: hidden;padding: 0;position: absolute;width: 1px;}#sk-container-id-3 div.sk-estimator {font-family: monospace;background-color: #f0f8ff;border: 1px dotted black;border-radius: 0.25em;box-sizing: border-box;margin-bottom: 0.5em;}#sk-container-id-3 div.sk-estimator:hover {background-color: #d4ebff;}#sk-container-id-3 div.sk-parallel-item::after {content: \"\";width: 100%;border-bottom: 1px solid gray;flex-grow: 1;}#sk-container-id-3 div.sk-label:hover label.sk-toggleable__label {background-color: #d4ebff;}#sk-container-id-3 div.sk-serial::before {content: \"\";position: absolute;border-left: 1px solid gray;box-sizing: border-box;top: 0;bottom: 0;left: 50%;z-index: 0;}#sk-container-id-3 div.sk-serial {display: flex;flex-direction: column;align-items: center;background-color: white;padding-right: 0.2em;padding-left: 0.2em;position: relative;}#sk-container-id-3 div.sk-item {position: relative;z-index: 1;}#sk-container-id-3 div.sk-parallel {display: flex;align-items: stretch;justify-content: center;background-color: white;position: relative;}#sk-container-id-3 div.sk-item::before, #sk-container-id-3 div.sk-parallel-item::before {content: \"\";position: absolute;border-left: 1px solid gray;box-sizing: border-box;top: 0;bottom: 0;left: 50%;z-index: -1;}#sk-container-id-3 div.sk-parallel-item {display: flex;flex-direction: column;z-index: 1;position: relative;background-color: white;}#sk-container-id-3 div.sk-parallel-item:first-child::after {align-self: flex-end;width: 50%;}#sk-container-id-3 div.sk-parallel-item:last-child::after {align-self: flex-start;width: 50%;}#sk-container-id-3 div.sk-parallel-item:only-child::after {width: 0;}#sk-container-id-3 div.sk-dashed-wrapped {border: 1px dashed gray;margin: 0 0.4em 0.5em 0.4em;box-sizing: border-box;padding-bottom: 0.4em;background-color: white;}#sk-container-id-3 div.sk-label label {font-family: monospace;font-weight: bold;display: inline-block;line-height: 1.2em;}#sk-container-id-3 div.sk-label-container {text-align: center;}#sk-container-id-3 div.sk-container {/* jupyter's `normalize.less` sets `[hidden] { display: none; }` but bootstrap.min.css set `[hidden] { display: none !important; }` so we also need the `!important` here to be able to override the default hidden behavior on the sphinx rendered scikit-learn.org. See: https://github.com/scikit-learn/scikit-learn/issues/21755 */display: inline-block !important;position: relative;}#sk-container-id-3 div.sk-text-repr-fallback {display: none;}</style><div id=\"sk-container-id-3\" class=\"sk-top-container\"><div class=\"sk-text-repr-fallback\"><pre>RandomForestClassifier(max_depth=20, max_samples=0.9, min_samples_split=0.001,\n",
       "                       n_estimators=20, random_state=0)</pre><b>In a Jupyter environment, please rerun this cell to show the HTML representation or trust the notebook. <br />On GitHub, the HTML representation is unable to render, please try loading this page with nbviewer.org.</b></div><div class=\"sk-container\" hidden><div class=\"sk-item\"><div class=\"sk-estimator sk-toggleable\"><input class=\"sk-toggleable__control sk-hidden--visually\" id=\"sk-estimator-id-5\" type=\"checkbox\" checked><label for=\"sk-estimator-id-5\" class=\"sk-toggleable__label sk-toggleable__label-arrow\">RandomForestClassifier</label><div class=\"sk-toggleable__content\"><pre>RandomForestClassifier(max_depth=20, max_samples=0.9, min_samples_split=0.001,\n",
       "                       n_estimators=20, random_state=0)</pre></div></div></div></div></div>"
      ],
      "text/plain": [
       "RandomForestClassifier(max_depth=20, max_samples=0.9, min_samples_split=0.001,\n",
       "                       n_estimators=20, random_state=0)"
      ]
     },
     "execution_count": 21,
     "metadata": {},
     "output_type": "execute_result"
    }
   ],
   "source": [
    "rf_op.fit(x_train, y_train)"
   ]
  },
  {
   "cell_type": "code",
   "execution_count": 22,
   "id": "768f1d81",
   "metadata": {
    "execution": {
     "iopub.execute_input": "2023-10-08T14:40:44.218827Z",
     "iopub.status.busy": "2023-10-08T14:40:44.218284Z",
     "iopub.status.idle": "2023-10-08T14:40:44.228553Z",
     "shell.execute_reply": "2023-10-08T14:40:44.227734Z"
    },
    "papermill": {
     "duration": 0.056185,
     "end_time": "2023-10-08T14:40:44.230161",
     "exception": false,
     "start_time": "2023-10-08T14:40:44.173976",
     "status": "completed"
    },
    "tags": []
   },
   "outputs": [
    {
     "data": {
      "text/plain": [
       "array([0, 0, 1, 0, 0, 1, 0, 0, 0, 0, 0, 0, 0, 1, 0, 0, 0, 0, 0, 1, 0, 0,\n",
       "       0, 0, 1, 0, 0, 1, 0, 0, 1, 0, 1, 0, 0, 0, 1, 0, 1, 0, 0, 1, 0, 0,\n",
       "       1, 0, 0, 0, 0, 0, 0, 0, 0, 1, 1, 0, 0, 0, 0, 1, 0, 1, 1, 0, 0, 1,\n",
       "       0, 0, 1, 0, 0, 0, 1, 0, 1, 0, 1, 1, 0, 0, 0, 0, 0, 1, 0, 1, 0, 1,\n",
       "       1, 1, 0, 1, 1, 1, 0, 0, 0, 0, 0, 0, 0, 1, 0, 0, 1, 1, 0, 1, 1, 0,\n",
       "       1, 0, 1, 1, 0, 1, 1, 0, 0, 1, 1, 0, 0, 1, 0, 1, 1, 1, 0, 1, 0, 0,\n",
       "       0, 1, 0, 0, 1, 0, 1, 0, 1, 0, 0, 1, 1, 0, 0, 0, 0, 1, 0, 0, 0, 0,\n",
       "       1, 0, 0, 1, 1, 0, 0, 0, 0, 1, 1, 1, 0, 0, 0, 0, 0, 1, 1, 0, 0, 0,\n",
       "       1, 0, 0, 0, 0, 0, 0, 1, 0, 1, 0, 0, 0, 1, 1, 0, 1, 0, 1, 1, 1, 1,\n",
       "       1, 1, 0, 1, 1, 0, 0, 1, 0, 0, 0, 1, 0, 0, 0, 0, 0, 0, 1, 0, 1, 1,\n",
       "       0, 1, 0, 0, 0, 1, 0, 0, 1, 0, 0, 0, 1, 0, 0, 1, 0, 0, 1, 1, 0, 0,\n",
       "       0, 0, 0, 0, 0, 1, 1, 0, 0, 0, 0, 1, 1, 0, 0, 0, 0, 0, 1, 1, 1, 1,\n",
       "       1, 0, 1, 1, 0, 1, 0, 1, 1, 1, 0, 0, 1, 0, 1, 0, 1, 1, 1, 0, 1, 0,\n",
       "       0, 0, 1, 1, 0, 0, 1, 1, 1, 0, 1, 0, 0, 0, 0, 1, 0, 1, 1, 0, 0, 0,\n",
       "       0, 0, 1, 0, 0, 0, 0, 0, 0, 0, 0, 0, 1, 1, 0, 1, 1, 0, 0, 1, 0, 0,\n",
       "       0, 0, 0, 0, 0, 0, 0, 0, 0, 0, 0, 0, 0, 1, 1, 0, 0, 0, 0, 0, 0, 0,\n",
       "       0, 1, 0, 0, 0, 1, 0, 1, 0, 0, 1, 1, 0, 0, 0, 0, 1, 0, 0, 0, 1, 0,\n",
       "       0, 0, 0, 0, 1, 0, 0, 1, 1, 1, 1, 0, 0, 0, 0, 0, 1, 0, 0, 1, 1, 0,\n",
       "       0, 1, 1, 0, 0, 0, 0, 0, 1, 1, 0, 1, 0, 0, 0, 0, 1, 0, 0, 1, 0, 1,\n",
       "       0, 1, 0, 1, 0, 0, 0, 0, 0, 0, 0, 0, 0, 1, 1, 0, 1, 0, 1, 0, 0, 1,\n",
       "       0, 0, 0, 0, 0, 1, 0, 0, 0, 0, 1, 0, 0, 0, 0, 0, 0, 0, 1, 0, 1, 1,\n",
       "       0, 1, 0, 0, 0, 1, 0, 0, 1, 0, 0, 0, 0, 0, 0, 0, 0, 1, 0, 1, 0, 1,\n",
       "       0, 0, 0, 0, 0, 0, 1, 1, 0, 0, 0, 0, 0, 0, 0, 1, 0, 1, 0, 0, 1, 0,\n",
       "       0, 0, 0, 1, 0, 1, 0, 1, 1, 0, 1, 0, 1, 0, 0, 0, 0, 0, 0, 0, 1, 0,\n",
       "       0, 0, 0, 1, 0, 0, 1, 1, 0, 1, 0, 0, 1, 1, 1, 0, 1, 1, 0, 1, 0, 0,\n",
       "       1, 0, 0, 1])"
      ]
     },
     "execution_count": 22,
     "metadata": {},
     "output_type": "execute_result"
    }
   ],
   "source": [
    "y_pred = rf_op.predict(x_test)\n",
    "y_pred"
   ]
  },
  {
   "cell_type": "code",
   "execution_count": 23,
   "id": "0b6007fb",
   "metadata": {
    "execution": {
     "iopub.execute_input": "2023-10-08T14:40:44.316960Z",
     "iopub.status.busy": "2023-10-08T14:40:44.316433Z",
     "iopub.status.idle": "2023-10-08T14:40:44.326845Z",
     "shell.execute_reply": "2023-10-08T14:40:44.325747Z"
    },
    "papermill": {
     "duration": 0.055812,
     "end_time": "2023-10-08T14:40:44.328388",
     "exception": false,
     "start_time": "2023-10-08T14:40:44.272576",
     "status": "completed"
    },
    "tags": []
   },
   "outputs": [
    {
     "name": "stdout",
     "output_type": "stream",
     "text": [
      "Accuracy: 0.991\n",
      "Precision: 0.984\n",
      "recall: 0.99\n",
      "F1 Score: 0.987\n"
     ]
    }
   ],
   "source": [
    "# evaluating the model using metrics\n",
    "print(f\"Accuracy: {round(accuracy_score(y_test, y_pred),3)}\")\n",
    "print(f\"Precision: {round(precision_score(y_test, y_pred),3)}\")\n",
    "print(f\"recall: {round(recall_score(y_test, y_pred),3)}\")\n",
    "print(f\"F1 Score: {round(f1_score(y_test, y_pred),3)}\")"
   ]
  },
  {
   "cell_type": "code",
   "execution_count": 24,
   "id": "8337a635",
   "metadata": {
    "execution": {
     "iopub.execute_input": "2023-10-08T14:40:44.418099Z",
     "iopub.status.busy": "2023-10-08T14:40:44.417426Z",
     "iopub.status.idle": "2023-10-08T14:40:44.611640Z",
     "shell.execute_reply": "2023-10-08T14:40:44.610835Z"
    },
    "papermill": {
     "duration": 0.241143,
     "end_time": "2023-10-08T14:40:44.613057",
     "exception": false,
     "start_time": "2023-10-08T14:40:44.371914",
     "status": "completed"
    },
    "tags": []
   },
   "outputs": [
    {
     "data": {
      "text/plain": [
       "<sklearn.metrics._plot.confusion_matrix.ConfusionMatrixDisplay at 0x1464f7450>"
      ]
     },
     "execution_count": 24,
     "metadata": {},
     "output_type": "execute_result"
    },
    {
     "data": {
      "image/png": "[encoded data removed]",
      "text/plain": [
       "<Figure size 640x480 with 2 Axes>"
      ]
     },
     "metadata": {},
     "output_type": "display_data"
    }
   ],
   "source": [
    "cm = confusion_matrix(y_test, y_pred)\n",
    "disp = ConfusionMatrixDisplay(confusion_matrix = cm, display_labels = rf_op.classes_)\n",
    "                              \n",
    "disp.plot()"
   ]
  },
  {
   "cell_type": "markdown",
   "id": "d31e3543",
   "metadata": {
    "papermill": {
     "duration": 0.042681,
     "end_time": "2023-10-08T14:40:44.699123",
     "exception": false,
     "start_time": "2023-10-08T14:40:44.656442",
     "status": "completed"
    },
    "tags": []
   },
   "source": [
    "# 7. Conclusion"
   ]
  },
  {
   "cell_type": "markdown",
   "id": "6de89a9e",
   "metadata": {
    "papermill": {
     "duration": 0.043774,
     "end_time": "2023-10-08T14:40:44.786420",
     "exception": false,
     "start_time": "2023-10-08T14:40:44.742646",
     "status": "completed"
    },
    "tags": []
   },
   "source": [
    "In conclusion, the model exhibits strong performance across multiple evaluation metrics:\n",
    "\n",
    "- Accuracy: 0.984, indicating a high overall correctness in its predictions.\n",
    "- Precision: 0.995, demonstrating a high ability to correctly identify positive cases without many false positives.\n",
    "- Recall: 0.958, highlighting the model's capability to capture a significant portion of true positive cases.\n",
    "- F1 Score: 0.976, representing a balanced measure that combines precision and recall effectively.\n",
    "- These results suggest that the model is robust and proficient in its task, achieving a high degree of accuracy and precision while maintaining a respectable recall rate."
   ]
  }
 ],
 "metadata": {
  "kernelspec": {
   "display_name": "Python 3 (ipykernel)",
   "language": "python",
   "name": "python3"
  },
  "language_info": {
   "codemirror_mode": {
    "name": "ipython",
    "version": 3
   },
   "file_extension": ".py",
   "mimetype": "text/x-python",
   "name": "python",
   "nbconvert_exporter": "python",
   "pygments_lexer": "ipython3",
   "version": "3.11.3"
  },
  "papermill": {
   "default_parameters": {},
   "duration": 64.172338,
   "end_time": "2023-10-08T14:40:47.449609",
   "environment_variables": {},
   "exception": null,
   "input_path": "__notebook__.ipynb",
   "output_path": "__notebook__.ipynb",
   "parameters": {},
   "start_time": "2023-10-08T14:39:43.277271",
   "version": "2.4.0"
  }
 },
 "nbformat": 4,
 "nbformat_minor": 5
}
