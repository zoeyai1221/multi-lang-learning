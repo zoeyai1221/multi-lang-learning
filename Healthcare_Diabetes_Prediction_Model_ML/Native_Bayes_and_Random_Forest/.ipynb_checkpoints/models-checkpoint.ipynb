{
 "cells": [
  {
   "cell_type": "markdown",
   "id": "51e1a4eb",
   "metadata": {
    "_cell_guid": "b1076dfc-b9ad-4769-8c92-a6c4dae69d19",
    "_uuid": "8f2839f25d086af736a60e9eeb907d3b93b6e0e5",
    "execution": {
     "iopub.execute_input": "2023-10-08T13:37:24.587307Z",
     "iopub.status.busy": "2023-10-08T13:37:24.586942Z",
     "iopub.status.idle": "2023-10-08T13:37:27.336048Z",
     "shell.execute_reply": "2023-10-08T13:37:27.334703Z",
     "shell.execute_reply.started": "2023-10-08T13:37:24.587271Z"
    },
    "papermill": {
     "duration": 0.009025,
     "end_time": "2023-10-08T14:39:45.878271",
     "exception": false,
     "start_time": "2023-10-08T14:39:45.869246",
     "status": "completed"
    },
    "tags": []
   },
   "source": [
    "# 1. Importing Libraries"
   ]
  },
  {
   "cell_type": "code",
   "execution_count": null,
   "id": "a08d7e21",
   "metadata": {
    "execution": {
     "iopub.execute_input": "2023-10-08T14:39:45.896403Z",
     "iopub.status.busy": "2023-10-08T14:39:45.895758Z",
     "iopub.status.idle": "2023-10-08T14:39:50.917431Z",
     "shell.execute_reply": "2023-10-08T14:39:50.916637Z"
    },
    "papermill": {
     "duration": 5.032667,
     "end_time": "2023-10-08T14:39:50.919088",
     "exception": false,
     "start_time": "2023-10-08T14:39:45.886421",
     "status": "completed"
    },
    "tags": []
   },
   "outputs": [],
   "source": [
    "import numpy as np \n",
    "import pandas as pd \n",
    "import matplotlib.pyplot as plt\n",
    "import seaborn as sns\n",
    "\n",
    "from sklearn. preprocessing import MinMaxScaler\n",
    "from sklearn.model_selection import train_test_split, PredefinedSplit, GridSearchCV\n",
    "from sklearn.naive_bayes import CategoricalNB, BernoulliNB\n",
    "from sklearn.metrics import recall_score, precision_score, accuracy_score, f1_score, confusion_matrix, ConfusionMatrixDisplay\n",
    "from sklearn.metrics import classification_report\n",
    "from sklearn.ensemble import RandomForestClassifier"
   ]
  },
  {
   "cell_type": "markdown",
   "id": "e883a221",
   "metadata": {
    "papermill": {
     "duration": 0.008113,
     "end_time": "2023-10-08T14:39:50.935976",
     "exception": false,
     "start_time": "2023-10-08T14:39:50.927863",
     "status": "completed"
    },
    "tags": []
   },
   "source": [
    "# 2. Importing Dataset"
   ]
  },
  {
   "cell_type": "code",
   "execution_count": null,
   "id": "f0fd50fe",
   "metadata": {
    "execution": {
     "iopub.execute_input": "2023-10-08T14:39:50.954425Z",
     "iopub.status.busy": "2023-10-08T14:39:50.953853Z",
     "iopub.status.idle": "2023-10-08T14:39:50.976125Z",
     "shell.execute_reply": "2023-10-08T14:39:50.975470Z"
    },
    "papermill": {
     "duration": 0.033723,
     "end_time": "2023-10-08T14:39:50.977991",
     "exception": false,
     "start_time": "2023-10-08T14:39:50.944268",
     "status": "completed"
    },
    "tags": []
   },
   "outputs": [],
   "source": [
    "df = pd.read_csv('Healthcare-Diabetes.csv')"
   ]
  },
  {
   "cell_type": "code",
   "execution_count": null,
   "id": "85ebd9d2",
   "metadata": {
    "execution": {
     "iopub.execute_input": "2023-10-08T14:39:51.143392Z",
     "iopub.status.busy": "2023-10-08T14:39:51.142250Z",
     "iopub.status.idle": "2023-10-08T14:39:51.157260Z",
     "shell.execute_reply": "2023-10-08T14:39:51.156279Z"
    },
    "papermill": {
     "duration": 0.026361,
     "end_time": "2023-10-08T14:39:51.158968",
     "exception": false,
     "start_time": "2023-10-08T14:39:51.132607",
     "status": "completed"
    },
    "tags": []
   },
   "outputs": [],
   "source": [
    "df.rename(columns = {'Outcome' : 'Diabetic'}, inplace = True)\n",
    "df.head(5)"
   ]
  },
  {
   "cell_type": "markdown",
   "id": "26483617",
   "metadata": {
    "papermill": {
     "duration": 0.038844,
     "end_time": "2023-10-08T14:40:27.868888",
     "exception": false,
     "start_time": "2023-10-08T14:40:27.830044",
     "status": "completed"
    },
    "tags": []
   },
   "source": [
    "# 4. Feature Engineering"
   ]
  },
  {
   "cell_type": "markdown",
   "id": "a900bc45",
   "metadata": {
    "papermill": {
     "duration": 0.038619,
     "end_time": "2023-10-08T14:40:27.946348",
     "exception": false,
     "start_time": "2023-10-08T14:40:27.907729",
     "status": "completed"
    },
    "tags": []
   },
   "source": [
    "**Removing the irrelevant variables from the dataset.**\n",
    "\n",
    "The `Id` doesn't help in predicting the outcome variable. Therefore, we will remove it along with other variables which shows very low or no correlation with the target variable."
   ]
  },
  {
   "cell_type": "code",
   "execution_count": null,
   "id": "67bd1c7d",
   "metadata": {
    "execution": {
     "iopub.execute_input": "2023-10-08T14:40:28.026852Z",
     "iopub.status.busy": "2023-10-08T14:40:28.026432Z",
     "iopub.status.idle": "2023-10-08T14:40:28.038754Z",
     "shell.execute_reply": "2023-10-08T14:40:28.037445Z"
    },
    "papermill": {
     "duration": 0.055425,
     "end_time": "2023-10-08T14:40:28.040693",
     "exception": false,
     "start_time": "2023-10-08T14:40:27.985268",
     "status": "completed"
    },
    "tags": []
   },
   "outputs": [],
   "source": [
    "df = df.drop(['Id','BloodPressure', 'SkinThickness','Insulin', 'DiabetesPedigreeFunction'], axis = 1)\n",
    "df.head()"
   ]
  },
  {
   "cell_type": "markdown",
   "id": "d522333e",
   "metadata": {
    "papermill": {
     "duration": 0.03892,
     "end_time": "2023-10-08T14:40:28.118764",
     "exception": false,
     "start_time": "2023-10-08T14:40:28.079844",
     "status": "completed"
    },
    "tags": []
   },
   "source": [
    "- The variables Glucose (0.46) and BMI (0.28) are normally distributed and highly correlated with diabetes, making them strong potential predictor variables. Age (0.23) and Pregnancies (0.22) also show a notable correlation.\n",
    "- In addition, DiabetesPedigreeFunction (0.16) and Insulin (0.12) exhibit some correlation with diabetes.\n",
    "- Given that the outcome variable is a binary categorical variable (diabetic or non-diabetic), we will need classification models to analyze and predict these relationships."
   ]
  },
  {
   "cell_type": "markdown",
   "id": "a3982007",
   "metadata": {
    "papermill": {
     "duration": 0.038722,
     "end_time": "2023-10-08T14:40:28.196302",
     "exception": false,
     "start_time": "2023-10-08T14:40:28.157580",
     "status": "completed"
    },
    "tags": []
   },
   "source": [
    "# 5. Naive Bayes"
   ]
  },
  {
   "cell_type": "code",
   "execution_count": null,
   "id": "a0e7a7ca",
   "metadata": {
    "execution": {
     "iopub.execute_input": "2023-10-08T14:40:28.277610Z",
     "iopub.status.busy": "2023-10-08T14:40:28.276852Z",
     "iopub.status.idle": "2023-10-08T14:40:28.283932Z",
     "shell.execute_reply": "2023-10-08T14:40:28.282992Z"
    },
    "papermill": {
     "duration": 0.048927,
     "end_time": "2023-10-08T14:40:28.285381",
     "exception": false,
     "start_time": "2023-10-08T14:40:28.236454",
     "status": "completed"
    },
    "tags": []
   },
   "outputs": [],
   "source": [
    "# defining predictor variable\n",
    "y = df['Diabetic']\n",
    "y"
   ]
  },
  {
   "cell_type": "code",
   "execution_count": null,
   "id": "0ebee3ea",
   "metadata": {
    "execution": {
     "iopub.execute_input": "2023-10-08T14:40:28.366795Z",
     "iopub.status.busy": "2023-10-08T14:40:28.366445Z",
     "iopub.status.idle": "2023-10-08T14:40:28.375157Z",
     "shell.execute_reply": "2023-10-08T14:40:28.374554Z"
    },
    "papermill": {
     "duration": 0.051534,
     "end_time": "2023-10-08T14:40:28.377126",
     "exception": false,
     "start_time": "2023-10-08T14:40:28.325592",
     "status": "completed"
    },
    "tags": []
   },
   "outputs": [],
   "source": [
    "# defining target variable\n",
    "\n",
    "x = df.copy()\n",
    "x = x.drop(columns = [ 'Diabetic' ])\n",
    "x.head()"
   ]
  },
  {
   "cell_type": "code",
   "execution_count": null,
   "id": "2180c0c6",
   "metadata": {
    "execution": {
     "iopub.execute_input": "2023-10-08T14:40:28.462261Z",
     "iopub.status.busy": "2023-10-08T14:40:28.461909Z",
     "iopub.status.idle": "2023-10-08T14:40:28.469279Z",
     "shell.execute_reply": "2023-10-08T14:40:28.468386Z"
    },
    "papermill": {
     "duration": 0.051551,
     "end_time": "2023-10-08T14:40:28.470841",
     "exception": false,
     "start_time": "2023-10-08T14:40:28.419290",
     "status": "completed"
    },
    "tags": []
   },
   "outputs": [],
   "source": [
    "x_train, x_test, y_train, y_test = train_test_split(x, y, test_size = 0.20, stratify = y, random_state = 0)\n",
    "print(f\" x train: {x_train.shape} \\n x test:  {x_test.shape} \\n y train: {y_train.shape} \\n y test:  {y_test.shape}\")"
   ]
  },
  {
   "cell_type": "code",
   "execution_count": null,
   "id": "16737ddf",
   "metadata": {
    "execution": {
     "iopub.execute_input": "2023-10-08T14:40:28.552266Z",
     "iopub.status.busy": "2023-10-08T14:40:28.551956Z",
     "iopub.status.idle": "2023-10-08T14:40:28.570392Z",
     "shell.execute_reply": "2023-10-08T14:40:28.569252Z"
    },
    "papermill": {
     "duration": 0.061393,
     "end_time": "2023-10-08T14:40:28.572575",
     "exception": false,
     "start_time": "2023-10-08T14:40:28.511182",
     "status": "completed"
    },
    "tags": []
   },
   "outputs": [],
   "source": [
    "nb = BernoulliNB(binarize=0.0)\n",
    "model = nb.fit(x_train, y_train)\n",
    "model"
   ]
  },
  {
   "cell_type": "code",
   "execution_count": null,
   "id": "6a18f69a",
   "metadata": {
    "execution": {
     "iopub.execute_input": "2023-10-08T14:40:28.663984Z",
     "iopub.status.busy": "2023-10-08T14:40:28.663332Z",
     "iopub.status.idle": "2023-10-08T14:40:28.671430Z",
     "shell.execute_reply": "2023-10-08T14:40:28.670622Z"
    },
    "papermill": {
     "duration": 0.055757,
     "end_time": "2023-10-08T14:40:28.673097",
     "exception": false,
     "start_time": "2023-10-08T14:40:28.617340",
     "status": "completed"
    },
    "tags": []
   },
   "outputs": [],
   "source": [
    "y_pred = model.predict(x_test)\n",
    "y_pred"
   ]
  },
  {
   "cell_type": "code",
   "execution_count": null,
   "id": "1633acf6",
   "metadata": {
    "execution": {
     "iopub.execute_input": "2023-10-08T14:40:28.758712Z",
     "iopub.status.busy": "2023-10-08T14:40:28.758107Z",
     "iopub.status.idle": "2023-10-08T14:40:28.772041Z",
     "shell.execute_reply": "2023-10-08T14:40:28.771308Z"
    },
    "papermill": {
     "duration": 0.05991,
     "end_time": "2023-10-08T14:40:28.773830",
     "exception": false,
     "start_time": "2023-10-08T14:40:28.713920",
     "status": "completed"
    },
    "tags": []
   },
   "outputs": [],
   "source": [
    "# evaluating the model using metrics\n",
    "print(f\"Accuracy: {round(accuracy_score(y_test, y_pred),3)}\")\n",
    "print(f\"Precision: {round(precision_score(y_test, y_pred),3)}\")\n",
    "print(f\"recall: {round(recall_score(y_test, y_pred),3)}\")\n",
    "print(f\"F1 Score: {round(f1_score(y_test, y_pred),3)}\")\n"
   ]
  },
  {
   "cell_type": "code",
   "execution_count": null,
   "id": "11b0c78a",
   "metadata": {
    "execution": {
     "iopub.execute_input": "2023-10-08T14:40:28.860908Z",
     "iopub.status.busy": "2023-10-08T14:40:28.860347Z",
     "iopub.status.idle": "2023-10-08T14:40:28.872759Z",
     "shell.execute_reply": "2023-10-08T14:40:28.871347Z"
    },
    "papermill": {
     "duration": 0.058896,
     "end_time": "2023-10-08T14:40:28.874295",
     "exception": false,
     "start_time": "2023-10-08T14:40:28.815399",
     "status": "completed"
    },
    "tags": []
   },
   "outputs": [],
   "source": [
    "print(classification_report(y_test, y_pred))"
   ]
  },
  {
   "cell_type": "code",
   "execution_count": null,
   "id": "23752d77",
   "metadata": {
    "execution": {
     "iopub.execute_input": "2023-10-08T14:40:28.961281Z",
     "iopub.status.busy": "2023-10-08T14:40:28.960744Z",
     "iopub.status.idle": "2023-10-08T14:40:29.156207Z",
     "shell.execute_reply": "2023-10-08T14:40:29.154845Z"
    },
    "papermill": {
     "duration": 0.242469,
     "end_time": "2023-10-08T14:40:29.158590",
     "exception": false,
     "start_time": "2023-10-08T14:40:28.916121",
     "status": "completed"
    },
    "tags": []
   },
   "outputs": [],
   "source": [
    "cm = confusion_matrix(y_test, y_pred)\n",
    "disp = ConfusionMatrixDisplay(confusion_matrix = cm, display_labels = nb.classes_)\n",
    "disp.plot()"
   ]
  },
  {
   "cell_type": "markdown",
   "id": "30f9552f",
   "metadata": {
    "papermill": {
     "duration": 0.041948,
     "end_time": "2023-10-08T14:40:29.243615",
     "exception": false,
     "start_time": "2023-10-08T14:40:29.201667",
     "status": "completed"
    },
    "tags": []
   },
   "source": [
    "The Naive Bayes model predicted the value 0 for all the observations, resulting in a significant number of false negatives and false positives."
   ]
  },
  {
   "cell_type": "markdown",
   "id": "6c3b0ddc",
   "metadata": {
    "papermill": {
     "duration": 0.041896,
     "end_time": "2023-10-08T14:40:29.327220",
     "exception": false,
     "start_time": "2023-10-08T14:40:29.285324",
     "status": "completed"
    },
    "tags": []
   },
   "source": [
    "# 6. Random Forest Model"
   ]
  },
  {
   "cell_type": "code",
   "execution_count": null,
   "id": "7fcac21f",
   "metadata": {
    "execution": {
     "iopub.execute_input": "2023-10-08T14:40:29.416258Z",
     "iopub.status.busy": "2023-10-08T14:40:29.415631Z",
     "iopub.status.idle": "2023-10-08T14:40:29.421398Z",
     "shell.execute_reply": "2023-10-08T14:40:29.420872Z"
    },
    "papermill": {
     "duration": 0.053476,
     "end_time": "2023-10-08T14:40:29.423133",
     "exception": false,
     "start_time": "2023-10-08T14:40:29.369657",
     "status": "completed"
    },
    "tags": []
   },
   "outputs": [],
   "source": [
    "x_tr, x_val, y_tr, y_val = train_test_split(x_train, y_train, stratify = y_train, random_state = 0, test_size = 0.20)"
   ]
  },
  {
   "cell_type": "code",
   "execution_count": null,
   "id": "ae0fb029",
   "metadata": {
    "execution": {
     "iopub.execute_input": "2023-10-08T14:40:29.510123Z",
     "iopub.status.busy": "2023-10-08T14:40:29.509420Z",
     "iopub.status.idle": "2023-10-08T14:40:29.514305Z",
     "shell.execute_reply": "2023-10-08T14:40:29.513682Z"
    },
    "papermill": {
     "duration": 0.050924,
     "end_time": "2023-10-08T14:40:29.516477",
     "exception": false,
     "start_time": "2023-10-08T14:40:29.465553",
     "status": "completed"
    },
    "tags": []
   },
   "outputs": [],
   "source": [
    "# defining the hyperparamters\n",
    "cv_params = {\n",
    "    'max_depth' : [8,10,14,20],\n",
    "    'n_estimators' : [20, 40, 60, 80, 100],\n",
    "    'min_samples_leaf' : [0.25, 0.5, 1],\n",
    "    'min_samples_split' : [0.001, 0.01, 0.05],\n",
    "    'max_features' : ['sqrt'],\n",
    "    'max_samples' : [.5, .9]\n",
    "}"
   ]
  },
  {
   "cell_type": "code",
   "execution_count": null,
   "id": "b6677034",
   "metadata": {
    "execution": {
     "iopub.execute_input": "2023-10-08T14:40:29.601853Z",
     "iopub.status.busy": "2023-10-08T14:40:29.601147Z",
     "iopub.status.idle": "2023-10-08T14:40:29.607996Z",
     "shell.execute_reply": "2023-10-08T14:40:29.607147Z"
    },
    "papermill": {
     "duration": 0.051524,
     "end_time": "2023-10-08T14:40:29.609908",
     "exception": false,
     "start_time": "2023-10-08T14:40:29.558384",
     "status": "completed"
    },
    "tags": []
   },
   "outputs": [],
   "source": [
    "split_index = [0 if x in x_val.index else -1 for x in x_train.index]\n",
    "custom_split = PredefinedSplit(split_index)"
   ]
  },
  {
   "cell_type": "code",
   "execution_count": null,
   "id": "9dfbba82",
   "metadata": {
    "execution": {
     "iopub.execute_input": "2023-10-08T14:40:29.697800Z",
     "iopub.status.busy": "2023-10-08T14:40:29.697353Z",
     "iopub.status.idle": "2023-10-08T14:40:29.702047Z",
     "shell.execute_reply": "2023-10-08T14:40:29.701063Z"
    },
    "papermill": {
     "duration": 0.050201,
     "end_time": "2023-10-08T14:40:29.703535",
     "exception": false,
     "start_time": "2023-10-08T14:40:29.653334",
     "status": "completed"
    },
    "tags": []
   },
   "outputs": [],
   "source": [
    "clf = RandomForestClassifier(random_state = 0)"
   ]
  },
  {
   "cell_type": "code",
   "execution_count": null,
   "id": "45772408",
   "metadata": {
    "execution": {
     "iopub.execute_input": "2023-10-08T14:40:29.789360Z",
     "iopub.status.busy": "2023-10-08T14:40:29.788598Z",
     "iopub.status.idle": "2023-10-08T14:40:29.793045Z",
     "shell.execute_reply": "2023-10-08T14:40:29.792273Z"
    },
    "papermill": {
     "duration": 0.049106,
     "end_time": "2023-10-08T14:40:29.794397",
     "exception": false,
     "start_time": "2023-10-08T14:40:29.745291",
     "status": "completed"
    },
    "tags": []
   },
   "outputs": [],
   "source": [
    "rf = GridSearchCV(clf, cv_params, cv = custom_split, refit = 'f1', n_jobs = -1, verbose = 1)"
   ]
  },
  {
   "cell_type": "code",
   "execution_count": null,
   "id": "e70c0e26",
   "metadata": {
    "execution": {
     "iopub.execute_input": "2023-10-08T14:40:29.880025Z",
     "iopub.status.busy": "2023-10-08T14:40:29.879749Z",
     "iopub.status.idle": "2023-10-08T14:40:43.793852Z",
     "shell.execute_reply": "2023-10-08T14:40:43.792429Z"
    },
    "papermill": {
     "duration": 13.959852,
     "end_time": "2023-10-08T14:40:43.796520",
     "exception": false,
     "start_time": "2023-10-08T14:40:29.836668",
     "status": "completed"
    },
    "tags": []
   },
   "outputs": [],
   "source": [
    "rf.fit(x_train, y_train)"
   ]
  },
  {
   "cell_type": "code",
   "execution_count": null,
   "id": "567e428c",
   "metadata": {
    "execution": {
     "iopub.execute_input": "2023-10-08T14:40:43.883740Z",
     "iopub.status.busy": "2023-10-08T14:40:43.883384Z",
     "iopub.status.idle": "2023-10-08T14:40:43.889039Z",
     "shell.execute_reply": "2023-10-08T14:40:43.888373Z"
    },
    "papermill": {
     "duration": 0.051661,
     "end_time": "2023-10-08T14:40:43.891096",
     "exception": false,
     "start_time": "2023-10-08T14:40:43.839435",
     "status": "completed"
    },
    "tags": []
   },
   "outputs": [],
   "source": [
    "rf.best_params_"
   ]
  },
  {
   "cell_type": "code",
   "execution_count": null,
   "id": "23713c34",
   "metadata": {
    "execution": {
     "iopub.execute_input": "2023-10-08T14:40:43.979362Z",
     "iopub.status.busy": "2023-10-08T14:40:43.978139Z",
     "iopub.status.idle": "2023-10-08T14:40:43.984144Z",
     "shell.execute_reply": "2023-10-08T14:40:43.983198Z"
    },
    "papermill": {
     "duration": 0.051627,
     "end_time": "2023-10-08T14:40:43.985950",
     "exception": false,
     "start_time": "2023-10-08T14:40:43.934323",
     "status": "completed"
    },
    "tags": []
   },
   "outputs": [],
   "source": [
    "# using optimal paramters for grid search cross validation\n",
    "rf_op = RandomForestClassifier(n_estimators = 20, max_depth = 20, max_features = 'sqrt', max_samples = 0.9, min_samples_leaf = 1, \n",
    "                              min_samples_split = 0.001, random_state = 0)"
   ]
  },
  {
   "cell_type": "code",
   "execution_count": null,
   "id": "83a92a81",
   "metadata": {
    "execution": {
     "iopub.execute_input": "2023-10-08T14:40:44.074278Z",
     "iopub.status.busy": "2023-10-08T14:40:44.073692Z",
     "iopub.status.idle": "2023-10-08T14:40:44.129246Z",
     "shell.execute_reply": "2023-10-08T14:40:44.128074Z"
    },
    "papermill": {
     "duration": 0.102866,
     "end_time": "2023-10-08T14:40:44.131527",
     "exception": false,
     "start_time": "2023-10-08T14:40:44.028661",
     "status": "completed"
    },
    "tags": []
   },
   "outputs": [],
   "source": [
    "rf_op.fit(x_train, y_train)"
   ]
  },
  {
   "cell_type": "code",
   "execution_count": null,
   "id": "768f1d81",
   "metadata": {
    "execution": {
     "iopub.execute_input": "2023-10-08T14:40:44.218827Z",
     "iopub.status.busy": "2023-10-08T14:40:44.218284Z",
     "iopub.status.idle": "2023-10-08T14:40:44.228553Z",
     "shell.execute_reply": "2023-10-08T14:40:44.227734Z"
    },
    "papermill": {
     "duration": 0.056185,
     "end_time": "2023-10-08T14:40:44.230161",
     "exception": false,
     "start_time": "2023-10-08T14:40:44.173976",
     "status": "completed"
    },
    "tags": []
   },
   "outputs": [],
   "source": [
    "y_pred = rf_op.predict(x_test)\n",
    "y_pred"
   ]
  },
  {
   "cell_type": "code",
   "execution_count": null,
   "id": "0b6007fb",
   "metadata": {
    "execution": {
     "iopub.execute_input": "2023-10-08T14:40:44.316960Z",
     "iopub.status.busy": "2023-10-08T14:40:44.316433Z",
     "iopub.status.idle": "2023-10-08T14:40:44.326845Z",
     "shell.execute_reply": "2023-10-08T14:40:44.325747Z"
    },
    "papermill": {
     "duration": 0.055812,
     "end_time": "2023-10-08T14:40:44.328388",
     "exception": false,
     "start_time": "2023-10-08T14:40:44.272576",
     "status": "completed"
    },
    "tags": []
   },
   "outputs": [],
   "source": [
    "# evaluating the model using metrics\n",
    "print(f\"Accuracy: {round(accuracy_score(y_test, y_pred),3)}\")\n",
    "print(f\"Precision: {round(precision_score(y_test, y_pred),3)}\")\n",
    "print(f\"recall: {round(recall_score(y_test, y_pred),3)}\")\n",
    "print(f\"F1 Score: {round(f1_score(y_test, y_pred),3)}\")"
   ]
  },
  {
   "cell_type": "code",
   "execution_count": null,
   "id": "8337a635",
   "metadata": {
    "execution": {
     "iopub.execute_input": "2023-10-08T14:40:44.418099Z",
     "iopub.status.busy": "2023-10-08T14:40:44.417426Z",
     "iopub.status.idle": "2023-10-08T14:40:44.611640Z",
     "shell.execute_reply": "2023-10-08T14:40:44.610835Z"
    },
    "papermill": {
     "duration": 0.241143,
     "end_time": "2023-10-08T14:40:44.613057",
     "exception": false,
     "start_time": "2023-10-08T14:40:44.371914",
     "status": "completed"
    },
    "tags": []
   },
   "outputs": [],
   "source": [
    "cm = confusion_matrix(y_test, y_pred)\n",
    "disp = ConfusionMatrixDisplay(confusion_matrix = cm, display_labels = rf_op.classes_)\n",
    "                              \n",
    "disp.plot()"
   ]
  },
  {
   "cell_type": "markdown",
   "id": "d31e3543",
   "metadata": {
    "papermill": {
     "duration": 0.042681,
     "end_time": "2023-10-08T14:40:44.699123",
     "exception": false,
     "start_time": "2023-10-08T14:40:44.656442",
     "status": "completed"
    },
    "tags": []
   },
   "source": [
    "# 7. Conclusion"
   ]
  },
  {
   "cell_type": "markdown",
   "id": "6de89a9e",
   "metadata": {
    "papermill": {
     "duration": 0.043774,
     "end_time": "2023-10-08T14:40:44.786420",
     "exception": false,
     "start_time": "2023-10-08T14:40:44.742646",
     "status": "completed"
    },
    "tags": []
   },
   "source": [
    "In conclusion, the model exhibits strong performance across multiple evaluation metrics:\n",
    "\n",
    "- Accuracy: 0.984, indicating a high overall correctness in its predictions.\n",
    "- Precision: 0.995, demonstrating a high ability to correctly identify positive cases without many false positives.\n",
    "- Recall: 0.958, highlighting the model's capability to capture a significant portion of true positive cases.\n",
    "- F1 Score: 0.976, representing a balanced measure that combines precision and recall effectively.\n",
    "- These results suggest that the model is robust and proficient in its task, achieving a high degree of accuracy and precision while maintaining a respectable recall rate."
   ]
  }
 ],
 "metadata": {
  "kernelspec": {
   "display_name": "Python 3 (ipykernel)",
   "language": "python",
   "name": "python3"
  },
  "language_info": {
   "codemirror_mode": {
    "name": "ipython",
    "version": 3
   },
   "file_extension": ".py",
   "mimetype": "text/x-python",
   "name": "python",
   "nbconvert_exporter": "python",
   "pygments_lexer": "ipython3",
   "version": "3.11.3"
  },
  "papermill": {
   "default_parameters": {},
   "duration": 64.172338,
   "end_time": "2023-10-08T14:40:47.449609",
   "environment_variables": {},
   "exception": null,
   "input_path": "__notebook__.ipynb",
   "output_path": "__notebook__.ipynb",
   "parameters": {},
   "start_time": "2023-10-08T14:39:43.277271",
   "version": "2.4.0"
  }
 },
 "nbformat": 4,
 "nbformat_minor": 5
}
