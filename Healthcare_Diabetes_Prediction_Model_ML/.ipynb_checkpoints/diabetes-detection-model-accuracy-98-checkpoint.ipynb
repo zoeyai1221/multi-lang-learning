{
 "cells": [
  {
   "cell_type": "markdown",
   "id": "51e1a4eb",
   "metadata": {
    "_cell_guid": "b1076dfc-b9ad-4769-8c92-a6c4dae69d19",
    "_uuid": "8f2839f25d086af736a60e9eeb907d3b93b6e0e5",
    "execution": {
     "iopub.execute_input": "2023-10-08T13:37:24.587307Z",
     "iopub.status.busy": "2023-10-08T13:37:24.586942Z",
     "iopub.status.idle": "2023-10-08T13:37:27.336048Z",
     "shell.execute_reply": "2023-10-08T13:37:27.334703Z",
     "shell.execute_reply.started": "2023-10-08T13:37:24.587271Z"
    },
    "papermill": {
     "duration": 0.009025,
     "end_time": "2023-10-08T14:39:45.878271",
     "exception": false,
     "start_time": "2023-10-08T14:39:45.869246",
     "status": "completed"
    },
    "tags": []
   },
   "source": [
    "# 1. Importing Libraries"
   ]
  },
  {
   "cell_type": "code",
   "execution_count": 1,
   "id": "a08d7e21",
   "metadata": {
    "execution": {
     "iopub.execute_input": "2023-10-08T14:39:45.896403Z",
     "iopub.status.busy": "2023-10-08T14:39:45.895758Z",
     "iopub.status.idle": "2023-10-08T14:39:50.917431Z",
     "shell.execute_reply": "2023-10-08T14:39:50.916637Z"
    },
    "papermill": {
     "duration": 5.032667,
     "end_time": "2023-10-08T14:39:50.919088",
     "exception": false,
     "start_time": "2023-10-08T14:39:45.886421",
     "status": "completed"
    },
    "tags": []
   },
   "outputs": [],
   "source": [
    "import numpy as np \n",
    "import pandas as pd \n",
    "import matplotlib.pyplot as plt\n",
    "import seaborn as sns\n",
    "\n",
    "from sklearn. preprocessing import MinMaxScaler\n",
    "from sklearn.model_selection import train_test_split, PredefinedSplit, GridSearchCV\n",
    "from sklearn.naive_bayes import CategoricalNB, BernoulliNB\n",
    "from sklearn.metrics import recall_score, precision_score, accuracy_score, f1_score, confusion_matrix, ConfusionMatrixDisplay\n",
    "from sklearn.metrics import classification_report\n",
    "from sklearn.ensemble import RandomForestClassifier"
   ]
  },
  {
   "cell_type": "markdown",
   "id": "e883a221",
   "metadata": {
    "papermill": {
     "duration": 0.008113,
     "end_time": "2023-10-08T14:39:50.935976",
     "exception": false,
     "start_time": "2023-10-08T14:39:50.927863",
     "status": "completed"
    },
    "tags": []
   },
   "source": [
    "# 2. Importing Dataset"
   ]
  },
  {
   "cell_type": "code",
   "execution_count": 2,
   "id": "f0fd50fe",
   "metadata": {
    "execution": {
     "iopub.execute_input": "2023-10-08T14:39:50.954425Z",
     "iopub.status.busy": "2023-10-08T14:39:50.953853Z",
     "iopub.status.idle": "2023-10-08T14:39:50.976125Z",
     "shell.execute_reply": "2023-10-08T14:39:50.975470Z"
    },
    "papermill": {
     "duration": 0.033723,
     "end_time": "2023-10-08T14:39:50.977991",
     "exception": false,
     "start_time": "2023-10-08T14:39:50.944268",
     "status": "completed"
    },
    "tags": []
   },
   "outputs": [],
   "source": [
    "df = pd.read_csv('Healthcare-Diabetes.csv')"
   ]
  },
  {
   "cell_type": "markdown",
   "id": "2c5c573c",
   "metadata": {
    "papermill": {
     "duration": 0.008115,
     "end_time": "2023-10-08T14:39:50.994914",
     "exception": false,
     "start_time": "2023-10-08T14:39:50.986799",
     "status": "completed"
    },
    "tags": []
   },
   "source": [
    "# 3. Data Exploration and Data Cleaning"
   ]
  },
  {
   "cell_type": "code",
   "execution_count": 3,
   "id": "2535ed3d",
   "metadata": {
    "execution": {
     "iopub.execute_input": "2023-10-08T14:39:51.013440Z",
     "iopub.status.busy": "2023-10-08T14:39:51.013140Z",
     "iopub.status.idle": "2023-10-08T14:39:51.035990Z",
     "shell.execute_reply": "2023-10-08T14:39:51.034811Z"
    },
    "papermill": {
     "duration": 0.034988,
     "end_time": "2023-10-08T14:39:51.038290",
     "exception": false,
     "start_time": "2023-10-08T14:39:51.003302",
     "status": "completed"
    },
    "tags": []
   },
   "outputs": [
    {
     "data": {
      "text/html": [
       "<div>\n",
       "<style scoped>\n",
       "    .dataframe tbody tr th:only-of-type {\n",
       "        vertical-align: middle;\n",
       "    }\n",
       "\n",
       "    .dataframe tbody tr th {\n",
       "        vertical-align: top;\n",
       "    }\n",
       "\n",
       "    .dataframe thead th {\n",
       "        text-align: right;\n",
       "    }\n",
       "</style>\n",
       "<table border=\"1\" class=\"dataframe\">\n",
       "  <thead>\n",
       "    <tr style=\"text-align: right;\">\n",
       "      <th></th>\n",
       "      <th>Id</th>\n",
       "      <th>Pregnancies</th>\n",
       "      <th>Glucose</th>\n",
       "      <th>BloodPressure</th>\n",
       "      <th>SkinThickness</th>\n",
       "      <th>Insulin</th>\n",
       "      <th>BMI</th>\n",
       "      <th>DiabetesPedigreeFunction</th>\n",
       "      <th>Age</th>\n",
       "      <th>Outcome</th>\n",
       "    </tr>\n",
       "  </thead>\n",
       "  <tbody>\n",
       "    <tr>\n",
       "      <th>0</th>\n",
       "      <td>1</td>\n",
       "      <td>6</td>\n",
       "      <td>148</td>\n",
       "      <td>72</td>\n",
       "      <td>35</td>\n",
       "      <td>0</td>\n",
       "      <td>33.6</td>\n",
       "      <td>0.627</td>\n",
       "      <td>50</td>\n",
       "      <td>1</td>\n",
       "    </tr>\n",
       "    <tr>\n",
       "      <th>1</th>\n",
       "      <td>2</td>\n",
       "      <td>1</td>\n",
       "      <td>85</td>\n",
       "      <td>66</td>\n",
       "      <td>29</td>\n",
       "      <td>0</td>\n",
       "      <td>26.6</td>\n",
       "      <td>0.351</td>\n",
       "      <td>31</td>\n",
       "      <td>0</td>\n",
       "    </tr>\n",
       "    <tr>\n",
       "      <th>2</th>\n",
       "      <td>3</td>\n",
       "      <td>8</td>\n",
       "      <td>183</td>\n",
       "      <td>64</td>\n",
       "      <td>0</td>\n",
       "      <td>0</td>\n",
       "      <td>23.3</td>\n",
       "      <td>0.672</td>\n",
       "      <td>32</td>\n",
       "      <td>1</td>\n",
       "    </tr>\n",
       "    <tr>\n",
       "      <th>3</th>\n",
       "      <td>4</td>\n",
       "      <td>1</td>\n",
       "      <td>89</td>\n",
       "      <td>66</td>\n",
       "      <td>23</td>\n",
       "      <td>94</td>\n",
       "      <td>28.1</td>\n",
       "      <td>0.167</td>\n",
       "      <td>21</td>\n",
       "      <td>0</td>\n",
       "    </tr>\n",
       "    <tr>\n",
       "      <th>4</th>\n",
       "      <td>5</td>\n",
       "      <td>0</td>\n",
       "      <td>137</td>\n",
       "      <td>40</td>\n",
       "      <td>35</td>\n",
       "      <td>168</td>\n",
       "      <td>43.1</td>\n",
       "      <td>2.288</td>\n",
       "      <td>33</td>\n",
       "      <td>1</td>\n",
       "    </tr>\n",
       "  </tbody>\n",
       "</table>\n",
       "</div>"
      ],
      "text/plain": [
       "   Id  Pregnancies  Glucose  BloodPressure  SkinThickness  Insulin   BMI  \\\n",
       "0   1            6      148             72             35        0  33.6   \n",
       "1   2            1       85             66             29        0  26.6   \n",
       "2   3            8      183             64              0        0  23.3   \n",
       "3   4            1       89             66             23       94  28.1   \n",
       "4   5            0      137             40             35      168  43.1   \n",
       "\n",
       "   DiabetesPedigreeFunction  Age  Outcome  \n",
       "0                     0.627   50        1  \n",
       "1                     0.351   31        0  \n",
       "2                     0.672   32        1  \n",
       "3                     0.167   21        0  \n",
       "4                     2.288   33        1  "
      ]
     },
     "execution_count": 3,
     "metadata": {},
     "output_type": "execute_result"
    }
   ],
   "source": [
    "df.head()"
   ]
  },
  {
   "cell_type": "markdown",
   "id": "07988f1d",
   "metadata": {
    "papermill": {
     "duration": 0.008424,
     "end_time": "2023-10-08T14:39:51.055850",
     "exception": false,
     "start_time": "2023-10-08T14:39:51.047426",
     "status": "completed"
    },
    "tags": []
   },
   "source": [
    "**Data dictionary:**\n",
    "\n",
    "**1. Id:** Unique identifier for each data entry.\n",
    "\n",
    "**2. Pregnancies:** Number of times pregnant.\n",
    "\n",
    "**3. Glucose:** Plasma glucose concentration over 2 hours in an oral glucose tolerance test.\n",
    "\n",
    "**4. BloodPressure:** Diastolic blood pressure (mm Hg).\n",
    "\n",
    "**5. SkinThickness:** Triceps skinfold thickness (mm).\n",
    "\n",
    "**6. Insulin:** 2-Hour serum insulin (mu U/ml).\n",
    "\n",
    "**7. BMI:** Body mass index (weight in kg / height in m^2).\n",
    "\n",
    "**8. DiabetesPedigreeFunction:** Diabetes pedigree function, a genetic score of diabetes.\n",
    "\n",
    "**9. Age:** Age in years.\n",
    "\n",
    "**10. Outcome:** Binary classification indicating the presence (1) or absence (0) of diabetes."
   ]
  },
  {
   "cell_type": "markdown",
   "id": "98e56e6a",
   "metadata": {
    "papermill": {
     "duration": 0.008185,
     "end_time": "2023-10-08T14:39:51.072459",
     "exception": false,
     "start_time": "2023-10-08T14:39:51.064274",
     "status": "completed"
    },
    "tags": []
   },
   "source": [
    "**A little detail on how various variables are related to diabetes:**\n",
    "\n",
    "1. `Pregnancies` - The higher the number of pregnancies, the worse the diabetic condition can become.\n",
    "2. `Glucose`- Higher glucose levels can cause diabetic problems.\n",
    "3. `Blood Pressure` - People with high blood pressure usually have insulin resistance and an increased risk of developing diabetes compared to those with typical blood pressure.\n",
    "4. `Skin thickness` - Skin thickness is not considered a direct cause or risk factor for diabetes. While skin thickness can change due to various factors, including age and exposure to environmental elements, these changes do not play a significant role in the development of diabetes.\n",
    "5. `Insulin` - Insulin helps blood sugar enter the body's cells so it can be used for energy. Insulin also signals the liver to store blood sugar for later use. Blood sugar enters cells, and levels in the bloodstream decrease, signaling insulin to decrease too. In type 2 diabetes, instead of moving into the cells, sugar builds up in the blood. As blood sugar levels rise, the pancreas releases more insulin. Eventually, the cells in the pancreas that make insulin become damaged and can't make enough insulin to meet the body's needs.\n",
    "6. `BMI` - The accumulation of an excessive amount of body fat can cause type 2 diabetes, and the risk of type 2 diabetes increases linearly with an increase in body mass index.\n",
    "7. `Diabetes Pedigree Function` - The Diabetes Pedigree Function (DPF) calculates diabetes likelihood depending on the subject's age and his/her family history of diabetes."
   ]
  },
  {
   "cell_type": "code",
   "execution_count": 4,
   "id": "857c7b47",
   "metadata": {
    "execution": {
     "iopub.execute_input": "2023-10-08T14:39:51.091268Z",
     "iopub.status.busy": "2023-10-08T14:39:51.090194Z",
     "iopub.status.idle": "2023-10-08T14:39:51.097119Z",
     "shell.execute_reply": "2023-10-08T14:39:51.096266Z"
    },
    "papermill": {
     "duration": 0.017939,
     "end_time": "2023-10-08T14:39:51.098708",
     "exception": false,
     "start_time": "2023-10-08T14:39:51.080769",
     "status": "completed"
    },
    "tags": []
   },
   "outputs": [
    {
     "name": "stdout",
     "output_type": "stream",
     "text": [
      "Shape : (2768, 10)\n",
      "Size : 27680\n"
     ]
    }
   ],
   "source": [
    "print('Shape :',df.shape)\n",
    "print('Size :',df.size)"
   ]
  },
  {
   "cell_type": "code",
   "execution_count": 5,
   "id": "a4e51641",
   "metadata": {
    "execution": {
     "iopub.execute_input": "2023-10-08T14:39:51.117204Z",
     "iopub.status.busy": "2023-10-08T14:39:51.116904Z",
     "iopub.status.idle": "2023-10-08T14:39:51.122712Z",
     "shell.execute_reply": "2023-10-08T14:39:51.121877Z"
    },
    "papermill": {
     "duration": 0.016645,
     "end_time": "2023-10-08T14:39:51.124034",
     "exception": false,
     "start_time": "2023-10-08T14:39:51.107389",
     "status": "completed"
    },
    "tags": []
   },
   "outputs": [
    {
     "data": {
      "text/plain": [
       "Index(['Id', 'Pregnancies', 'Glucose', 'BloodPressure', 'SkinThickness',\n",
       "       'Insulin', 'BMI', 'DiabetesPedigreeFunction', 'Age', 'Outcome'],\n",
       "      dtype='object')"
      ]
     },
     "execution_count": 5,
     "metadata": {},
     "output_type": "execute_result"
    }
   ],
   "source": [
    "df.columns"
   ]
  },
  {
   "cell_type": "code",
   "execution_count": 6,
   "id": "85ebd9d2",
   "metadata": {
    "execution": {
     "iopub.execute_input": "2023-10-08T14:39:51.143392Z",
     "iopub.status.busy": "2023-10-08T14:39:51.142250Z",
     "iopub.status.idle": "2023-10-08T14:39:51.157260Z",
     "shell.execute_reply": "2023-10-08T14:39:51.156279Z"
    },
    "papermill": {
     "duration": 0.026361,
     "end_time": "2023-10-08T14:39:51.158968",
     "exception": false,
     "start_time": "2023-10-08T14:39:51.132607",
     "status": "completed"
    },
    "tags": []
   },
   "outputs": [
    {
     "data": {
      "text/html": [
       "<div>\n",
       "<style scoped>\n",
       "    .dataframe tbody tr th:only-of-type {\n",
       "        vertical-align: middle;\n",
       "    }\n",
       "\n",
       "    .dataframe tbody tr th {\n",
       "        vertical-align: top;\n",
       "    }\n",
       "\n",
       "    .dataframe thead th {\n",
       "        text-align: right;\n",
       "    }\n",
       "</style>\n",
       "<table border=\"1\" class=\"dataframe\">\n",
       "  <thead>\n",
       "    <tr style=\"text-align: right;\">\n",
       "      <th></th>\n",
       "      <th>Id</th>\n",
       "      <th>Pregnancies</th>\n",
       "      <th>Glucose</th>\n",
       "      <th>BloodPressure</th>\n",
       "      <th>SkinThickness</th>\n",
       "      <th>Insulin</th>\n",
       "      <th>BMI</th>\n",
       "      <th>DiabetesPedigreeFunction</th>\n",
       "      <th>Age</th>\n",
       "      <th>Diabetic</th>\n",
       "    </tr>\n",
       "  </thead>\n",
       "  <tbody>\n",
       "    <tr>\n",
       "      <th>0</th>\n",
       "      <td>1</td>\n",
       "      <td>6</td>\n",
       "      <td>148</td>\n",
       "      <td>72</td>\n",
       "      <td>35</td>\n",
       "      <td>0</td>\n",
       "      <td>33.6</td>\n",
       "      <td>0.627</td>\n",
       "      <td>50</td>\n",
       "      <td>1</td>\n",
       "    </tr>\n",
       "    <tr>\n",
       "      <th>1</th>\n",
       "      <td>2</td>\n",
       "      <td>1</td>\n",
       "      <td>85</td>\n",
       "      <td>66</td>\n",
       "      <td>29</td>\n",
       "      <td>0</td>\n",
       "      <td>26.6</td>\n",
       "      <td>0.351</td>\n",
       "      <td>31</td>\n",
       "      <td>0</td>\n",
       "    </tr>\n",
       "    <tr>\n",
       "      <th>2</th>\n",
       "      <td>3</td>\n",
       "      <td>8</td>\n",
       "      <td>183</td>\n",
       "      <td>64</td>\n",
       "      <td>0</td>\n",
       "      <td>0</td>\n",
       "      <td>23.3</td>\n",
       "      <td>0.672</td>\n",
       "      <td>32</td>\n",
       "      <td>1</td>\n",
       "    </tr>\n",
       "    <tr>\n",
       "      <th>3</th>\n",
       "      <td>4</td>\n",
       "      <td>1</td>\n",
       "      <td>89</td>\n",
       "      <td>66</td>\n",
       "      <td>23</td>\n",
       "      <td>94</td>\n",
       "      <td>28.1</td>\n",
       "      <td>0.167</td>\n",
       "      <td>21</td>\n",
       "      <td>0</td>\n",
       "    </tr>\n",
       "    <tr>\n",
       "      <th>4</th>\n",
       "      <td>5</td>\n",
       "      <td>0</td>\n",
       "      <td>137</td>\n",
       "      <td>40</td>\n",
       "      <td>35</td>\n",
       "      <td>168</td>\n",
       "      <td>43.1</td>\n",
       "      <td>2.288</td>\n",
       "      <td>33</td>\n",
       "      <td>1</td>\n",
       "    </tr>\n",
       "  </tbody>\n",
       "</table>\n",
       "</div>"
      ],
      "text/plain": [
       "   Id  Pregnancies  Glucose  BloodPressure  SkinThickness  Insulin   BMI  \\\n",
       "0   1            6      148             72             35        0  33.6   \n",
       "1   2            1       85             66             29        0  26.6   \n",
       "2   3            8      183             64              0        0  23.3   \n",
       "3   4            1       89             66             23       94  28.1   \n",
       "4   5            0      137             40             35      168  43.1   \n",
       "\n",
       "   DiabetesPedigreeFunction  Age  Diabetic  \n",
       "0                     0.627   50         1  \n",
       "1                     0.351   31         0  \n",
       "2                     0.672   32         1  \n",
       "3                     0.167   21         0  \n",
       "4                     2.288   33         1  "
      ]
     },
     "execution_count": 6,
     "metadata": {},
     "output_type": "execute_result"
    }
   ],
   "source": [
    "df.rename(columns = {'Outcome' : 'Diabetic'}, inplace = True)\n",
    "df.head(5)"
   ]
  },
  {
   "cell_type": "code",
   "execution_count": 7,
   "id": "64b89779",
   "metadata": {
    "execution": {
     "iopub.execute_input": "2023-10-08T14:39:51.233207Z",
     "iopub.status.busy": "2023-10-08T14:39:51.232925Z",
     "iopub.status.idle": "2023-10-08T14:39:51.264442Z",
     "shell.execute_reply": "2023-10-08T14:39:51.263572Z"
    },
    "papermill": {
     "duration": 0.043474,
     "end_time": "2023-10-08T14:39:51.266061",
     "exception": false,
     "start_time": "2023-10-08T14:39:51.222587",
     "status": "completed"
    },
    "tags": []
   },
   "outputs": [
    {
     "data": {
      "text/html": [
       "<div>\n",
       "<style scoped>\n",
       "    .dataframe tbody tr th:only-of-type {\n",
       "        vertical-align: middle;\n",
       "    }\n",
       "\n",
       "    .dataframe tbody tr th {\n",
       "        vertical-align: top;\n",
       "    }\n",
       "\n",
       "    .dataframe thead th {\n",
       "        text-align: right;\n",
       "    }\n",
       "</style>\n",
       "<table border=\"1\" class=\"dataframe\">\n",
       "  <thead>\n",
       "    <tr style=\"text-align: right;\">\n",
       "      <th></th>\n",
       "      <th>Id</th>\n",
       "      <th>Pregnancies</th>\n",
       "      <th>Glucose</th>\n",
       "      <th>BloodPressure</th>\n",
       "      <th>SkinThickness</th>\n",
       "      <th>Insulin</th>\n",
       "      <th>BMI</th>\n",
       "      <th>DiabetesPedigreeFunction</th>\n",
       "      <th>Age</th>\n",
       "      <th>Diabetic</th>\n",
       "    </tr>\n",
       "  </thead>\n",
       "  <tbody>\n",
       "    <tr>\n",
       "      <th>count</th>\n",
       "      <td>2768.000000</td>\n",
       "      <td>2768.000000</td>\n",
       "      <td>2768.000000</td>\n",
       "      <td>2768.000000</td>\n",
       "      <td>2768.000000</td>\n",
       "      <td>2768.000000</td>\n",
       "      <td>2768.000000</td>\n",
       "      <td>2768.000000</td>\n",
       "      <td>2768.000000</td>\n",
       "      <td>2768.000000</td>\n",
       "    </tr>\n",
       "    <tr>\n",
       "      <th>mean</th>\n",
       "      <td>1384.500000</td>\n",
       "      <td>3.742775</td>\n",
       "      <td>121.102601</td>\n",
       "      <td>69.134393</td>\n",
       "      <td>20.824422</td>\n",
       "      <td>80.127890</td>\n",
       "      <td>32.137392</td>\n",
       "      <td>0.471193</td>\n",
       "      <td>33.132225</td>\n",
       "      <td>0.343931</td>\n",
       "    </tr>\n",
       "    <tr>\n",
       "      <th>std</th>\n",
       "      <td>799.197097</td>\n",
       "      <td>3.323801</td>\n",
       "      <td>32.036508</td>\n",
       "      <td>19.231438</td>\n",
       "      <td>16.059596</td>\n",
       "      <td>112.301933</td>\n",
       "      <td>8.076127</td>\n",
       "      <td>0.325669</td>\n",
       "      <td>11.777230</td>\n",
       "      <td>0.475104</td>\n",
       "    </tr>\n",
       "    <tr>\n",
       "      <th>min</th>\n",
       "      <td>1.000000</td>\n",
       "      <td>0.000000</td>\n",
       "      <td>0.000000</td>\n",
       "      <td>0.000000</td>\n",
       "      <td>0.000000</td>\n",
       "      <td>0.000000</td>\n",
       "      <td>0.000000</td>\n",
       "      <td>0.078000</td>\n",
       "      <td>21.000000</td>\n",
       "      <td>0.000000</td>\n",
       "    </tr>\n",
       "    <tr>\n",
       "      <th>25%</th>\n",
       "      <td>692.750000</td>\n",
       "      <td>1.000000</td>\n",
       "      <td>99.000000</td>\n",
       "      <td>62.000000</td>\n",
       "      <td>0.000000</td>\n",
       "      <td>0.000000</td>\n",
       "      <td>27.300000</td>\n",
       "      <td>0.244000</td>\n",
       "      <td>24.000000</td>\n",
       "      <td>0.000000</td>\n",
       "    </tr>\n",
       "    <tr>\n",
       "      <th>50%</th>\n",
       "      <td>1384.500000</td>\n",
       "      <td>3.000000</td>\n",
       "      <td>117.000000</td>\n",
       "      <td>72.000000</td>\n",
       "      <td>23.000000</td>\n",
       "      <td>37.000000</td>\n",
       "      <td>32.200000</td>\n",
       "      <td>0.375000</td>\n",
       "      <td>29.000000</td>\n",
       "      <td>0.000000</td>\n",
       "    </tr>\n",
       "    <tr>\n",
       "      <th>75%</th>\n",
       "      <td>2076.250000</td>\n",
       "      <td>6.000000</td>\n",
       "      <td>141.000000</td>\n",
       "      <td>80.000000</td>\n",
       "      <td>32.000000</td>\n",
       "      <td>130.000000</td>\n",
       "      <td>36.625000</td>\n",
       "      <td>0.624000</td>\n",
       "      <td>40.000000</td>\n",
       "      <td>1.000000</td>\n",
       "    </tr>\n",
       "    <tr>\n",
       "      <th>max</th>\n",
       "      <td>2768.000000</td>\n",
       "      <td>17.000000</td>\n",
       "      <td>199.000000</td>\n",
       "      <td>122.000000</td>\n",
       "      <td>110.000000</td>\n",
       "      <td>846.000000</td>\n",
       "      <td>80.600000</td>\n",
       "      <td>2.420000</td>\n",
       "      <td>81.000000</td>\n",
       "      <td>1.000000</td>\n",
       "    </tr>\n",
       "  </tbody>\n",
       "</table>\n",
       "</div>"
      ],
      "text/plain": [
       "                Id  Pregnancies      Glucose  BloodPressure  SkinThickness  \\\n",
       "count  2768.000000  2768.000000  2768.000000    2768.000000    2768.000000   \n",
       "mean   1384.500000     3.742775   121.102601      69.134393      20.824422   \n",
       "std     799.197097     3.323801    32.036508      19.231438      16.059596   \n",
       "min       1.000000     0.000000     0.000000       0.000000       0.000000   \n",
       "25%     692.750000     1.000000    99.000000      62.000000       0.000000   \n",
       "50%    1384.500000     3.000000   117.000000      72.000000      23.000000   \n",
       "75%    2076.250000     6.000000   141.000000      80.000000      32.000000   \n",
       "max    2768.000000    17.000000   199.000000     122.000000     110.000000   \n",
       "\n",
       "           Insulin          BMI  DiabetesPedigreeFunction          Age  \\\n",
       "count  2768.000000  2768.000000               2768.000000  2768.000000   \n",
       "mean     80.127890    32.137392                  0.471193    33.132225   \n",
       "std     112.301933     8.076127                  0.325669    11.777230   \n",
       "min       0.000000     0.000000                  0.078000    21.000000   \n",
       "25%       0.000000    27.300000                  0.244000    24.000000   \n",
       "50%      37.000000    32.200000                  0.375000    29.000000   \n",
       "75%     130.000000    36.625000                  0.624000    40.000000   \n",
       "max     846.000000    80.600000                  2.420000    81.000000   \n",
       "\n",
       "          Diabetic  \n",
       "count  2768.000000  \n",
       "mean      0.343931  \n",
       "std       0.475104  \n",
       "min       0.000000  \n",
       "25%       0.000000  \n",
       "50%       0.000000  \n",
       "75%       1.000000  \n",
       "max       1.000000  "
      ]
     },
     "execution_count": 7,
     "metadata": {},
     "output_type": "execute_result"
    }
   ],
   "source": [
    "df.describe()"
   ]
  },
  {
   "cell_type": "markdown",
   "id": "1627da6d",
   "metadata": {
    "papermill": {
     "duration": 0.008786,
     "end_time": "2023-10-08T14:39:51.283985",
     "exception": false,
     "start_time": "2023-10-08T14:39:51.275199",
     "status": "completed"
    },
    "tags": []
   },
   "source": [
    "**Detecting missing values**"
   ]
  },
  {
   "cell_type": "code",
   "execution_count": 8,
   "id": "980cf2bf",
   "metadata": {
    "execution": {
     "iopub.execute_input": "2023-10-08T14:39:51.303399Z",
     "iopub.status.busy": "2023-10-08T14:39:51.303076Z",
     "iopub.status.idle": "2023-10-08T14:39:51.309829Z",
     "shell.execute_reply": "2023-10-08T14:39:51.308710Z"
    },
    "papermill": {
     "duration": 0.018965,
     "end_time": "2023-10-08T14:39:51.311850",
     "exception": false,
     "start_time": "2023-10-08T14:39:51.292885",
     "status": "completed"
    },
    "tags": []
   },
   "outputs": [
    {
     "data": {
      "text/plain": [
       "Id                          0\n",
       "Pregnancies                 0\n",
       "Glucose                     0\n",
       "BloodPressure               0\n",
       "SkinThickness               0\n",
       "Insulin                     0\n",
       "BMI                         0\n",
       "DiabetesPedigreeFunction    0\n",
       "Age                         0\n",
       "Diabetic                    0\n",
       "dtype: int64"
      ]
     },
     "execution_count": 8,
     "metadata": {},
     "output_type": "execute_result"
    }
   ],
   "source": [
    "df.isna().sum()"
   ]
  },
  {
   "cell_type": "markdown",
   "id": "fe836c69",
   "metadata": {
    "papermill": {
     "duration": 0.008609,
     "end_time": "2023-10-08T14:39:51.329985",
     "exception": false,
     "start_time": "2023-10-08T14:39:51.321376",
     "status": "completed"
    },
    "tags": []
   },
   "source": [
    "There are no missing values in the dataset."
   ]
  },
  {
   "cell_type": "markdown",
   "id": "c33829b4",
   "metadata": {
    "papermill": {
     "duration": 0.010128,
     "end_time": "2023-10-08T14:39:51.348995",
     "exception": false,
     "start_time": "2023-10-08T14:39:51.338867",
     "status": "completed"
    },
    "tags": []
   },
   "source": [
    "**Detecting missing values**"
   ]
  },
  {
   "cell_type": "code",
   "execution_count": 9,
   "id": "24167f8b",
   "metadata": {
    "execution": {
     "iopub.execute_input": "2023-10-08T14:39:51.370230Z",
     "iopub.status.busy": "2023-10-08T14:39:51.368958Z",
     "iopub.status.idle": "2023-10-08T14:39:51.385462Z",
     "shell.execute_reply": "2023-10-08T14:39:51.384511Z"
    },
    "papermill": {
     "duration": 0.029711,
     "end_time": "2023-10-08T14:39:51.388155",
     "exception": false,
     "start_time": "2023-10-08T14:39:51.358444",
     "status": "completed"
    },
    "tags": []
   },
   "outputs": [
    {
     "data": {
      "text/plain": [
       "0"
      ]
     },
     "execution_count": 9,
     "metadata": {},
     "output_type": "execute_result"
    }
   ],
   "source": [
    "df.duplicated().sum()"
   ]
  },
  {
   "cell_type": "markdown",
   "id": "0af35b45",
   "metadata": {
    "papermill": {
     "duration": 0.009249,
     "end_time": "2023-10-08T14:39:51.407347",
     "exception": false,
     "start_time": "2023-10-08T14:39:51.398098",
     "status": "completed"
    },
    "tags": []
   },
   "source": [
    "There are no duplicate record."
   ]
  },
  {
   "cell_type": "code",
   "execution_count": 10,
   "id": "c61b1893",
   "metadata": {
    "execution": {
     "iopub.execute_input": "2023-10-08T14:39:51.427930Z",
     "iopub.status.busy": "2023-10-08T14:39:51.427606Z",
     "iopub.status.idle": "2023-10-08T14:39:51.437279Z",
     "shell.execute_reply": "2023-10-08T14:39:51.436012Z"
    },
    "papermill": {
     "duration": 0.021915,
     "end_time": "2023-10-08T14:39:51.438966",
     "exception": false,
     "start_time": "2023-10-08T14:39:51.417051",
     "status": "completed"
    },
    "tags": []
   },
   "outputs": [
    {
     "data": {
      "text/plain": [
       "Pregnancies                   3.000\n",
       "Glucose                     117.000\n",
       "BloodPressure                72.000\n",
       "SkinThickness                23.000\n",
       "Insulin                      37.000\n",
       "BMI                          32.200\n",
       "DiabetesPedigreeFunction      0.375\n",
       "Age                          29.000\n",
       "dtype: float64"
      ]
     },
     "execution_count": 10,
     "metadata": {},
     "output_type": "execute_result"
    }
   ],
   "source": [
    "df.agg({\n",
    "    'Pregnancies' : 'median',\n",
    "    'Glucose' : 'median',\n",
    "    'BloodPressure' : 'median',\n",
    "    'SkinThickness' : 'median',\n",
    "    'Insulin' : 'median', \n",
    "    'BMI' : 'median',\n",
    "    'DiabetesPedigreeFunction' : 'median',\n",
    "    'Age' : 'median'\n",
    "    })"
   ]
  },
  {
   "cell_type": "markdown",
   "id": "021dce2b",
   "metadata": {
    "papermill": {
     "duration": 0.009006,
     "end_time": "2023-10-08T14:39:51.457431",
     "exception": false,
     "start_time": "2023-10-08T14:39:51.448425",
     "status": "completed"
    },
    "tags": []
   },
   "source": [
    "**Checking the distribution of the data for individual variables**"
   ]
  },
  {
   "cell_type": "code",
   "execution_count": 11,
   "id": "c96a0f49",
   "metadata": {
    "execution": {
     "iopub.execute_input": "2023-10-08T14:39:51.477615Z",
     "iopub.status.busy": "2023-10-08T14:39:51.477288Z",
     "iopub.status.idle": "2023-10-08T14:39:53.973249Z",
     "shell.execute_reply": "2023-10-08T14:39:53.972336Z"
    },
    "papermill": {
     "duration": 2.508104,
     "end_time": "2023-10-08T14:39:53.974897",
     "exception": false,
     "start_time": "2023-10-08T14:39:51.466793",
     "status": "completed"
    },
    "tags": []
   },
   "outputs": [
    {
     "data": {
      "image/png": "[encoded data removed]",
      "text/plain": [
       "<Figure size 1500x1500 with 8 Axes>"
      ]
     },
     "metadata": {},
     "output_type": "display_data"
    }
   ],
   "source": [
    "fig, axes = plt.subplots(4,2, figsize = (15,15))\n",
    "sns.histplot(df['Pregnancies'], ax = axes[0,0], color = 'teal')\n",
    "axes[0,0].set_title('Ditribution of number of Pregnancies')\n",
    "axes[0,0].axvline(df['Pregnancies'].quantile(.90), color = 'pink', label = '90 percentile')\n",
    "axes[0,0].axvline(df['Pregnancies'].quantile(.50), color = 'red', label = 'median')\n",
    "axes[0,0].legend()\n",
    "\n",
    "sns.histplot(df['Glucose'], ax = axes[0,1],color = 'teal')\n",
    "axes[0,1].set_title('Ditribution of number of Glucose')\n",
    "axes[0,1].axvline(df['Glucose'].quantile(.90), color = 'pink', label = '90 percentile')\n",
    "axes[0,1].axvline(df['Glucose'].quantile(.50), color = 'red', label = 'median')\n",
    "axes[0,1].legend()\n",
    "\n",
    "sns.histplot(df['BloodPressure'], ax = axes[1,0], color = 'teal')\n",
    "axes[1,0].set_title('Ditribution of number of BloodPressure')\n",
    "axes[1,0].axvline(df['BloodPressure'].quantile(.90), color = 'pink', label = '90 percentile')\n",
    "axes[1,0].axvline(df['BloodPressure'].quantile(.50), color = 'red', label = 'median')\n",
    "axes[1,0].legend()\n",
    "\n",
    "sns.histplot(df['SkinThickness'], ax = axes[1,1], color = 'teal')\n",
    "axes[1,1].set_title('Ditribution of number of SkinThickness')\n",
    "axes[1,1].axvline(df['SkinThickness'].quantile(.90), color = 'pink', label = '90 percentile')\n",
    "axes[1,1].axvline(df['SkinThickness'].quantile(.50), color = 'red', label = 'median')\n",
    "axes[1,1].legend()\n",
    "\n",
    "sns.histplot(df['Insulin'], ax = axes[2,0], color = 'teal')\n",
    "axes[2,0].set_title('Ditribution of number of Insulin')\n",
    "axes[2,0].axvline(df['Pregnancies'].quantile(.90), color = 'pink', label = '90 percentile')\n",
    "axes[2,0].axvline(df['Pregnancies'].quantile(.50), color = 'red', label = 'median')\n",
    "axes[2,0].legend()\n",
    "\n",
    "sns.histplot(df['BMI'], ax = axes[2,1], color = 'teal')\n",
    "axes[2,1].set_title('Ditribution of number of BMI')\n",
    "axes[2,1].axvline(df['BMI'].quantile(.90), color = 'pink', label = '90 percentile')\n",
    "axes[2,1].axvline(df['BMI'].quantile(.50), color = 'red', label = 'median')\n",
    "axes[2,1].legend()\n",
    "\n",
    "sns.histplot(df['DiabetesPedigreeFunction'], ax = axes[3,0], color = 'teal')\n",
    "axes[3,0].set_title('Ditribution of number of Diabetes Pedigree Function')\n",
    "axes[3,0].axvline(df['DiabetesPedigreeFunction'].quantile(.90), color = 'pink', label = '90 percentile')\n",
    "axes[3,0].axvline(df['DiabetesPedigreeFunction'].quantile(.50), color = 'red', label = 'median')\n",
    "axes[3,0].legend()\n",
    "\n",
    "sns.histplot(df['Age'], ax = axes[3,1], color = 'teal')\n",
    "axes[3,1].set_title('Ditribution of number of Age')\n",
    "axes[3,1].axvline(df['Age'].quantile(.90), color = 'pink', label = '90 percentile')\n",
    "axes[3,1].axvline(df['Age'].quantile(.50), color = 'red', label = 'median')\n",
    "axes[3,1].legend()\n",
    "\n",
    "plt.tight_layout()"
   ]
  },
  {
   "cell_type": "markdown",
   "id": "e3dba1d0",
   "metadata": {
    "papermill": {
     "duration": 0.012029,
     "end_time": "2023-10-08T14:39:53.998290",
     "exception": false,
     "start_time": "2023-10-08T14:39:53.986261",
     "status": "completed"
    },
    "tags": []
   },
   "source": [
    "- `BloodPressure`, `Glucose`, `BMI` are approximately normally distributed.\n",
    "- The variable `Insulin` in clustered together.\n",
    "- `Age`, `Pregnancies`, `DiabetesPedigreeFunction` are skewed to the right."
   ]
  },
  {
   "cell_type": "markdown",
   "id": "5e74a6df",
   "metadata": {
    "papermill": {
     "duration": 0.011525,
     "end_time": "2023-10-08T14:39:54.022891",
     "exception": false,
     "start_time": "2023-10-08T14:39:54.011366",
     "status": "completed"
    },
    "tags": []
   },
   "source": [
    "**Checking outliers for existence**"
   ]
  },
  {
   "cell_type": "code",
   "execution_count": 12,
   "id": "a4654acb",
   "metadata": {
    "execution": {
     "iopub.execute_input": "2023-10-08T14:39:54.047697Z",
     "iopub.status.busy": "2023-10-08T14:39:54.047277Z",
     "iopub.status.idle": "2023-10-08T14:39:55.041070Z",
     "shell.execute_reply": "2023-10-08T14:39:55.039856Z"
    },
    "papermill": {
     "duration": 1.00828,
     "end_time": "2023-10-08T14:39:55.043462",
     "exception": false,
     "start_time": "2023-10-08T14:39:54.035182",
     "status": "completed"
    },
    "tags": []
   },
   "outputs": [
    {
     "data": {
      "image/png": "[encoded data removed]",
      "text/plain": [
       "<Figure size 1200x600 with 8 Axes>"
      ]
     },
     "metadata": {},
     "output_type": "display_data"
    }
   ],
   "source": [
    "fig, axes = plt.subplots(2,4, figsize = (12,6))\n",
    "\n",
    "sns.boxplot(df['Pregnancies'], ax = axes[0,0])\n",
    "axes[0,0].set_title('Pregnancies')\n",
    "\n",
    "sns.boxplot(df['Glucose'], ax = axes[0,1])\n",
    "axes[0,1].set_title('Glucose')\n",
    "\n",
    "sns.boxplot(df['BloodPressure'], ax = axes[0,2])\n",
    "axes[0,2].set_title('BloodPressure')\n",
    "\n",
    "sns.boxplot(df['SkinThickness'], ax = axes[0,3])\n",
    "axes[0,3].set_title('SkinThickness')\n",
    "\n",
    "sns.boxplot(df['Insulin'], ax = axes[1,0])\n",
    "axes[1,0].set_title('Insulin')\n",
    "\n",
    "sns.boxplot(df['BMI'], ax = axes[1,1])\n",
    "axes[1,1].set_title('BMI')\n",
    "\n",
    "sns.boxplot(df['DiabetesPedigreeFunction'], ax = axes[1,2])\n",
    "axes[1,2].set_title('DiabetesPedigreeFunction')\n",
    "\n",
    "sns.boxplot(df['Age'], ax = axes[1,3])\n",
    "axes[1,3].set_title('Age')\n",
    "\n",
    "plt.tight_layout()"
   ]
  },
  {
   "cell_type": "markdown",
   "id": "66ae3c46",
   "metadata": {
    "papermill": {
     "duration": 0.011268,
     "end_time": "2023-10-08T14:39:55.066705",
     "exception": false,
     "start_time": "2023-10-08T14:39:55.055437",
     "status": "completed"
    },
    "tags": []
   },
   "source": [
    "- All the variables contain outliers.\n",
    "\n",
    "- In the cases of BMI, Glucose, and BloodPressure, outliers are observed with values equal to 0, which is implausible. Therefore, due to its unusual behaviour we will remove these observations from the dataset."
   ]
  },
  {
   "cell_type": "code",
   "execution_count": 13,
   "id": "00fbd0f9",
   "metadata": {
    "execution": {
     "iopub.execute_input": "2023-10-08T14:39:55.091700Z",
     "iopub.status.busy": "2023-10-08T14:39:55.091325Z",
     "iopub.status.idle": "2023-10-08T14:39:55.102767Z",
     "shell.execute_reply": "2023-10-08T14:39:55.101533Z"
    },
    "papermill": {
     "duration": 0.026067,
     "end_time": "2023-10-08T14:39:55.104554",
     "exception": false,
     "start_time": "2023-10-08T14:39:55.078487",
     "status": "completed"
    },
    "tags": []
   },
   "outputs": [
    {
     "data": {
      "text/plain": [
       "(2768, 10)"
      ]
     },
     "execution_count": 13,
     "metadata": {},
     "output_type": "execute_result"
    }
   ],
   "source": [
    "# the variable glucose doesn't contain any outlier above the upper quartile. \n",
    "# Therefore, we will only remove the outlier present below the lower quartile.\n",
    "q1 = df['Glucose'].quantile(.25)\n",
    "q3 = df['Glucose'].quantile(0.75)\n",
    "iqr = q3-q1\n",
    "\n",
    "lower_quartile = q1 - (iqr * 1.5)\n",
    "lower_array = np.where(df['Glucose']<=lower_quartile)[0]\n",
    " \n",
    "df.drop(index=lower_array).reset_index(inplace = True)\n",
    "\n",
    "df.shape"
   ]
  },
  {
   "cell_type": "code",
   "execution_count": 14,
   "id": "fb612b66",
   "metadata": {
    "execution": {
     "iopub.execute_input": "2023-10-08T14:39:55.129906Z",
     "iopub.status.busy": "2023-10-08T14:39:55.129018Z",
     "iopub.status.idle": "2023-10-08T14:39:55.138443Z",
     "shell.execute_reply": "2023-10-08T14:39:55.137774Z"
    },
    "papermill": {
     "duration": 0.023749,
     "end_time": "2023-10-08T14:39:55.140028",
     "exception": false,
     "start_time": "2023-10-08T14:39:55.116279",
     "status": "completed"
    },
    "tags": []
   },
   "outputs": [
    {
     "data": {
      "text/plain": [
       "(2768, 10)"
      ]
     },
     "execution_count": 14,
     "metadata": {},
     "output_type": "execute_result"
    }
   ],
   "source": [
    "# we will only be removing the outlier present below the lower quartile.\n",
    "q1 = df['BloodPressure'].quantile(.25)\n",
    "q3 = df['BloodPressure'].quantile(0.75)\n",
    "iqr = q3-q1\n",
    "\n",
    "lower_quartile = q1 - (iqr * 1.5)\n",
    "\n",
    "lower_array = np.where(df['BloodPressure'] <= lower_quartile)[0]\n",
    " \n",
    "df.drop(index=lower_array).reset_index(inplace = True)\n",
    "\n",
    "df.shape"
   ]
  },
  {
   "cell_type": "code",
   "execution_count": 15,
   "id": "03414bd7",
   "metadata": {
    "execution": {
     "iopub.execute_input": "2023-10-08T14:39:55.164859Z",
     "iopub.status.busy": "2023-10-08T14:39:55.163868Z",
     "iopub.status.idle": "2023-10-08T14:39:55.173839Z",
     "shell.execute_reply": "2023-10-08T14:39:55.172949Z"
    },
    "papermill": {
     "duration": 0.023959,
     "end_time": "2023-10-08T14:39:55.175531",
     "exception": false,
     "start_time": "2023-10-08T14:39:55.151572",
     "status": "completed"
    },
    "tags": []
   },
   "outputs": [
    {
     "data": {
      "text/plain": [
       "(2729, 10)"
      ]
     },
     "execution_count": 15,
     "metadata": {},
     "output_type": "execute_result"
    }
   ],
   "source": [
    "# we will only be removing the outlier present below the lower quartile.\n",
    "q1 = df['BMI'].quantile(.25)\n",
    "q3 = df['BMI'].quantile(0.75)\n",
    "iqr = q3-q1\n",
    "\n",
    "lower_quartile = q1 - (iqr * 1.5)\n",
    "\n",
    "lower_array = np.where(df['BMI'] <= lower_quartile)[0]\n",
    " \n",
    "df.drop(index=lower_array, inplace=True)\n",
    "\n",
    "df.shape"
   ]
  },
  {
   "cell_type": "code",
   "execution_count": 16,
   "id": "64df15d6",
   "metadata": {
    "execution": {
     "iopub.execute_input": "2023-10-08T14:39:55.200563Z",
     "iopub.status.busy": "2023-10-08T14:39:55.200054Z",
     "iopub.status.idle": "2023-10-08T14:39:55.211236Z",
     "shell.execute_reply": "2023-10-08T14:39:55.210580Z"
    },
    "papermill": {
     "duration": 0.026197,
     "end_time": "2023-10-08T14:39:55.213555",
     "exception": false,
     "start_time": "2023-10-08T14:39:55.187358",
     "status": "completed"
    },
    "tags": []
   },
   "outputs": [
    {
     "data": {
      "text/plain": [
       "0    65.3\n",
       "1    34.7\n",
       "Name: Diabetic, dtype: float64"
      ]
     },
     "execution_count": 16,
     "metadata": {},
     "output_type": "execute_result"
    }
   ],
   "source": [
    "round(df['Diabetic'].value_counts(normalize = True)*100,2)"
   ]
  },
  {
   "cell_type": "markdown",
   "id": "53185994",
   "metadata": {
    "papermill": {
     "duration": 0.012509,
     "end_time": "2023-10-08T14:39:55.238220",
     "exception": false,
     "start_time": "2023-10-08T14:39:55.225711",
     "status": "completed"
    },
    "tags": []
   },
   "source": [
    "65% of the sample is non diabetic and 34.3% are diabetic."
   ]
  },
  {
   "cell_type": "markdown",
   "id": "ba63c34f",
   "metadata": {
    "papermill": {
     "duration": 0.010735,
     "end_time": "2023-10-08T14:39:55.260325",
     "exception": false,
     "start_time": "2023-10-08T14:39:55.249590",
     "status": "completed"
    },
    "tags": []
   },
   "source": [
    "**Checking whether the extreme values are more prone to diabetes.**"
   ]
  },
  {
   "cell_type": "code",
   "execution_count": 17,
   "id": "8c650392",
   "metadata": {
    "execution": {
     "iopub.execute_input": "2023-10-08T14:39:55.284854Z",
     "iopub.status.busy": "2023-10-08T14:39:55.283847Z",
     "iopub.status.idle": "2023-10-08T14:39:55.293147Z",
     "shell.execute_reply": "2023-10-08T14:39:55.291978Z"
    },
    "papermill": {
     "duration": 0.024718,
     "end_time": "2023-10-08T14:39:55.295858",
     "exception": false,
     "start_time": "2023-10-08T14:39:55.271140",
     "status": "completed"
    },
    "tags": []
   },
   "outputs": [
    {
     "data": {
      "text/plain": [
       "0    54.98\n",
       "1    45.02\n",
       "Name: Diabetic, dtype: float64"
      ]
     },
     "execution_count": 17,
     "metadata": {},
     "output_type": "execute_result"
    }
   ],
   "source": [
    "diabetic = df[df['Age'] > np.percentile(df['Age'], 90)]\n",
    "round(diabetic['Diabetic'].value_counts(normalize = True)*100,2)"
   ]
  },
  {
   "cell_type": "code",
   "execution_count": 18,
   "id": "f7090604",
   "metadata": {
    "execution": {
     "iopub.execute_input": "2023-10-08T14:39:55.321975Z",
     "iopub.status.busy": "2023-10-08T14:39:55.321629Z",
     "iopub.status.idle": "2023-10-08T14:39:55.331425Z",
     "shell.execute_reply": "2023-10-08T14:39:55.330140Z"
    },
    "papermill": {
     "duration": 0.025734,
     "end_time": "2023-10-08T14:39:55.333761",
     "exception": false,
     "start_time": "2023-10-08T14:39:55.308027",
     "status": "completed"
    },
    "tags": []
   },
   "outputs": [
    {
     "data": {
      "text/plain": [
       "1    52.0\n",
       "0    48.0\n",
       "Name: Diabetic, dtype: float64"
      ]
     },
     "execution_count": 18,
     "metadata": {},
     "output_type": "execute_result"
    }
   ],
   "source": [
    "diabetic = df[df['Pregnancies'] > np.percentile(df['Pregnancies'], 90)]\n",
    "round(diabetic['Diabetic'].value_counts(normalize = True),2)*100"
   ]
  },
  {
   "cell_type": "code",
   "execution_count": 19,
   "id": "3f3fd72e",
   "metadata": {
    "execution": {
     "iopub.execute_input": "2023-10-08T14:39:55.360466Z",
     "iopub.status.busy": "2023-10-08T14:39:55.359294Z",
     "iopub.status.idle": "2023-10-08T14:39:55.371985Z",
     "shell.execute_reply": "2023-10-08T14:39:55.370570Z"
    },
    "papermill": {
     "duration": 0.027389,
     "end_time": "2023-10-08T14:39:55.373652",
     "exception": false,
     "start_time": "2023-10-08T14:39:55.346263",
     "status": "completed"
    },
    "tags": []
   },
   "outputs": [
    {
     "data": {
      "text/plain": [
       "1    83.0\n",
       "0    17.0\n",
       "Name: Diabetic, dtype: float64"
      ]
     },
     "execution_count": 19,
     "metadata": {},
     "output_type": "execute_result"
    }
   ],
   "source": [
    "diabetic = df[df['Glucose'] > np.percentile(df['Glucose'], 90)]\n",
    "round(diabetic['Diabetic'].value_counts(normalize = True),2)*100"
   ]
  },
  {
   "cell_type": "code",
   "execution_count": 20,
   "id": "dc39b32a",
   "metadata": {
    "execution": {
     "iopub.execute_input": "2023-10-08T14:39:55.398994Z",
     "iopub.status.busy": "2023-10-08T14:39:55.398524Z",
     "iopub.status.idle": "2023-10-08T14:39:55.406059Z",
     "shell.execute_reply": "2023-10-08T14:39:55.405402Z"
    },
    "papermill": {
     "duration": 0.02133,
     "end_time": "2023-10-08T14:39:55.407406",
     "exception": false,
     "start_time": "2023-10-08T14:39:55.386076",
     "status": "completed"
    },
    "tags": []
   },
   "outputs": [
    {
     "data": {
      "text/plain": [
       "0    53.0\n",
       "1    47.0\n",
       "Name: Diabetic, dtype: float64"
      ]
     },
     "execution_count": 20,
     "metadata": {},
     "output_type": "execute_result"
    }
   ],
   "source": [
    "diabetic = df[df['BloodPressure'] > np.percentile(df['BloodPressure'], 90)]\n",
    "round(diabetic['Diabetic'].value_counts(normalize = True),2)*100"
   ]
  },
  {
   "cell_type": "code",
   "execution_count": 21,
   "id": "cc7a41e5",
   "metadata": {
    "execution": {
     "iopub.execute_input": "2023-10-08T14:39:55.432244Z",
     "iopub.status.busy": "2023-10-08T14:39:55.431748Z",
     "iopub.status.idle": "2023-10-08T14:39:55.439100Z",
     "shell.execute_reply": "2023-10-08T14:39:55.438530Z"
    },
    "papermill": {
     "duration": 0.021125,
     "end_time": "2023-10-08T14:39:55.440389",
     "exception": false,
     "start_time": "2023-10-08T14:39:55.419264",
     "status": "completed"
    },
    "tags": []
   },
   "outputs": [
    {
     "data": {
      "text/plain": [
       "1    51.0\n",
       "0    49.0\n",
       "Name: Diabetic, dtype: float64"
      ]
     },
     "execution_count": 21,
     "metadata": {},
     "output_type": "execute_result"
    }
   ],
   "source": [
    "diabetic = df[df['SkinThickness'] > np.percentile(df['SkinThickness'], 90)]\n",
    "round(diabetic['Diabetic'].value_counts(normalize = True),2)*100"
   ]
  },
  {
   "cell_type": "code",
   "execution_count": 22,
   "id": "f5cdc6c8",
   "metadata": {
    "execution": {
     "iopub.execute_input": "2023-10-08T14:39:55.465323Z",
     "iopub.status.busy": "2023-10-08T14:39:55.464892Z",
     "iopub.status.idle": "2023-10-08T14:39:55.472416Z",
     "shell.execute_reply": "2023-10-08T14:39:55.471747Z"
    },
    "papermill": {
     "duration": 0.021886,
     "end_time": "2023-10-08T14:39:55.473819",
     "exception": false,
     "start_time": "2023-10-08T14:39:55.451933",
     "status": "completed"
    },
    "tags": []
   },
   "outputs": [
    {
     "data": {
      "text/plain": [
       "1    52.0\n",
       "0    48.0\n",
       "Name: Diabetic, dtype: float64"
      ]
     },
     "execution_count": 22,
     "metadata": {},
     "output_type": "execute_result"
    }
   ],
   "source": [
    "diabetic = df[df['Insulin'] > np.percentile(df['Insulin'], 90)]\n",
    "round(diabetic['Diabetic'].value_counts(normalize = True),2)*100"
   ]
  },
  {
   "cell_type": "code",
   "execution_count": 23,
   "id": "8572ead0",
   "metadata": {
    "execution": {
     "iopub.execute_input": "2023-10-08T14:39:55.498737Z",
     "iopub.status.busy": "2023-10-08T14:39:55.498105Z",
     "iopub.status.idle": "2023-10-08T14:39:55.505639Z",
     "shell.execute_reply": "2023-10-08T14:39:55.504894Z"
    },
    "papermill": {
     "duration": 0.021526,
     "end_time": "2023-10-08T14:39:55.507089",
     "exception": false,
     "start_time": "2023-10-08T14:39:55.485563",
     "status": "completed"
    },
    "tags": []
   },
   "outputs": [
    {
     "data": {
      "text/plain": [
       "1    61.0\n",
       "0    39.0\n",
       "Name: Diabetic, dtype: float64"
      ]
     },
     "execution_count": 23,
     "metadata": {},
     "output_type": "execute_result"
    }
   ],
   "source": [
    "diabetic = df[df['BMI'] > np.percentile(df['BMI'], 90)]\n",
    "round(diabetic['Diabetic'].value_counts(normalize = True),2)*100"
   ]
  },
  {
   "cell_type": "code",
   "execution_count": 24,
   "id": "44cad73a",
   "metadata": {
    "execution": {
     "iopub.execute_input": "2023-10-08T14:39:55.531811Z",
     "iopub.status.busy": "2023-10-08T14:39:55.531425Z",
     "iopub.status.idle": "2023-10-08T14:39:55.539186Z",
     "shell.execute_reply": "2023-10-08T14:39:55.538565Z"
    },
    "papermill": {
     "duration": 0.021455,
     "end_time": "2023-10-08T14:39:55.540433",
     "exception": false,
     "start_time": "2023-10-08T14:39:55.518978",
     "status": "completed"
    },
    "tags": []
   },
   "outputs": [
    {
     "data": {
      "text/plain": [
       "1    52.0\n",
       "0    48.0\n",
       "Name: Diabetic, dtype: float64"
      ]
     },
     "execution_count": 24,
     "metadata": {},
     "output_type": "execute_result"
    }
   ],
   "source": [
    "diabetic = df[df['DiabetesPedigreeFunction'] > np.percentile(df['DiabetesPedigreeFunction'], 90)]\n",
    "round(diabetic['Diabetic'].value_counts(normalize = True),2)*100"
   ]
  },
  {
   "cell_type": "markdown",
   "id": "f16b1678",
   "metadata": {
    "papermill": {
     "duration": 0.011495,
     "end_time": "2023-10-08T14:39:55.563526",
     "exception": false,
     "start_time": "2023-10-08T14:39:55.552031",
     "status": "completed"
    },
    "tags": []
   },
   "source": [
    "**Using a scatterplot to determine the relationship among different variables.**"
   ]
  },
  {
   "cell_type": "code",
   "execution_count": 25,
   "id": "8dfc94f5",
   "metadata": {
    "execution": {
     "iopub.execute_input": "2023-10-08T14:39:55.588896Z",
     "iopub.status.busy": "2023-10-08T14:39:55.587550Z",
     "iopub.status.idle": "2023-10-08T14:40:27.056213Z",
     "shell.execute_reply": "2023-10-08T14:40:27.054659Z"
    },
    "papermill": {
     "duration": 31.535709,
     "end_time": "2023-10-08T14:40:27.110889",
     "exception": false,
     "start_time": "2023-10-08T14:39:55.575180",
     "status": "completed"
    },
    "tags": []
   },
   "outputs": [
    {
     "data": {
      "text/plain": [
       "<seaborn.axisgrid.PairGrid at 0x16c989f50>"
      ]
     },
     "execution_count": 25,
     "metadata": {},
     "output_type": "execute_result"
    }
   ],
   "source": [
    "sns.pairplot(df, hue = 'Diabetic')"
   ]
  },
  {
   "cell_type": "markdown",
   "id": "9145c41b",
   "metadata": {
    "papermill": {
     "duration": 0.038406,
     "end_time": "2023-10-08T14:40:27.186452",
     "exception": false,
     "start_time": "2023-10-08T14:40:27.148046",
     "status": "completed"
    },
    "tags": []
   },
   "source": [
    "The scatterplot doesn't show the correlations clearly. Therefore, we will plot a heatmap."
   ]
  },
  {
   "cell_type": "code",
   "execution_count": 26,
   "id": "7f41ed37",
   "metadata": {
    "execution": {
     "iopub.execute_input": "2023-10-08T14:40:27.268025Z",
     "iopub.status.busy": "2023-10-08T14:40:27.267561Z",
     "iopub.status.idle": "2023-10-08T14:40:27.709446Z",
     "shell.execute_reply": "2023-10-08T14:40:27.708343Z"
    },
    "papermill": {
     "duration": 0.48514,
     "end_time": "2023-10-08T14:40:27.711803",
     "exception": false,
     "start_time": "2023-10-08T14:40:27.226663",
     "status": "completed"
    },
    "tags": []
   },
   "outputs": [
    {
     "data": {
      "text/plain": [
       "<Axes: >"
      ]
     },
     "execution_count": 26,
     "metadata": {},
     "output_type": "execute_result"
    },
    {
     "data": {
      "image/png": "[encoded data removed]",
      "text/plain": [
       "<Figure size 1000x1000 with 2 Axes>"
      ]
     },
     "metadata": {},
     "output_type": "display_data"
    }
   ],
   "source": [
    "plt.figure(figsize=(10,10))\n",
    "sns.heatmap(df.corr(), annot = True)"
   ]
  },
  {
   "cell_type": "markdown",
   "id": "95a65ec6",
   "metadata": {
    "papermill": {
     "duration": 0.03869,
     "end_time": "2023-10-08T14:40:27.790525",
     "exception": false,
     "start_time": "2023-10-08T14:40:27.751835",
     "status": "completed"
    },
    "tags": []
   },
   "source": [
    "The variables `Glucose` (0.46), `BMI` (0.28), `Age` (0.23), and `Pregnancies` (0.22) show a stronger correlation with diabetes compared to other variables, indicating they are potential predictor variables. Additionally, `DiabetesPedigreeFunction` (0.16) and `Insulin` (0.12) also exhibit some correlation.\n",
    "\n",
    "However, `SkinThickness` and `BloodPressure` do not appear to be strongly correlated with the predictor variable. While they could potentially be interactive variables, confirming their relationship would require more information. Therefore, for now, we will not include them in our model."
   ]
  },
  {
   "cell_type": "markdown",
   "id": "26483617",
   "metadata": {
    "papermill": {
     "duration": 0.038844,
     "end_time": "2023-10-08T14:40:27.868888",
     "exception": false,
     "start_time": "2023-10-08T14:40:27.830044",
     "status": "completed"
    },
    "tags": []
   },
   "source": [
    "# 4. Feature Engineering"
   ]
  },
  {
   "cell_type": "markdown",
   "id": "a900bc45",
   "metadata": {
    "papermill": {
     "duration": 0.038619,
     "end_time": "2023-10-08T14:40:27.946348",
     "exception": false,
     "start_time": "2023-10-08T14:40:27.907729",
     "status": "completed"
    },
    "tags": []
   },
   "source": [
    "**Removing the irrelevant variables from the dataset.**\n",
    "\n",
    "The `Id` doesn't help in predicting the outcome variable. Therefore, we will remove it along with other variables which shows very low or no correlation with the target variable."
   ]
  },
  {
   "cell_type": "code",
   "execution_count": 27,
   "id": "67bd1c7d",
   "metadata": {
    "execution": {
     "iopub.execute_input": "2023-10-08T14:40:28.026852Z",
     "iopub.status.busy": "2023-10-08T14:40:28.026432Z",
     "iopub.status.idle": "2023-10-08T14:40:28.038754Z",
     "shell.execute_reply": "2023-10-08T14:40:28.037445Z"
    },
    "papermill": {
     "duration": 0.055425,
     "end_time": "2023-10-08T14:40:28.040693",
     "exception": false,
     "start_time": "2023-10-08T14:40:27.985268",
     "status": "completed"
    },
    "tags": []
   },
   "outputs": [
    {
     "data": {
      "text/html": [
       "<div>\n",
       "<style scoped>\n",
       "    .dataframe tbody tr th:only-of-type {\n",
       "        vertical-align: middle;\n",
       "    }\n",
       "\n",
       "    .dataframe tbody tr th {\n",
       "        vertical-align: top;\n",
       "    }\n",
       "\n",
       "    .dataframe thead th {\n",
       "        text-align: right;\n",
       "    }\n",
       "</style>\n",
       "<table border=\"1\" class=\"dataframe\">\n",
       "  <thead>\n",
       "    <tr style=\"text-align: right;\">\n",
       "      <th></th>\n",
       "      <th>Pregnancies</th>\n",
       "      <th>Glucose</th>\n",
       "      <th>BMI</th>\n",
       "      <th>Age</th>\n",
       "      <th>Diabetic</th>\n",
       "    </tr>\n",
       "  </thead>\n",
       "  <tbody>\n",
       "    <tr>\n",
       "      <th>0</th>\n",
       "      <td>6</td>\n",
       "      <td>148</td>\n",
       "      <td>33.6</td>\n",
       "      <td>50</td>\n",
       "      <td>1</td>\n",
       "    </tr>\n",
       "    <tr>\n",
       "      <th>1</th>\n",
       "      <td>1</td>\n",
       "      <td>85</td>\n",
       "      <td>26.6</td>\n",
       "      <td>31</td>\n",
       "      <td>0</td>\n",
       "    </tr>\n",
       "    <tr>\n",
       "      <th>2</th>\n",
       "      <td>8</td>\n",
       "      <td>183</td>\n",
       "      <td>23.3</td>\n",
       "      <td>32</td>\n",
       "      <td>1</td>\n",
       "    </tr>\n",
       "    <tr>\n",
       "      <th>3</th>\n",
       "      <td>1</td>\n",
       "      <td>89</td>\n",
       "      <td>28.1</td>\n",
       "      <td>21</td>\n",
       "      <td>0</td>\n",
       "    </tr>\n",
       "    <tr>\n",
       "      <th>4</th>\n",
       "      <td>0</td>\n",
       "      <td>137</td>\n",
       "      <td>43.1</td>\n",
       "      <td>33</td>\n",
       "      <td>1</td>\n",
       "    </tr>\n",
       "  </tbody>\n",
       "</table>\n",
       "</div>"
      ],
      "text/plain": [
       "   Pregnancies  Glucose   BMI  Age  Diabetic\n",
       "0            6      148  33.6   50         1\n",
       "1            1       85  26.6   31         0\n",
       "2            8      183  23.3   32         1\n",
       "3            1       89  28.1   21         0\n",
       "4            0      137  43.1   33         1"
      ]
     },
     "execution_count": 27,
     "metadata": {},
     "output_type": "execute_result"
    }
   ],
   "source": [
    "df = df.drop(['Id','BloodPressure', 'SkinThickness','Insulin', 'DiabetesPedigreeFunction'], axis = 1)\n",
    "df.head()"
   ]
  },
  {
   "cell_type": "markdown",
   "id": "d522333e",
   "metadata": {
    "papermill": {
     "duration": 0.03892,
     "end_time": "2023-10-08T14:40:28.118764",
     "exception": false,
     "start_time": "2023-10-08T14:40:28.079844",
     "status": "completed"
    },
    "tags": []
   },
   "source": [
    "- The variables Glucose (0.46) and BMI (0.28) are normally distributed and highly correlated with diabetes, making them strong potential predictor variables. Age (0.23) and Pregnancies (0.22) also show a notable correlation.\n",
    "- In addition, DiabetesPedigreeFunction (0.16) and Insulin (0.12) exhibit some correlation with diabetes.\n",
    "- Given that the outcome variable is a binary categorical variable (diabetic or non-diabetic), we will need classification models to analyze and predict these relationships."
   ]
  },
  {
   "cell_type": "markdown",
   "id": "a3982007",
   "metadata": {
    "papermill": {
     "duration": 0.038722,
     "end_time": "2023-10-08T14:40:28.196302",
     "exception": false,
     "start_time": "2023-10-08T14:40:28.157580",
     "status": "completed"
    },
    "tags": []
   },
   "source": [
    "# 5. Naive Bayes"
   ]
  },
  {
   "cell_type": "code",
   "execution_count": 28,
   "id": "a0e7a7ca",
   "metadata": {
    "execution": {
     "iopub.execute_input": "2023-10-08T14:40:28.277610Z",
     "iopub.status.busy": "2023-10-08T14:40:28.276852Z",
     "iopub.status.idle": "2023-10-08T14:40:28.283932Z",
     "shell.execute_reply": "2023-10-08T14:40:28.282992Z"
    },
    "papermill": {
     "duration": 0.048927,
     "end_time": "2023-10-08T14:40:28.285381",
     "exception": false,
     "start_time": "2023-10-08T14:40:28.236454",
     "status": "completed"
    },
    "tags": []
   },
   "outputs": [
    {
     "data": {
      "text/plain": [
       "0       1\n",
       "1       0\n",
       "2       1\n",
       "3       0\n",
       "4       1\n",
       "       ..\n",
       "2763    0\n",
       "2764    1\n",
       "2765    0\n",
       "2766    1\n",
       "2767    0\n",
       "Name: Diabetic, Length: 2729, dtype: int64"
      ]
     },
     "execution_count": 28,
     "metadata": {},
     "output_type": "execute_result"
    }
   ],
   "source": [
    "# defining predictor variable\n",
    "y = df['Diabetic']\n",
    "y"
   ]
  },
  {
   "cell_type": "code",
   "execution_count": 29,
   "id": "0ebee3ea",
   "metadata": {
    "execution": {
     "iopub.execute_input": "2023-10-08T14:40:28.366795Z",
     "iopub.status.busy": "2023-10-08T14:40:28.366445Z",
     "iopub.status.idle": "2023-10-08T14:40:28.375157Z",
     "shell.execute_reply": "2023-10-08T14:40:28.374554Z"
    },
    "papermill": {
     "duration": 0.051534,
     "end_time": "2023-10-08T14:40:28.377126",
     "exception": false,
     "start_time": "2023-10-08T14:40:28.325592",
     "status": "completed"
    },
    "tags": []
   },
   "outputs": [
    {
     "data": {
      "text/html": [
       "<div>\n",
       "<style scoped>\n",
       "    .dataframe tbody tr th:only-of-type {\n",
       "        vertical-align: middle;\n",
       "    }\n",
       "\n",
       "    .dataframe tbody tr th {\n",
       "        vertical-align: top;\n",
       "    }\n",
       "\n",
       "    .dataframe thead th {\n",
       "        text-align: right;\n",
       "    }\n",
       "</style>\n",
       "<table border=\"1\" class=\"dataframe\">\n",
       "  <thead>\n",
       "    <tr style=\"text-align: right;\">\n",
       "      <th></th>\n",
       "      <th>Pregnancies</th>\n",
       "      <th>Glucose</th>\n",
       "      <th>BMI</th>\n",
       "      <th>Age</th>\n",
       "    </tr>\n",
       "  </thead>\n",
       "  <tbody>\n",
       "    <tr>\n",
       "      <th>0</th>\n",
       "      <td>6</td>\n",
       "      <td>148</td>\n",
       "      <td>33.6</td>\n",
       "      <td>50</td>\n",
       "    </tr>\n",
       "    <tr>\n",
       "      <th>1</th>\n",
       "      <td>1</td>\n",
       "      <td>85</td>\n",
       "      <td>26.6</td>\n",
       "      <td>31</td>\n",
       "    </tr>\n",
       "    <tr>\n",
       "      <th>2</th>\n",
       "      <td>8</td>\n",
       "      <td>183</td>\n",
       "      <td>23.3</td>\n",
       "      <td>32</td>\n",
       "    </tr>\n",
       "    <tr>\n",
       "      <th>3</th>\n",
       "      <td>1</td>\n",
       "      <td>89</td>\n",
       "      <td>28.1</td>\n",
       "      <td>21</td>\n",
       "    </tr>\n",
       "    <tr>\n",
       "      <th>4</th>\n",
       "      <td>0</td>\n",
       "      <td>137</td>\n",
       "      <td>43.1</td>\n",
       "      <td>33</td>\n",
       "    </tr>\n",
       "  </tbody>\n",
       "</table>\n",
       "</div>"
      ],
      "text/plain": [
       "   Pregnancies  Glucose   BMI  Age\n",
       "0            6      148  33.6   50\n",
       "1            1       85  26.6   31\n",
       "2            8      183  23.3   32\n",
       "3            1       89  28.1   21\n",
       "4            0      137  43.1   33"
      ]
     },
     "execution_count": 29,
     "metadata": {},
     "output_type": "execute_result"
    }
   ],
   "source": [
    "# defining target variable\n",
    "\n",
    "x = df.copy()\n",
    "x = x.drop(columns = [ 'Diabetic' ])\n",
    "x.head()"
   ]
  },
  {
   "cell_type": "code",
   "execution_count": 30,
   "id": "2180c0c6",
   "metadata": {
    "execution": {
     "iopub.execute_input": "2023-10-08T14:40:28.462261Z",
     "iopub.status.busy": "2023-10-08T14:40:28.461909Z",
     "iopub.status.idle": "2023-10-08T14:40:28.469279Z",
     "shell.execute_reply": "2023-10-08T14:40:28.468386Z"
    },
    "papermill": {
     "duration": 0.051551,
     "end_time": "2023-10-08T14:40:28.470841",
     "exception": false,
     "start_time": "2023-10-08T14:40:28.419290",
     "status": "completed"
    },
    "tags": []
   },
   "outputs": [
    {
     "name": "stdout",
     "output_type": "stream",
     "text": [
      " x train: (2183, 4) \n",
      " x test:  (546, 4) \n",
      " y train: (2183,) \n",
      " y test:  (546,)\n"
     ]
    }
   ],
   "source": [
    "x_train, x_test, y_train, y_test = train_test_split(x, y, test_size = 0.20, stratify = y, random_state = 0)\n",
    "print(f\" x train: {x_train.shape} \\n x test:  {x_test.shape} \\n y train: {y_train.shape} \\n y test:  {y_test.shape}\")"
   ]
  },
  {
   "cell_type": "code",
   "execution_count": 31,
   "id": "16737ddf",
   "metadata": {
    "execution": {
     "iopub.execute_input": "2023-10-08T14:40:28.552266Z",
     "iopub.status.busy": "2023-10-08T14:40:28.551956Z",
     "iopub.status.idle": "2023-10-08T14:40:28.570392Z",
     "shell.execute_reply": "2023-10-08T14:40:28.569252Z"
    },
    "papermill": {
     "duration": 0.061393,
     "end_time": "2023-10-08T14:40:28.572575",
     "exception": false,
     "start_time": "2023-10-08T14:40:28.511182",
     "status": "completed"
    },
    "tags": []
   },
   "outputs": [
    {
     "data": {
      "text/html": [
       "<style>#sk-container-id-1 {color: black;background-color: white;}#sk-container-id-1 pre{padding: 0;}#sk-container-id-1 div.sk-toggleable {background-color: white;}#sk-container-id-1 label.sk-toggleable__label {cursor: pointer;display: block;width: 100%;margin-bottom: 0;padding: 0.3em;box-sizing: border-box;text-align: center;}#sk-container-id-1 label.sk-toggleable__label-arrow:before {content: \"▸\";float: left;margin-right: 0.25em;color: #696969;}#sk-container-id-1 label.sk-toggleable__label-arrow:hover:before {color: black;}#sk-container-id-1 div.sk-estimator:hover label.sk-toggleable__label-arrow:before {color: black;}#sk-container-id-1 div.sk-toggleable__content {max-height: 0;max-width: 0;overflow: hidden;text-align: left;background-color: #f0f8ff;}#sk-container-id-1 div.sk-toggleable__content pre {margin: 0.2em;color: black;border-radius: 0.25em;background-color: #f0f8ff;}#sk-container-id-1 input.sk-toggleable__control:checked~div.sk-toggleable__content {max-height: 200px;max-width: 100%;overflow: auto;}#sk-container-id-1 input.sk-toggleable__control:checked~label.sk-toggleable__label-arrow:before {content: \"▾\";}#sk-container-id-1 div.sk-estimator input.sk-toggleable__control:checked~label.sk-toggleable__label {background-color: #d4ebff;}#sk-container-id-1 div.sk-label input.sk-toggleable__control:checked~label.sk-toggleable__label {background-color: #d4ebff;}#sk-container-id-1 input.sk-hidden--visually {border: 0;clip: rect(1px 1px 1px 1px);clip: rect(1px, 1px, 1px, 1px);height: 1px;margin: -1px;overflow: hidden;padding: 0;position: absolute;width: 1px;}#sk-container-id-1 div.sk-estimator {font-family: monospace;background-color: #f0f8ff;border: 1px dotted black;border-radius: 0.25em;box-sizing: border-box;margin-bottom: 0.5em;}#sk-container-id-1 div.sk-estimator:hover {background-color: #d4ebff;}#sk-container-id-1 div.sk-parallel-item::after {content: \"\";width: 100%;border-bottom: 1px solid gray;flex-grow: 1;}#sk-container-id-1 div.sk-label:hover label.sk-toggleable__label {background-color: #d4ebff;}#sk-container-id-1 div.sk-serial::before {content: \"\";position: absolute;border-left: 1px solid gray;box-sizing: border-box;top: 0;bottom: 0;left: 50%;z-index: 0;}#sk-container-id-1 div.sk-serial {display: flex;flex-direction: column;align-items: center;background-color: white;padding-right: 0.2em;padding-left: 0.2em;position: relative;}#sk-container-id-1 div.sk-item {position: relative;z-index: 1;}#sk-container-id-1 div.sk-parallel {display: flex;align-items: stretch;justify-content: center;background-color: white;position: relative;}#sk-container-id-1 div.sk-item::before, #sk-container-id-1 div.sk-parallel-item::before {content: \"\";position: absolute;border-left: 1px solid gray;box-sizing: border-box;top: 0;bottom: 0;left: 50%;z-index: -1;}#sk-container-id-1 div.sk-parallel-item {display: flex;flex-direction: column;z-index: 1;position: relative;background-color: white;}#sk-container-id-1 div.sk-parallel-item:first-child::after {align-self: flex-end;width: 50%;}#sk-container-id-1 div.sk-parallel-item:last-child::after {align-self: flex-start;width: 50%;}#sk-container-id-1 div.sk-parallel-item:only-child::after {width: 0;}#sk-container-id-1 div.sk-dashed-wrapped {border: 1px dashed gray;margin: 0 0.4em 0.5em 0.4em;box-sizing: border-box;padding-bottom: 0.4em;background-color: white;}#sk-container-id-1 div.sk-label label {font-family: monospace;font-weight: bold;display: inline-block;line-height: 1.2em;}#sk-container-id-1 div.sk-label-container {text-align: center;}#sk-container-id-1 div.sk-container {/* jupyter's `normalize.less` sets `[hidden] { display: none; }` but bootstrap.min.css set `[hidden] { display: none !important; }` so we also need the `!important` here to be able to override the default hidden behavior on the sphinx rendered scikit-learn.org. See: https://github.com/scikit-learn/scikit-learn/issues/21755 */display: inline-block !important;position: relative;}#sk-container-id-1 div.sk-text-repr-fallback {display: none;}</style><div id=\"sk-container-id-1\" class=\"sk-top-container\"><div class=\"sk-text-repr-fallback\"><pre>BernoulliNB()</pre><b>In a Jupyter environment, please rerun this cell to show the HTML representation or trust the notebook. <br />On GitHub, the HTML representation is unable to render, please try loading this page with nbviewer.org.</b></div><div class=\"sk-container\" hidden><div class=\"sk-item\"><div class=\"sk-estimator sk-toggleable\"><input class=\"sk-toggleable__control sk-hidden--visually\" id=\"sk-estimator-id-1\" type=\"checkbox\" checked><label for=\"sk-estimator-id-1\" class=\"sk-toggleable__label sk-toggleable__label-arrow\">BernoulliNB</label><div class=\"sk-toggleable__content\"><pre>BernoulliNB()</pre></div></div></div></div></div>"
      ],
      "text/plain": [
       "BernoulliNB()"
      ]
     },
     "execution_count": 31,
     "metadata": {},
     "output_type": "execute_result"
    }
   ],
   "source": [
    "nb = BernoulliNB(binarize=0.0)\n",
    "model = nb.fit(x_train, y_train)\n",
    "model"
   ]
  },
  {
   "cell_type": "code",
   "execution_count": 32,
   "id": "6a18f69a",
   "metadata": {
    "execution": {
     "iopub.execute_input": "2023-10-08T14:40:28.663984Z",
     "iopub.status.busy": "2023-10-08T14:40:28.663332Z",
     "iopub.status.idle": "2023-10-08T14:40:28.671430Z",
     "shell.execute_reply": "2023-10-08T14:40:28.670622Z"
    },
    "papermill": {
     "duration": 0.055757,
     "end_time": "2023-10-08T14:40:28.673097",
     "exception": false,
     "start_time": "2023-10-08T14:40:28.617340",
     "status": "completed"
    },
    "tags": []
   },
   "outputs": [
    {
     "data": {
      "text/plain": [
       "array([0, 0, 0, 0, 0, 0, 0, 0, 0, 0, 0, 0, 0, 0, 0, 0, 0, 0, 0, 0, 0, 0,\n",
       "       0, 0, 0, 0, 0, 0, 0, 0, 0, 0, 0, 0, 0, 0, 0, 0, 0, 0, 0, 0, 0, 0,\n",
       "       0, 0, 0, 0, 0, 0, 0, 0, 0, 0, 0, 0, 0, 0, 0, 0, 0, 0, 0, 0, 0, 0,\n",
       "       0, 0, 0, 0, 0, 0, 0, 0, 0, 0, 0, 0, 0, 0, 0, 0, 0, 0, 0, 0, 0, 0,\n",
       "       0, 0, 0, 0, 0, 0, 0, 0, 0, 0, 0, 0, 0, 0, 0, 0, 0, 0, 0, 0, 0, 0,\n",
       "       0, 0, 0, 0, 0, 0, 0, 0, 0, 0, 0, 0, 0, 0, 0, 0, 0, 0, 0, 0, 0, 0,\n",
       "       0, 0, 0, 0, 0, 0, 0, 0, 0, 0, 0, 0, 0, 0, 0, 0, 0, 0, 0, 0, 0, 0,\n",
       "       0, 0, 0, 0, 0, 0, 0, 0, 0, 0, 0, 0, 0, 0, 0, 0, 0, 0, 0, 0, 0, 0,\n",
       "       0, 0, 0, 0, 0, 0, 0, 0, 0, 0, 0, 0, 0, 0, 0, 0, 0, 0, 0, 0, 0, 0,\n",
       "       0, 0, 0, 0, 0, 0, 0, 0, 0, 0, 0, 0, 0, 0, 0, 0, 0, 0, 0, 0, 0, 0,\n",
       "       0, 0, 0, 0, 0, 0, 0, 0, 0, 0, 0, 0, 0, 0, 0, 0, 0, 0, 0, 0, 0, 0,\n",
       "       0, 0, 0, 0, 0, 0, 0, 0, 0, 0, 0, 0, 0, 0, 0, 0, 0, 0, 0, 0, 0, 0,\n",
       "       0, 0, 0, 0, 0, 0, 0, 0, 0, 0, 0, 0, 0, 0, 0, 0, 0, 0, 0, 0, 0, 0,\n",
       "       0, 0, 0, 0, 0, 0, 0, 0, 0, 0, 0, 0, 0, 0, 0, 0, 0, 0, 0, 0, 0, 0,\n",
       "       0, 0, 0, 0, 0, 0, 0, 0, 0, 0, 0, 0, 0, 0, 0, 0, 0, 0, 0, 0, 0, 0,\n",
       "       0, 0, 0, 0, 0, 0, 0, 0, 0, 0, 0, 0, 0, 0, 0, 0, 0, 0, 0, 0, 0, 0,\n",
       "       0, 0, 0, 0, 0, 0, 0, 0, 0, 0, 0, 0, 0, 0, 0, 0, 0, 0, 0, 0, 0, 0,\n",
       "       0, 0, 0, 0, 0, 0, 0, 0, 0, 0, 0, 0, 0, 0, 0, 0, 0, 0, 0, 0, 0, 0,\n",
       "       0, 0, 0, 0, 0, 0, 0, 0, 0, 0, 0, 0, 0, 0, 0, 0, 0, 0, 0, 0, 0, 0,\n",
       "       0, 0, 0, 0, 0, 0, 0, 0, 0, 0, 0, 0, 0, 0, 0, 0, 0, 0, 0, 0, 0, 0,\n",
       "       0, 0, 0, 0, 0, 0, 0, 0, 0, 0, 0, 0, 0, 0, 0, 0, 0, 0, 0, 0, 0, 0,\n",
       "       0, 0, 0, 0, 0, 0, 0, 0, 0, 0, 0, 0, 0, 0, 0, 0, 0, 0, 0, 0, 0, 0,\n",
       "       0, 0, 0, 0, 0, 0, 0, 0, 0, 0, 0, 0, 0, 0, 0, 0, 0, 0, 0, 0, 0, 0,\n",
       "       0, 0, 0, 0, 0, 0, 0, 0, 0, 0, 0, 0, 0, 0, 0, 0, 0, 0, 0, 0, 0, 0,\n",
       "       0, 0, 0, 0, 0, 0, 0, 0, 0, 0, 0, 0, 0, 0, 0, 0, 0, 0])"
      ]
     },
     "execution_count": 32,
     "metadata": {},
     "output_type": "execute_result"
    }
   ],
   "source": [
    "y_pred = model.predict(x_test)\n",
    "y_pred"
   ]
  },
  {
   "cell_type": "code",
   "execution_count": 33,
   "id": "1633acf6",
   "metadata": {
    "execution": {
     "iopub.execute_input": "2023-10-08T14:40:28.758712Z",
     "iopub.status.busy": "2023-10-08T14:40:28.758107Z",
     "iopub.status.idle": "2023-10-08T14:40:28.772041Z",
     "shell.execute_reply": "2023-10-08T14:40:28.771308Z"
    },
    "papermill": {
     "duration": 0.05991,
     "end_time": "2023-10-08T14:40:28.773830",
     "exception": false,
     "start_time": "2023-10-08T14:40:28.713920",
     "status": "completed"
    },
    "tags": []
   },
   "outputs": [
    {
     "name": "stdout",
     "output_type": "stream",
     "text": [
      "Accuracy: 0.654\n",
      "Precision: 0.0\n",
      "recall: 0.0\n",
      "F1 Score: 0.0\n"
     ]
    },
    {
     "name": "stderr",
     "output_type": "stream",
     "text": [
      "/Users/siyuai/anaconda3/lib/python3.11/site-packages/sklearn/metrics/_classification.py:1344: UndefinedMetricWarning: Precision is ill-defined and being set to 0.0 due to no predicted samples. Use `zero_division` parameter to control this behavior.\n",
      "  _warn_prf(average, modifier, msg_start, len(result))\n"
     ]
    }
   ],
   "source": [
    "# evaluating the model using metrics\n",
    "print(f\"Accuracy: {round(accuracy_score(y_test, y_pred),3)}\")\n",
    "print(f\"Precision: {round(precision_score(y_test, y_pred),3)}\")\n",
    "print(f\"recall: {round(recall_score(y_test, y_pred),3)}\")\n",
    "print(f\"F1 Score: {round(f1_score(y_test, y_pred),3)}\")\n"
   ]
  },
  {
   "cell_type": "code",
   "execution_count": 34,
   "id": "11b0c78a",
   "metadata": {
    "execution": {
     "iopub.execute_input": "2023-10-08T14:40:28.860908Z",
     "iopub.status.busy": "2023-10-08T14:40:28.860347Z",
     "iopub.status.idle": "2023-10-08T14:40:28.872759Z",
     "shell.execute_reply": "2023-10-08T14:40:28.871347Z"
    },
    "papermill": {
     "duration": 0.058896,
     "end_time": "2023-10-08T14:40:28.874295",
     "exception": false,
     "start_time": "2023-10-08T14:40:28.815399",
     "status": "completed"
    },
    "tags": []
   },
   "outputs": [
    {
     "name": "stdout",
     "output_type": "stream",
     "text": [
      "              precision    recall  f1-score   support\n",
      "\n",
      "           0       0.65      1.00      0.79       357\n",
      "           1       0.00      0.00      0.00       189\n",
      "\n",
      "    accuracy                           0.65       546\n",
      "   macro avg       0.33      0.50      0.40       546\n",
      "weighted avg       0.43      0.65      0.52       546\n",
      "\n"
     ]
    },
    {
     "name": "stderr",
     "output_type": "stream",
     "text": [
      "/Users/siyuai/anaconda3/lib/python3.11/site-packages/sklearn/metrics/_classification.py:1344: UndefinedMetricWarning: Precision and F-score are ill-defined and being set to 0.0 in labels with no predicted samples. Use `zero_division` parameter to control this behavior.\n",
      "  _warn_prf(average, modifier, msg_start, len(result))\n",
      "/Users/siyuai/anaconda3/lib/python3.11/site-packages/sklearn/metrics/_classification.py:1344: UndefinedMetricWarning: Precision and F-score are ill-defined and being set to 0.0 in labels with no predicted samples. Use `zero_division` parameter to control this behavior.\n",
      "  _warn_prf(average, modifier, msg_start, len(result))\n",
      "/Users/siyuai/anaconda3/lib/python3.11/site-packages/sklearn/metrics/_classification.py:1344: UndefinedMetricWarning: Precision and F-score are ill-defined and being set to 0.0 in labels with no predicted samples. Use `zero_division` parameter to control this behavior.\n",
      "  _warn_prf(average, modifier, msg_start, len(result))\n"
     ]
    }
   ],
   "source": [
    "print(classification_report(y_test, y_pred))"
   ]
  },
  {
   "cell_type": "code",
   "execution_count": 35,
   "id": "23752d77",
   "metadata": {
    "execution": {
     "iopub.execute_input": "2023-10-08T14:40:28.961281Z",
     "iopub.status.busy": "2023-10-08T14:40:28.960744Z",
     "iopub.status.idle": "2023-10-08T14:40:29.156207Z",
     "shell.execute_reply": "2023-10-08T14:40:29.154845Z"
    },
    "papermill": {
     "duration": 0.242469,
     "end_time": "2023-10-08T14:40:29.158590",
     "exception": false,
     "start_time": "2023-10-08T14:40:28.916121",
     "status": "completed"
    },
    "tags": []
   },
   "outputs": [
    {
     "data": {
      "text/plain": [
       "<sklearn.metrics._plot.confusion_matrix.ConfusionMatrixDisplay at 0x1691a1350>"
      ]
     },
     "execution_count": 35,
     "metadata": {},
     "output_type": "execute_result"
    },
    {
     "data": {
      "image/png": "[encoded data removed]",
      "text/plain": [
       "<Figure size 640x480 with 2 Axes>"
      ]
     },
     "metadata": {},
     "output_type": "display_data"
    }
   ],
   "source": [
    "cm = confusion_matrix(y_test, y_pred)\n",
    "disp = ConfusionMatrixDisplay(confusion_matrix = cm, display_labels = nb.classes_)\n",
    "disp.plot()"
   ]
  },
  {
   "cell_type": "markdown",
   "id": "30f9552f",
   "metadata": {
    "papermill": {
     "duration": 0.041948,
     "end_time": "2023-10-08T14:40:29.243615",
     "exception": false,
     "start_time": "2023-10-08T14:40:29.201667",
     "status": "completed"
    },
    "tags": []
   },
   "source": [
    "The Naive Bayes model predicted the value 0 for all the observations, resulting in a significant number of false negatives and false positives."
   ]
  },
  {
   "cell_type": "markdown",
   "id": "6c3b0ddc",
   "metadata": {
    "papermill": {
     "duration": 0.041896,
     "end_time": "2023-10-08T14:40:29.327220",
     "exception": false,
     "start_time": "2023-10-08T14:40:29.285324",
     "status": "completed"
    },
    "tags": []
   },
   "source": [
    "# 6. Random Forest Model"
   ]
  },
  {
   "cell_type": "code",
   "execution_count": 36,
   "id": "7fcac21f",
   "metadata": {
    "execution": {
     "iopub.execute_input": "2023-10-08T14:40:29.416258Z",
     "iopub.status.busy": "2023-10-08T14:40:29.415631Z",
     "iopub.status.idle": "2023-10-08T14:40:29.421398Z",
     "shell.execute_reply": "2023-10-08T14:40:29.420872Z"
    },
    "papermill": {
     "duration": 0.053476,
     "end_time": "2023-10-08T14:40:29.423133",
     "exception": false,
     "start_time": "2023-10-08T14:40:29.369657",
     "status": "completed"
    },
    "tags": []
   },
   "outputs": [],
   "source": [
    "x_tr, x_val, y_tr, y_val = train_test_split(x_train, y_train, stratify = y_train, random_state = 0, test_size = 0.20)"
   ]
  },
  {
   "cell_type": "code",
   "execution_count": 37,
   "id": "ae0fb029",
   "metadata": {
    "execution": {
     "iopub.execute_input": "2023-10-08T14:40:29.510123Z",
     "iopub.status.busy": "2023-10-08T14:40:29.509420Z",
     "iopub.status.idle": "2023-10-08T14:40:29.514305Z",
     "shell.execute_reply": "2023-10-08T14:40:29.513682Z"
    },
    "papermill": {
     "duration": 0.050924,
     "end_time": "2023-10-08T14:40:29.516477",
     "exception": false,
     "start_time": "2023-10-08T14:40:29.465553",
     "status": "completed"
    },
    "tags": []
   },
   "outputs": [],
   "source": [
    "# defining the hyperparamters\n",
    "cv_params = {\n",
    "    'max_depth' : [8,10,14,20],\n",
    "    'n_estimators' : [20, 40, 60, 80, 100],\n",
    "    'min_samples_leaf' : [0.25, 0.5, 1],\n",
    "    'min_samples_split' : [0.001, 0.01, 0.05],\n",
    "    'max_features' : ['sqrt'],\n",
    "    'max_samples' : [.5, .9]\n",
    "}"
   ]
  },
  {
   "cell_type": "code",
   "execution_count": 38,
   "id": "b6677034",
   "metadata": {
    "execution": {
     "iopub.execute_input": "2023-10-08T14:40:29.601853Z",
     "iopub.status.busy": "2023-10-08T14:40:29.601147Z",
     "iopub.status.idle": "2023-10-08T14:40:29.607996Z",
     "shell.execute_reply": "2023-10-08T14:40:29.607147Z"
    },
    "papermill": {
     "duration": 0.051524,
     "end_time": "2023-10-08T14:40:29.609908",
     "exception": false,
     "start_time": "2023-10-08T14:40:29.558384",
     "status": "completed"
    },
    "tags": []
   },
   "outputs": [],
   "source": [
    "split_index = [0 if x in x_val.index else -1 for x in x_train.index]\n",
    "custom_split = PredefinedSplit(split_index)"
   ]
  },
  {
   "cell_type": "code",
   "execution_count": 39,
   "id": "9dfbba82",
   "metadata": {
    "execution": {
     "iopub.execute_input": "2023-10-08T14:40:29.697800Z",
     "iopub.status.busy": "2023-10-08T14:40:29.697353Z",
     "iopub.status.idle": "2023-10-08T14:40:29.702047Z",
     "shell.execute_reply": "2023-10-08T14:40:29.701063Z"
    },
    "papermill": {
     "duration": 0.050201,
     "end_time": "2023-10-08T14:40:29.703535",
     "exception": false,
     "start_time": "2023-10-08T14:40:29.653334",
     "status": "completed"
    },
    "tags": []
   },
   "outputs": [],
   "source": [
    "clf = RandomForestClassifier(random_state = 0)"
   ]
  },
  {
   "cell_type": "code",
   "execution_count": 40,
   "id": "45772408",
   "metadata": {
    "execution": {
     "iopub.execute_input": "2023-10-08T14:40:29.789360Z",
     "iopub.status.busy": "2023-10-08T14:40:29.788598Z",
     "iopub.status.idle": "2023-10-08T14:40:29.793045Z",
     "shell.execute_reply": "2023-10-08T14:40:29.792273Z"
    },
    "papermill": {
     "duration": 0.049106,
     "end_time": "2023-10-08T14:40:29.794397",
     "exception": false,
     "start_time": "2023-10-08T14:40:29.745291",
     "status": "completed"
    },
    "tags": []
   },
   "outputs": [],
   "source": [
    "rf = GridSearchCV(clf, cv_params, cv = custom_split, refit = 'f1', n_jobs = -1, verbose = 1)"
   ]
  },
  {
   "cell_type": "code",
   "execution_count": 41,
   "id": "e70c0e26",
   "metadata": {
    "execution": {
     "iopub.execute_input": "2023-10-08T14:40:29.880025Z",
     "iopub.status.busy": "2023-10-08T14:40:29.879749Z",
     "iopub.status.idle": "2023-10-08T14:40:43.793852Z",
     "shell.execute_reply": "2023-10-08T14:40:43.792429Z"
    },
    "papermill": {
     "duration": 13.959852,
     "end_time": "2023-10-08T14:40:43.796520",
     "exception": false,
     "start_time": "2023-10-08T14:40:29.836668",
     "status": "completed"
    },
    "tags": []
   },
   "outputs": [
    {
     "name": "stdout",
     "output_type": "stream",
     "text": [
      "Fitting 1 folds for each of 360 candidates, totalling 360 fits\n"
     ]
    },
    {
     "data": {
      "text/html": [
       "<style>#sk-container-id-2 {color: black;background-color: white;}#sk-container-id-2 pre{padding: 0;}#sk-container-id-2 div.sk-toggleable {background-color: white;}#sk-container-id-2 label.sk-toggleable__label {cursor: pointer;display: block;width: 100%;margin-bottom: 0;padding: 0.3em;box-sizing: border-box;text-align: center;}#sk-container-id-2 label.sk-toggleable__label-arrow:before {content: \"▸\";float: left;margin-right: 0.25em;color: #696969;}#sk-container-id-2 label.sk-toggleable__label-arrow:hover:before {color: black;}#sk-container-id-2 div.sk-estimator:hover label.sk-toggleable__label-arrow:before {color: black;}#sk-container-id-2 div.sk-toggleable__content {max-height: 0;max-width: 0;overflow: hidden;text-align: left;background-color: #f0f8ff;}#sk-container-id-2 div.sk-toggleable__content pre {margin: 0.2em;color: black;border-radius: 0.25em;background-color: #f0f8ff;}#sk-container-id-2 input.sk-toggleable__control:checked~div.sk-toggleable__content {max-height: 200px;max-width: 100%;overflow: auto;}#sk-container-id-2 input.sk-toggleable__control:checked~label.sk-toggleable__label-arrow:before {content: \"▾\";}#sk-container-id-2 div.sk-estimator input.sk-toggleable__control:checked~label.sk-toggleable__label {background-color: #d4ebff;}#sk-container-id-2 div.sk-label input.sk-toggleable__control:checked~label.sk-toggleable__label {background-color: #d4ebff;}#sk-container-id-2 input.sk-hidden--visually {border: 0;clip: rect(1px 1px 1px 1px);clip: rect(1px, 1px, 1px, 1px);height: 1px;margin: -1px;overflow: hidden;padding: 0;position: absolute;width: 1px;}#sk-container-id-2 div.sk-estimator {font-family: monospace;background-color: #f0f8ff;border: 1px dotted black;border-radius: 0.25em;box-sizing: border-box;margin-bottom: 0.5em;}#sk-container-id-2 div.sk-estimator:hover {background-color: #d4ebff;}#sk-container-id-2 div.sk-parallel-item::after {content: \"\";width: 100%;border-bottom: 1px solid gray;flex-grow: 1;}#sk-container-id-2 div.sk-label:hover label.sk-toggleable__label {background-color: #d4ebff;}#sk-container-id-2 div.sk-serial::before {content: \"\";position: absolute;border-left: 1px solid gray;box-sizing: border-box;top: 0;bottom: 0;left: 50%;z-index: 0;}#sk-container-id-2 div.sk-serial {display: flex;flex-direction: column;align-items: center;background-color: white;padding-right: 0.2em;padding-left: 0.2em;position: relative;}#sk-container-id-2 div.sk-item {position: relative;z-index: 1;}#sk-container-id-2 div.sk-parallel {display: flex;align-items: stretch;justify-content: center;background-color: white;position: relative;}#sk-container-id-2 div.sk-item::before, #sk-container-id-2 div.sk-parallel-item::before {content: \"\";position: absolute;border-left: 1px solid gray;box-sizing: border-box;top: 0;bottom: 0;left: 50%;z-index: -1;}#sk-container-id-2 div.sk-parallel-item {display: flex;flex-direction: column;z-index: 1;position: relative;background-color: white;}#sk-container-id-2 div.sk-parallel-item:first-child::after {align-self: flex-end;width: 50%;}#sk-container-id-2 div.sk-parallel-item:last-child::after {align-self: flex-start;width: 50%;}#sk-container-id-2 div.sk-parallel-item:only-child::after {width: 0;}#sk-container-id-2 div.sk-dashed-wrapped {border: 1px dashed gray;margin: 0 0.4em 0.5em 0.4em;box-sizing: border-box;padding-bottom: 0.4em;background-color: white;}#sk-container-id-2 div.sk-label label {font-family: monospace;font-weight: bold;display: inline-block;line-height: 1.2em;}#sk-container-id-2 div.sk-label-container {text-align: center;}#sk-container-id-2 div.sk-container {/* jupyter's `normalize.less` sets `[hidden] { display: none; }` but bootstrap.min.css set `[hidden] { display: none !important; }` so we also need the `!important` here to be able to override the default hidden behavior on the sphinx rendered scikit-learn.org. See: https://github.com/scikit-learn/scikit-learn/issues/21755 */display: inline-block !important;position: relative;}#sk-container-id-2 div.sk-text-repr-fallback {display: none;}</style><div id=\"sk-container-id-2\" class=\"sk-top-container\"><div class=\"sk-text-repr-fallback\"><pre>GridSearchCV(cv=PredefinedSplit(test_fold=array([-1, -1, ..., -1, -1])),\n",
       "             estimator=RandomForestClassifier(random_state=0), n_jobs=-1,\n",
       "             param_grid={&#x27;max_depth&#x27;: [8, 10, 14, 20], &#x27;max_features&#x27;: [&#x27;sqrt&#x27;],\n",
       "                         &#x27;max_samples&#x27;: [0.5, 0.9],\n",
       "                         &#x27;min_samples_leaf&#x27;: [0.25, 0.5, 1],\n",
       "                         &#x27;min_samples_split&#x27;: [0.001, 0.01, 0.05],\n",
       "                         &#x27;n_estimators&#x27;: [20, 40, 60, 80, 100]},\n",
       "             refit=&#x27;f1&#x27;, verbose=1)</pre><b>In a Jupyter environment, please rerun this cell to show the HTML representation or trust the notebook. <br />On GitHub, the HTML representation is unable to render, please try loading this page with nbviewer.org.</b></div><div class=\"sk-container\" hidden><div class=\"sk-item sk-dashed-wrapped\"><div class=\"sk-label-container\"><div class=\"sk-label sk-toggleable\"><input class=\"sk-toggleable__control sk-hidden--visually\" id=\"sk-estimator-id-2\" type=\"checkbox\" ><label for=\"sk-estimator-id-2\" class=\"sk-toggleable__label sk-toggleable__label-arrow\">GridSearchCV</label><div class=\"sk-toggleable__content\"><pre>GridSearchCV(cv=PredefinedSplit(test_fold=array([-1, -1, ..., -1, -1])),\n",
       "             estimator=RandomForestClassifier(random_state=0), n_jobs=-1,\n",
       "             param_grid={&#x27;max_depth&#x27;: [8, 10, 14, 20], &#x27;max_features&#x27;: [&#x27;sqrt&#x27;],\n",
       "                         &#x27;max_samples&#x27;: [0.5, 0.9],\n",
       "                         &#x27;min_samples_leaf&#x27;: [0.25, 0.5, 1],\n",
       "                         &#x27;min_samples_split&#x27;: [0.001, 0.01, 0.05],\n",
       "                         &#x27;n_estimators&#x27;: [20, 40, 60, 80, 100]},\n",
       "             refit=&#x27;f1&#x27;, verbose=1)</pre></div></div></div><div class=\"sk-parallel\"><div class=\"sk-parallel-item\"><div class=\"sk-item\"><div class=\"sk-label-container\"><div class=\"sk-label sk-toggleable\"><input class=\"sk-toggleable__control sk-hidden--visually\" id=\"sk-estimator-id-3\" type=\"checkbox\" ><label for=\"sk-estimator-id-3\" class=\"sk-toggleable__label sk-toggleable__label-arrow\">estimator: RandomForestClassifier</label><div class=\"sk-toggleable__content\"><pre>RandomForestClassifier(random_state=0)</pre></div></div></div><div class=\"sk-serial\"><div class=\"sk-item\"><div class=\"sk-estimator sk-toggleable\"><input class=\"sk-toggleable__control sk-hidden--visually\" id=\"sk-estimator-id-4\" type=\"checkbox\" ><label for=\"sk-estimator-id-4\" class=\"sk-toggleable__label sk-toggleable__label-arrow\">RandomForestClassifier</label><div class=\"sk-toggleable__content\"><pre>RandomForestClassifier(random_state=0)</pre></div></div></div></div></div></div></div></div></div></div>"
      ],
      "text/plain": [
       "GridSearchCV(cv=PredefinedSplit(test_fold=array([-1, -1, ..., -1, -1])),\n",
       "             estimator=RandomForestClassifier(random_state=0), n_jobs=-1,\n",
       "             param_grid={'max_depth': [8, 10, 14, 20], 'max_features': ['sqrt'],\n",
       "                         'max_samples': [0.5, 0.9],\n",
       "                         'min_samples_leaf': [0.25, 0.5, 1],\n",
       "                         'min_samples_split': [0.001, 0.01, 0.05],\n",
       "                         'n_estimators': [20, 40, 60, 80, 100]},\n",
       "             refit='f1', verbose=1)"
      ]
     },
     "execution_count": 41,
     "metadata": {},
     "output_type": "execute_result"
    }
   ],
   "source": [
    "rf.fit(x_train, y_train)"
   ]
  },
  {
   "cell_type": "code",
   "execution_count": 42,
   "id": "567e428c",
   "metadata": {
    "execution": {
     "iopub.execute_input": "2023-10-08T14:40:43.883740Z",
     "iopub.status.busy": "2023-10-08T14:40:43.883384Z",
     "iopub.status.idle": "2023-10-08T14:40:43.889039Z",
     "shell.execute_reply": "2023-10-08T14:40:43.888373Z"
    },
    "papermill": {
     "duration": 0.051661,
     "end_time": "2023-10-08T14:40:43.891096",
     "exception": false,
     "start_time": "2023-10-08T14:40:43.839435",
     "status": "completed"
    },
    "tags": []
   },
   "outputs": [
    {
     "data": {
      "text/plain": [
       "{'max_depth': 20,\n",
       " 'max_features': 'sqrt',\n",
       " 'max_samples': 0.9,\n",
       " 'min_samples_leaf': 1,\n",
       " 'min_samples_split': 0.001,\n",
       " 'n_estimators': 20}"
      ]
     },
     "execution_count": 42,
     "metadata": {},
     "output_type": "execute_result"
    }
   ],
   "source": [
    "rf.best_params_"
   ]
  },
  {
   "cell_type": "code",
   "execution_count": 43,
   "id": "23713c34",
   "metadata": {
    "execution": {
     "iopub.execute_input": "2023-10-08T14:40:43.979362Z",
     "iopub.status.busy": "2023-10-08T14:40:43.978139Z",
     "iopub.status.idle": "2023-10-08T14:40:43.984144Z",
     "shell.execute_reply": "2023-10-08T14:40:43.983198Z"
    },
    "papermill": {
     "duration": 0.051627,
     "end_time": "2023-10-08T14:40:43.985950",
     "exception": false,
     "start_time": "2023-10-08T14:40:43.934323",
     "status": "completed"
    },
    "tags": []
   },
   "outputs": [],
   "source": [
    "# using optimal paramters for grid search cross validation\n",
    "rf_op = RandomForestClassifier(n_estimators = 20, max_depth = 20, max_features = 'sqrt', max_samples = 0.9, min_samples_leaf = 1, \n",
    "                              min_samples_split = 0.001, random_state = 0)"
   ]
  },
  {
   "cell_type": "code",
   "execution_count": 44,
   "id": "83a92a81",
   "metadata": {
    "execution": {
     "iopub.execute_input": "2023-10-08T14:40:44.074278Z",
     "iopub.status.busy": "2023-10-08T14:40:44.073692Z",
     "iopub.status.idle": "2023-10-08T14:40:44.129246Z",
     "shell.execute_reply": "2023-10-08T14:40:44.128074Z"
    },
    "papermill": {
     "duration": 0.102866,
     "end_time": "2023-10-08T14:40:44.131527",
     "exception": false,
     "start_time": "2023-10-08T14:40:44.028661",
     "status": "completed"
    },
    "tags": []
   },
   "outputs": [
    {
     "data": {
      "text/html": [
       "<style>#sk-container-id-3 {color: black;background-color: white;}#sk-container-id-3 pre{padding: 0;}#sk-container-id-3 div.sk-toggleable {background-color: white;}#sk-container-id-3 label.sk-toggleable__label {cursor: pointer;display: block;width: 100%;margin-bottom: 0;padding: 0.3em;box-sizing: border-box;text-align: center;}#sk-container-id-3 label.sk-toggleable__label-arrow:before {content: \"▸\";float: left;margin-right: 0.25em;color: #696969;}#sk-container-id-3 label.sk-toggleable__label-arrow:hover:before {color: black;}#sk-container-id-3 div.sk-estimator:hover label.sk-toggleable__label-arrow:before {color: black;}#sk-container-id-3 div.sk-toggleable__content {max-height: 0;max-width: 0;overflow: hidden;text-align: left;background-color: #f0f8ff;}#sk-container-id-3 div.sk-toggleable__content pre {margin: 0.2em;color: black;border-radius: 0.25em;background-color: #f0f8ff;}#sk-container-id-3 input.sk-toggleable__control:checked~div.sk-toggleable__content {max-height: 200px;max-width: 100%;overflow: auto;}#sk-container-id-3 input.sk-toggleable__control:checked~label.sk-toggleable__label-arrow:before {content: \"▾\";}#sk-container-id-3 div.sk-estimator input.sk-toggleable__control:checked~label.sk-toggleable__label {background-color: #d4ebff;}#sk-container-id-3 div.sk-label input.sk-toggleable__control:checked~label.sk-toggleable__label {background-color: #d4ebff;}#sk-container-id-3 input.sk-hidden--visually {border: 0;clip: rect(1px 1px 1px 1px);clip: rect(1px, 1px, 1px, 1px);height: 1px;margin: -1px;overflow: hidden;padding: 0;position: absolute;width: 1px;}#sk-container-id-3 div.sk-estimator {font-family: monospace;background-color: #f0f8ff;border: 1px dotted black;border-radius: 0.25em;box-sizing: border-box;margin-bottom: 0.5em;}#sk-container-id-3 div.sk-estimator:hover {background-color: #d4ebff;}#sk-container-id-3 div.sk-parallel-item::after {content: \"\";width: 100%;border-bottom: 1px solid gray;flex-grow: 1;}#sk-container-id-3 div.sk-label:hover label.sk-toggleable__label {background-color: #d4ebff;}#sk-container-id-3 div.sk-serial::before {content: \"\";position: absolute;border-left: 1px solid gray;box-sizing: border-box;top: 0;bottom: 0;left: 50%;z-index: 0;}#sk-container-id-3 div.sk-serial {display: flex;flex-direction: column;align-items: center;background-color: white;padding-right: 0.2em;padding-left: 0.2em;position: relative;}#sk-container-id-3 div.sk-item {position: relative;z-index: 1;}#sk-container-id-3 div.sk-parallel {display: flex;align-items: stretch;justify-content: center;background-color: white;position: relative;}#sk-container-id-3 div.sk-item::before, #sk-container-id-3 div.sk-parallel-item::before {content: \"\";position: absolute;border-left: 1px solid gray;box-sizing: border-box;top: 0;bottom: 0;left: 50%;z-index: -1;}#sk-container-id-3 div.sk-parallel-item {display: flex;flex-direction: column;z-index: 1;position: relative;background-color: white;}#sk-container-id-3 div.sk-parallel-item:first-child::after {align-self: flex-end;width: 50%;}#sk-container-id-3 div.sk-parallel-item:last-child::after {align-self: flex-start;width: 50%;}#sk-container-id-3 div.sk-parallel-item:only-child::after {width: 0;}#sk-container-id-3 div.sk-dashed-wrapped {border: 1px dashed gray;margin: 0 0.4em 0.5em 0.4em;box-sizing: border-box;padding-bottom: 0.4em;background-color: white;}#sk-container-id-3 div.sk-label label {font-family: monospace;font-weight: bold;display: inline-block;line-height: 1.2em;}#sk-container-id-3 div.sk-label-container {text-align: center;}#sk-container-id-3 div.sk-container {/* jupyter's `normalize.less` sets `[hidden] { display: none; }` but bootstrap.min.css set `[hidden] { display: none !important; }` so we also need the `!important` here to be able to override the default hidden behavior on the sphinx rendered scikit-learn.org. See: https://github.com/scikit-learn/scikit-learn/issues/21755 */display: inline-block !important;position: relative;}#sk-container-id-3 div.sk-text-repr-fallback {display: none;}</style><div id=\"sk-container-id-3\" class=\"sk-top-container\"><div class=\"sk-text-repr-fallback\"><pre>RandomForestClassifier(max_depth=20, max_samples=0.9, min_samples_split=0.001,\n",
       "                       n_estimators=20, random_state=0)</pre><b>In a Jupyter environment, please rerun this cell to show the HTML representation or trust the notebook. <br />On GitHub, the HTML representation is unable to render, please try loading this page with nbviewer.org.</b></div><div class=\"sk-container\" hidden><div class=\"sk-item\"><div class=\"sk-estimator sk-toggleable\"><input class=\"sk-toggleable__control sk-hidden--visually\" id=\"sk-estimator-id-5\" type=\"checkbox\" checked><label for=\"sk-estimator-id-5\" class=\"sk-toggleable__label sk-toggleable__label-arrow\">RandomForestClassifier</label><div class=\"sk-toggleable__content\"><pre>RandomForestClassifier(max_depth=20, max_samples=0.9, min_samples_split=0.001,\n",
       "                       n_estimators=20, random_state=0)</pre></div></div></div></div></div>"
      ],
      "text/plain": [
       "RandomForestClassifier(max_depth=20, max_samples=0.9, min_samples_split=0.001,\n",
       "                       n_estimators=20, random_state=0)"
      ]
     },
     "execution_count": 44,
     "metadata": {},
     "output_type": "execute_result"
    }
   ],
   "source": [
    "rf_op.fit(x_train, y_train)"
   ]
  },
  {
   "cell_type": "code",
   "execution_count": 45,
   "id": "768f1d81",
   "metadata": {
    "execution": {
     "iopub.execute_input": "2023-10-08T14:40:44.218827Z",
     "iopub.status.busy": "2023-10-08T14:40:44.218284Z",
     "iopub.status.idle": "2023-10-08T14:40:44.228553Z",
     "shell.execute_reply": "2023-10-08T14:40:44.227734Z"
    },
    "papermill": {
     "duration": 0.056185,
     "end_time": "2023-10-08T14:40:44.230161",
     "exception": false,
     "start_time": "2023-10-08T14:40:44.173976",
     "status": "completed"
    },
    "tags": []
   },
   "outputs": [
    {
     "data": {
      "text/plain": [
       "array([0, 0, 1, 1, 1, 1, 0, 0, 1, 0, 1, 0, 1, 1, 0, 0, 0, 0, 0, 0, 1, 1,\n",
       "       0, 0, 1, 0, 0, 1, 1, 0, 1, 1, 0, 0, 1, 1, 0, 1, 1, 1, 1, 0, 0, 0,\n",
       "       1, 0, 1, 1, 1, 0, 1, 0, 0, 1, 0, 0, 1, 0, 1, 1, 0, 1, 1, 0, 0, 1,\n",
       "       0, 0, 0, 0, 0, 1, 0, 1, 0, 1, 1, 0, 1, 0, 0, 1, 0, 0, 1, 0, 0, 1,\n",
       "       0, 1, 0, 0, 1, 0, 1, 0, 1, 0, 1, 0, 1, 0, 1, 0, 1, 0, 0, 0, 0, 0,\n",
       "       1, 0, 1, 1, 0, 1, 0, 0, 1, 0, 1, 1, 0, 0, 0, 0, 1, 1, 0, 1, 0, 0,\n",
       "       0, 0, 1, 0, 0, 0, 0, 0, 0, 0, 1, 1, 1, 1, 0, 0, 0, 0, 0, 0, 1, 0,\n",
       "       1, 0, 0, 0, 0, 0, 0, 0, 0, 0, 1, 0, 1, 0, 0, 1, 0, 0, 1, 1, 1, 0,\n",
       "       0, 0, 0, 1, 1, 0, 0, 0, 0, 1, 0, 1, 1, 0, 1, 0, 1, 0, 0, 0, 0, 0,\n",
       "       0, 1, 0, 0, 0, 1, 0, 0, 0, 0, 1, 0, 1, 1, 1, 0, 0, 0, 0, 0, 0, 0,\n",
       "       0, 0, 0, 0, 1, 0, 0, 1, 1, 0, 0, 0, 0, 0, 1, 0, 0, 1, 1, 0, 0, 1,\n",
       "       1, 0, 1, 0, 0, 1, 0, 0, 0, 1, 0, 0, 0, 0, 0, 0, 0, 1, 0, 1, 0, 0,\n",
       "       0, 0, 1, 0, 0, 0, 1, 0, 0, 0, 1, 1, 1, 0, 0, 0, 0, 0, 0, 0, 1, 0,\n",
       "       0, 0, 0, 0, 0, 0, 0, 0, 0, 0, 0, 1, 1, 0, 0, 0, 0, 1, 0, 0, 0, 1,\n",
       "       1, 0, 0, 1, 0, 0, 1, 0, 0, 0, 0, 0, 1, 1, 0, 0, 0, 1, 1, 0, 1, 0,\n",
       "       1, 1, 1, 0, 0, 0, 0, 0, 1, 1, 0, 0, 0, 0, 0, 0, 0, 0, 0, 0, 0, 0,\n",
       "       0, 0, 1, 0, 0, 0, 0, 0, 0, 0, 0, 0, 1, 0, 0, 1, 0, 0, 1, 0, 1, 0,\n",
       "       0, 0, 0, 0, 0, 0, 0, 0, 0, 0, 0, 0, 1, 1, 1, 0, 1, 1, 0, 0, 1, 1,\n",
       "       1, 0, 0, 1, 0, 0, 0, 0, 0, 1, 0, 1, 0, 0, 0, 0, 1, 0, 0, 1, 0, 0,\n",
       "       1, 0, 0, 1, 0, 1, 0, 0, 0, 0, 1, 1, 1, 0, 0, 0, 0, 0, 0, 1, 1, 0,\n",
       "       1, 1, 0, 0, 0, 0, 0, 0, 0, 0, 0, 1, 0, 0, 1, 0, 0, 1, 1, 1, 0, 1,\n",
       "       0, 0, 0, 1, 1, 0, 0, 0, 1, 0, 0, 0, 0, 1, 0, 0, 0, 1, 0, 0, 0, 0,\n",
       "       1, 1, 0, 0, 0, 1, 0, 0, 1, 0, 1, 0, 0, 0, 0, 0, 0, 0, 1, 0, 0, 1,\n",
       "       0, 1, 1, 0, 0, 0, 1, 0, 0, 1, 0, 1, 0, 1, 1, 1, 1, 0, 0, 1, 1, 0,\n",
       "       0, 0, 1, 0, 0, 0, 0, 0, 0, 0, 0, 1, 1, 1, 0, 0, 0, 0])"
      ]
     },
     "execution_count": 45,
     "metadata": {},
     "output_type": "execute_result"
    }
   ],
   "source": [
    "y_pred = rf_op.predict(x_test)\n",
    "y_pred"
   ]
  },
  {
   "cell_type": "code",
   "execution_count": 46,
   "id": "0b6007fb",
   "metadata": {
    "execution": {
     "iopub.execute_input": "2023-10-08T14:40:44.316960Z",
     "iopub.status.busy": "2023-10-08T14:40:44.316433Z",
     "iopub.status.idle": "2023-10-08T14:40:44.326845Z",
     "shell.execute_reply": "2023-10-08T14:40:44.325747Z"
    },
    "papermill": {
     "duration": 0.055812,
     "end_time": "2023-10-08T14:40:44.328388",
     "exception": false,
     "start_time": "2023-10-08T14:40:44.272576",
     "status": "completed"
    },
    "tags": []
   },
   "outputs": [
    {
     "name": "stdout",
     "output_type": "stream",
     "text": [
      "Accuracy: 0.984\n",
      "Precision: 0.995\n",
      "recall: 0.958\n",
      "F1 Score: 0.976\n"
     ]
    }
   ],
   "source": [
    "# evaluating the model using metrics\n",
    "print(f\"Accuracy: {round(accuracy_score(y_test, y_pred),3)}\")\n",
    "print(f\"Precision: {round(precision_score(y_test, y_pred),3)}\")\n",
    "print(f\"recall: {round(recall_score(y_test, y_pred),3)}\")\n",
    "print(f\"F1 Score: {round(f1_score(y_test, y_pred),3)}\")"
   ]
  },
  {
   "cell_type": "code",
   "execution_count": 47,
   "id": "8337a635",
   "metadata": {
    "execution": {
     "iopub.execute_input": "2023-10-08T14:40:44.418099Z",
     "iopub.status.busy": "2023-10-08T14:40:44.417426Z",
     "iopub.status.idle": "2023-10-08T14:40:44.611640Z",
     "shell.execute_reply": "2023-10-08T14:40:44.610835Z"
    },
    "papermill": {
     "duration": 0.241143,
     "end_time": "2023-10-08T14:40:44.613057",
     "exception": false,
     "start_time": "2023-10-08T14:40:44.371914",
     "status": "completed"
    },
    "tags": []
   },
   "outputs": [
    {
     "data": {
      "text/plain": [
       "<sklearn.metrics._plot.confusion_matrix.ConfusionMatrixDisplay at 0x17b0e4c90>"
      ]
     },
     "execution_count": 47,
     "metadata": {},
     "output_type": "execute_result"
    },
    {
     "data": {
      "image/png": "[encoded data removed]",
      "text/plain": [
       "<Figure size 640x480 with 2 Axes>"
      ]
     },
     "metadata": {},
     "output_type": "display_data"
    }
   ],
   "source": [
    "cm = confusion_matrix(y_test, y_pred)\n",
    "disp = ConfusionMatrixDisplay(confusion_matrix = cm, display_labels = rf_op.classes_)\n",
    "                              \n",
    "disp.plot()"
   ]
  },
  {
   "cell_type": "markdown",
   "id": "d31e3543",
   "metadata": {
    "papermill": {
     "duration": 0.042681,
     "end_time": "2023-10-08T14:40:44.699123",
     "exception": false,
     "start_time": "2023-10-08T14:40:44.656442",
     "status": "completed"
    },
    "tags": []
   },
   "source": [
    "# 7. Conclusion"
   ]
  },
  {
   "cell_type": "markdown",
   "id": "6de89a9e",
   "metadata": {
    "papermill": {
     "duration": 0.043774,
     "end_time": "2023-10-08T14:40:44.786420",
     "exception": false,
     "start_time": "2023-10-08T14:40:44.742646",
     "status": "completed"
    },
    "tags": []
   },
   "source": [
    "In conclusion, the model exhibits strong performance across multiple evaluation metrics:\n",
    "\n",
    "- Accuracy: 0.984, indicating a high overall correctness in its predictions.\n",
    "- Precision: 0.995, demonstrating a high ability to correctly identify positive cases without many false positives.\n",
    "- Recall: 0.958, highlighting the model's capability to capture a significant portion of true positive cases.\n",
    "- F1 Score: 0.976, representing a balanced measure that combines precision and recall effectively.\n",
    "- These results suggest that the model is robust and proficient in its task, achieving a high degree of accuracy and precision while maintaining a respectable recall rate."
   ]
  }
 ],
 "metadata": {
  "kernelspec": {
   "display_name": "Python 3 (ipykernel)",
   "language": "python",
   "name": "python3"
  },
  "language_info": {
   "codemirror_mode": {
    "name": "ipython",
    "version": 3
   },
   "file_extension": ".py",
   "mimetype": "text/x-python",
   "name": "python",
   "nbconvert_exporter": "python",
   "pygments_lexer": "ipython3",
   "version": "3.11.3"
  },
  "papermill": {
   "default_parameters": {},
   "duration": 64.172338,
   "end_time": "2023-10-08T14:40:47.449609",
   "environment_variables": {},
   "exception": null,
   "input_path": "__notebook__.ipynb",
   "output_path": "__notebook__.ipynb",
   "parameters": {},
   "start_time": "2023-10-08T14:39:43.277271",
   "version": "2.4.0"
  }
 },
 "nbformat": 4,
 "nbformat_minor": 5
}
